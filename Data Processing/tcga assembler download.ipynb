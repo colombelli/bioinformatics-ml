{
 "cells": [
  {
   "cell_type": "code",
   "execution_count": 1,
   "metadata": {},
   "outputs": [],
   "source": [
    "setwd(\"/home/colombelli/Documents/TCGA-Assembler-2/TCGA-Assembler/\")"
   ]
  },
  {
   "cell_type": "code",
   "execution_count": 2,
   "metadata": {},
   "outputs": [],
   "source": [
    "source(\"Module_A.R\")\n",
    "path <- \"/home/colombelli/Documents/datasets/assembler/luad/\""
   ]
  },
  {
   "cell_type": "code",
   "execution_count": 9,
   "metadata": {},
   "outputs": [
    {
     "name": "stdout",
     "output_type": "stream",
     "text": [
      "[1] \"metadata file: preparing ...\"\n",
      "[1] \"metadata file: preparing done!\"\n",
      "[1] \"*.tar.gz file: downloading & unzipping ...\"\n",
      "[1] \"*.tar.gz file: downloading & unzipping done!\"\n",
      "[1] \"merging files: merging unzipped data files ...\"\n",
      "[1] \"merging files: merging unzipped data files done!\"\n"
     ]
    },
    {
     "data": {
      "text/html": [
       "<strong>gene.normalized_RNAseq:</strong> '/home/colombelli/Documents/datasets/cumida/luad//LUAD__gene.normalized_RNAseq__tissueTypeAll__20200822175257.txt'"
      ],
      "text/latex": [
       "\\textbf{gene.normalized\\textbackslash{}\\_RNAseq:} '/home/colombelli/Documents/datasets/cumida/luad//LUAD\\_\\_gene.normalized\\_RNAseq\\_\\_tissueTypeAll\\_\\_20200822175257.txt'"
      ],
      "text/markdown": [
       "**gene.normalized_RNAseq:** '/home/colombelli/Documents/datasets/cumida/luad//LUAD__gene.normalized_RNAseq__tissueTypeAll__20200822175257.txt'"
      ],
      "text/plain": [
       "                                                                                            gene.normalized_RNAseq \n",
       "\"/home/colombelli/Documents/datasets/cumida/luad//LUAD__gene.normalized_RNAseq__tissueTypeAll__20200822175257.txt\" "
      ]
     },
     "metadata": {},
     "output_type": "display_data"
    }
   ],
   "source": [
    "DownloadRNASeqData(\"LUAD\", assayPlatform = \"gene.normalized_RNAseq\", saveFolderName = path)"
   ]
  },
  {
   "cell_type": "code",
   "execution_count": 3,
   "metadata": {},
   "outputs": [
    {
     "name": "stdout",
     "output_type": "stream",
     "text": [
      "[1] \"metadata file: preparing ...\"\n",
      "[1] \"metadata file: preparing done!\"\n",
      "[1] \"*.tar.gz file: downloading & unzipping ...\"\n",
      "[1] \"*.tar.gz file: downloading & unzipping done!\"\n",
      "[1] \"merging files: merging unzipped data files ...\"\n",
      "[1] \"merging files: merging unzipped data files done!\"\n"
     ]
    },
    {
     "data": {
      "text/html": [
       "<strong>gene_Array:</strong> '/home/colombelli/Documents/datasets/cumida/luad//LUAD__gene_Array__tissueTypeAll__20201020150206.txt'"
      ],
      "text/latex": [
       "\\textbf{gene\\textbackslash{}\\_Array:} '/home/colombelli/Documents/datasets/cumida/luad//LUAD\\_\\_gene\\_Array\\_\\_tissueTypeAll\\_\\_20201020150206.txt'"
      ],
      "text/markdown": [
       "**gene_Array:** '/home/colombelli/Documents/datasets/cumida/luad//LUAD__gene_Array__tissueTypeAll__20201020150206.txt'"
      ],
      "text/plain": [
       "                                                                                            gene_Array \n",
       "\"/home/colombelli/Documents/datasets/cumida/luad//LUAD__gene_Array__tissueTypeAll__20201020150206.txt\" "
      ]
     },
     "metadata": {},
     "output_type": "display_data"
    }
   ],
   "source": [
    "DownloadRNASeqData(\"LUAD\", assayPlatform = \"gene_Array\", saveFolderName = path)"
   ]
  },
  {
   "cell_type": "code",
   "execution_count": 10,
   "metadata": {},
   "outputs": [
    {
     "name": "stdout",
     "output_type": "stream",
     "text": [
      "[1] \"metadata file: preparing ...\"\n",
      "[1] \"metadata file: preparing done!\"\n",
      "[1] \"*.tar.gz file: downloading & unzipping ...\"\n",
      "[1] \"*.tar.gz file: downloading & unzipping done!\"\n",
      "[1] \"merging files: merging unzipped data files ...\"\n",
      "[1] \"merging files: merging unzipped data files done!\"\n"
     ]
    },
    {
     "data": {
      "text/html": [
       "<strong>gene.normalized_RNAseq:</strong> '/home/colombelli/Documents/datasets/assembler/prad//PRAD__gene.normalized_RNAseq__tissueTypeAll__20200822180034.txt'"
      ],
      "text/latex": [
       "\\textbf{gene.normalized\\textbackslash{}\\_RNAseq:} '/home/colombelli/Documents/datasets/assembler/prad//PRAD\\_\\_gene.normalized\\_RNAseq\\_\\_tissueTypeAll\\_\\_20200822180034.txt'"
      ],
      "text/markdown": [
       "**gene.normalized_RNAseq:** '/home/colombelli/Documents/datasets/assembler/prad//PRAD__gene.normalized_RNAseq__tissueTypeAll__20200822180034.txt'"
      ],
      "text/plain": [
       "                                                                                               gene.normalized_RNAseq \n",
       "\"/home/colombelli/Documents/datasets/assembler/prad//PRAD__gene.normalized_RNAseq__tissueTypeAll__20200822180034.txt\" "
      ]
     },
     "metadata": {},
     "output_type": "display_data"
    }
   ],
   "source": [
    "path <- \"/home/colombelli/Documents/datasets/assembler/prad/\"\n",
    "DownloadRNASeqData(\"PRAD\", assayPlatform = \"gene.normalized_RNAseq\", saveFolderName = path)"
   ]
  },
  {
   "cell_type": "code",
   "execution_count": 4,
   "metadata": {},
   "outputs": [
    {
     "name": "stdout",
     "output_type": "stream",
     "text": [
      "[1] \"metadata file: preparing ...\"\n",
      "[1] \"no lines available in input\"\n",
      "[1] \"metadata file: preparing done!\"\n"
     ]
    },
    {
     "data": {
      "text/html": [
       "<strong>gene_Array:</strong> &lt;NA&gt;"
      ],
      "text/latex": [
       "\\textbf{gene\\textbackslash{}\\_Array:} <NA>"
      ],
      "text/markdown": [
       "**gene_Array:** &lt;NA&gt;"
      ],
      "text/plain": [
       "gene_Array \n",
       "        NA "
      ]
     },
     "metadata": {},
     "output_type": "display_data"
    }
   ],
   "source": [
    "path <- \"/home/colombelli/Documents/datasets/assembler/prad/\"\n",
    "DownloadRNASeqData(\"PRAD\", assayPlatform = \"gene_Array\", saveFolderName = path)"
   ]
  },
  {
   "cell_type": "code",
   "execution_count": 11,
   "metadata": {},
   "outputs": [
    {
     "name": "stdout",
     "output_type": "stream",
     "text": [
      "[1] \"metadata file: preparing ...\"\n",
      "[1] \"metadata file: preparing done!\"\n",
      "[1] \"*.tar.gz file: downloading & unzipping ...\"\n",
      "[1] \"*.tar.gz file: downloading & unzipping done!\"\n",
      "[1] \"merging files: merging unzipped data files ...\"\n",
      "[1] \"merging files: merging unzipped data files done!\"\n"
     ]
    },
    {
     "data": {
      "text/html": [
       "<strong>gene.normalized_RNAseq:</strong> '/home/colombelli/Documents/datasets/assembler/thca//THCA__gene.normalized_RNAseq__tissueTypeAll__20200822180826.txt'"
      ],
      "text/latex": [
       "\\textbf{gene.normalized\\textbackslash{}\\_RNAseq:} '/home/colombelli/Documents/datasets/assembler/thca//THCA\\_\\_gene.normalized\\_RNAseq\\_\\_tissueTypeAll\\_\\_20200822180826.txt'"
      ],
      "text/markdown": [
       "**gene.normalized_RNAseq:** '/home/colombelli/Documents/datasets/assembler/thca//THCA__gene.normalized_RNAseq__tissueTypeAll__20200822180826.txt'"
      ],
      "text/plain": [
       "                                                                                               gene.normalized_RNAseq \n",
       "\"/home/colombelli/Documents/datasets/assembler/thca//THCA__gene.normalized_RNAseq__tissueTypeAll__20200822180826.txt\" "
      ]
     },
     "metadata": {},
     "output_type": "display_data"
    }
   ],
   "source": [
    "path <- \"/home/colombelli/Documents/datasets/assembler/thca/\"\n",
    "DownloadRNASeqData(\"THCA\", assayPlatform = \"gene.normalized_RNAseq\", saveFolderName = path)"
   ]
  },
  {
   "cell_type": "code",
   "execution_count": 5,
   "metadata": {},
   "outputs": [
    {
     "name": "stdout",
     "output_type": "stream",
     "text": [
      "[1] \"metadata file: preparing ...\"\n",
      "[1] \"metadata file: preparing done!\"\n",
      "[1] \"*.tar.gz file: downloading & unzipping ...\"\n",
      "[1] \"*.tar.gz file: downloading & unzipping done!\"\n",
      "[1] \"merging files: merging unzipped data files ...\"\n",
      "[1] \"merging files: merging unzipped data files done!\"\n"
     ]
    },
    {
     "data": {
      "text/html": [
       "<strong>gene_Array:</strong> '/home/colombelli/Documents/datasets/assembler//BRCA__gene_Array__tissueTypeAll__20201020151509.txt'"
      ],
      "text/latex": [
       "\\textbf{gene\\textbackslash{}\\_Array:} '/home/colombelli/Documents/datasets/assembler//BRCA\\_\\_gene\\_Array\\_\\_tissueTypeAll\\_\\_20201020151509.txt'"
      ],
      "text/markdown": [
       "**gene_Array:** '/home/colombelli/Documents/datasets/assembler//BRCA__gene_Array__tissueTypeAll__20201020151509.txt'"
      ],
      "text/plain": [
       "                                                                                          gene_Array \n",
       "\"/home/colombelli/Documents/datasets/assembler//BRCA__gene_Array__tissueTypeAll__20201020151509.txt\" "
      ]
     },
     "metadata": {},
     "output_type": "display_data"
    }
   ],
   "source": [
    "path <- \"/home/colombelli/Documents/datasets/assembler/\"\n",
    "DownloadRNASeqData(\"BRCA\", assayPlatform = \"gene_Array\", saveFolderName = path)"
   ]
  },
  {
   "cell_type": "code",
   "execution_count": null,
   "metadata": {},
   "outputs": [],
   "source": []
  }
 ],
 "metadata": {
  "kernelspec": {
   "display_name": "R",
   "language": "R",
   "name": "ir"
  },
  "language_info": {
   "codemirror_mode": "r",
   "file_extension": ".r",
   "mimetype": "text/x-r-source",
   "name": "R",
   "pygments_lexer": "r",
   "version": "4.0.2"
  }
 },
 "nbformat": 4,
 "nbformat_minor": 4
}
