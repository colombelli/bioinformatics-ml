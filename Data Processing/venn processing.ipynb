{
 "cells": [
  {
   "cell_type": "code",
   "execution_count": 1,
   "metadata": {},
   "outputs": [],
   "source": [
    "#RNA-seq TCGA\n",
    "#Microarray TCGA\n",
    "#GSE42568\n",
    "#GSE70947\n",
    "\n",
    "import pandas as pd\n",
    "import pickle\n",
    "import numpy as np"
   ]
  },
  {
   "cell_type": "code",
   "execution_count": 2,
   "metadata": {},
   "outputs": [],
   "source": [
    "def save_gene_list(gene_list, file_name):\n",
    "    \n",
    "    with open(\"/home/colombelli/Documents/datasets/gene_lists/\" + file_name, 'w') as f:\n",
    "        for item in gene_list[0:-1]:\n",
    "            f.write(\"%s\\n\" % item.upper())\n",
    "    \n",
    "    return"
   ]
  },
  {
   "cell_type": "code",
   "execution_count": 9,
   "metadata": {},
   "outputs": [],
   "source": [
    "def save_barcode_list(barcode_list, file_name, vial=True):\n",
    "    \n",
    "    str_barcodes = []\n",
    "    \n",
    "    for barcode in barcode_list:\n",
    "        pieces = barcode.split('-')\n",
    "        str_barcode = pieces[1] + '-' + pieces[2] + '-' + pieces[3]\n",
    "        \n",
    "        if vial:\n",
    "            str_barcodes.append(str_barcode)\n",
    "        else:\n",
    "            str_barcodes.append(str_barcode[0:-1])\n",
    "    \n",
    "    \n",
    "    with open(\"/home/colombelli/Documents/datasets/barcode_lists/\" + file_name, 'w') as f:\n",
    "        for item in str_barcodes:\n",
    "            f.write(\"%s\\n\" % item.upper())\n",
    "    \n",
    "    return"
   ]
  },
  {
   "cell_type": "code",
   "execution_count": 12,
   "metadata": {},
   "outputs": [],
   "source": [
    "folder_rodrigo = \"/home/colombelli/Documents/datasets/rodrigo_proc/\"\n",
    "file_name = \"GSE70947.csv\"\n",
    "\n",
    "df = pd.read_csv(folder_rodrigo+file_name, index_col=0)\n",
    "save_gene_list(list(df.columns), \"gse70947.txt\")"
   ]
  },
  {
   "cell_type": "code",
   "execution_count": 13,
   "metadata": {},
   "outputs": [],
   "source": [
    "folder_rodrigo = \"/home/colombelli/Documents/datasets/rodrigo_proc/\"\n",
    "file_name = \"GSE42568.csv\"\n",
    "\n",
    "df = pd.read_csv(folder_rodrigo+file_name, index_col=0)\n",
    "save_gene_list(list(df.columns), \"gse42568.txt\")"
   ]
  },
  {
   "cell_type": "code",
   "execution_count": 14,
   "metadata": {},
   "outputs": [],
   "source": [
    "folder_tcga = \"/home/colombelli/Documents/datasets/assembler/\"\n",
    "file_name = \"brca_rna_symb.csv\"\n",
    "\n",
    "df = pd.read_csv(folder_tcga+file_name, index_col=0)\n",
    "save_gene_list(list(df.columns), \"tcga_rnaseq.txt\")"
   ]
  },
  {
   "cell_type": "code",
   "execution_count": 11,
   "metadata": {},
   "outputs": [],
   "source": [
    "folder_tcga = \"/home/colombelli/Documents/datasets/assembler/\"\n",
    "file_name = \"brca_microarray_no_drops.csv\"\n",
    "\n",
    "df = pd.read_csv(folder_tcga+file_name, index_col=0)\n",
    "save_gene_list(list(df.columns), \"tcga_microarray.txt\")"
   ]
  },
  {
   "cell_type": "code",
   "execution_count": 16,
   "metadata": {},
   "outputs": [],
   "source": [
    "folder_tcga = \"/home/colombelli/Documents/datasets/assembler/\"\n",
    "file_name = \"brca_rna_symb.csv\"\n",
    "\n",
    "df = pd.read_csv(folder_tcga+file_name, index_col=0)"
   ]
  },
  {
   "cell_type": "code",
   "execution_count": 10,
   "metadata": {},
   "outputs": [],
   "source": [
    "save_barcode_list(list(df.index), \"rnaseq_vial.txt\")\n",
    "save_barcode_list(list(df.index), \"rnaseq_no_vial.txt\", False)"
   ]
  },
  {
   "cell_type": "code",
   "execution_count": 17,
   "metadata": {},
   "outputs": [],
   "source": [
    "folder_tcga = \"/home/colombelli/Documents/datasets/assembler/\"\n",
    "file_name = \"brca_microarray_no_drops.csv\"\n",
    "\n",
    "df = pd.read_csv(folder_tcga+file_name, index_col=0)"
   ]
  },
  {
   "cell_type": "code",
   "execution_count": 18,
   "metadata": {},
   "outputs": [],
   "source": [
    "save_barcode_list(list(df.index), \"micarr_vial.txt\")\n",
    "save_barcode_list(list(df.index), \"micarr_no_vial.txt\", False)"
   ]
  },
  {
   "cell_type": "code",
   "execution_count": 19,
   "metadata": {},
   "outputs": [],
   "source": [
    "def save_barcode_thompson(barcode_list, file_name):\n",
    "    \n",
    "    with open(\"/home/colombelli/Documents/datasets/barcode_lists/\" + file_name, 'w') as f:\n",
    "        for item in barcode_list:\n",
    "            f.write(\"%s\\n\" % item.upper())\n",
    "    \n",
    "    return"
   ]
  },
  {
   "cell_type": "code",
   "execution_count": 20,
   "metadata": {},
   "outputs": [],
   "source": [
    "folder_tcga = \"/home/colombelli/Documents/datasets/assembler/\"\n",
    "file_name = \"brca_microarray_no_drops.csv\"\n",
    "\n",
    "df = pd.read_csv(folder_tcga+file_name, index_col=0)\n",
    "save_barcode_thompson(list(df.index), \"micarr_thompson.txt\")"
   ]
  },
  {
   "cell_type": "code",
   "execution_count": 21,
   "metadata": {},
   "outputs": [],
   "source": [
    "folder_tcga = \"/home/colombelli/Documents/datasets/assembler/\"\n",
    "file_name = \"brca_rna_symb.csv\"\n",
    "\n",
    "df = pd.read_csv(folder_tcga+file_name, index_col=0)\n",
    "save_barcode_thompson(list(df.index), \"rnaseq_thompson.txt\")"
   ]
  },
  {
   "cell_type": "code",
   "execution_count": null,
   "metadata": {},
   "outputs": [],
   "source": []
  }
 ],
 "metadata": {
  "kernelspec": {
   "display_name": "Python 3",
   "language": "python",
   "name": "python3"
  },
  "language_info": {
   "codemirror_mode": {
    "name": "ipython",
    "version": 3
   },
   "file_extension": ".py",
   "mimetype": "text/x-python",
   "name": "python",
   "nbconvert_exporter": "python",
   "pygments_lexer": "ipython3",
   "version": "3.8.3"
  }
 },
 "nbformat": 4,
 "nbformat_minor": 4
}
