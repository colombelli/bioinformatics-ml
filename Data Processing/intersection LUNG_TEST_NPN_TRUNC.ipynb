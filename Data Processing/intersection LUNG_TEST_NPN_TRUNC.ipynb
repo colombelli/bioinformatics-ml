{
 "cells": [
  {
   "cell_type": "code",
   "execution_count": 1,
   "metadata": {},
   "outputs": [],
   "source": [
    "import pandas as pd"
   ]
  },
  {
   "cell_type": "code",
   "execution_count": 4,
   "metadata": {},
   "outputs": [],
   "source": [
    "base = '''/home/colombelli/Documents/datasets/LUNG_TEST_NPN_TRUNC/%s.csv'''\n",
    "names = ['tcga', 'cumida1', 'cumida2', 'cumida3']\n",
    "\n",
    "dfs = {}\n",
    "for name in names:\n",
    "    dfs[name] = pd.read_csv(base%name, index_col=0)"
   ]
  },
  {
   "cell_type": "code",
   "execution_count": 5,
   "metadata": {},
   "outputs": [
    {
     "name": "stdout",
     "output_type": "stream",
     "text": [
      "16698 16699\n"
     ]
    }
   ],
   "source": [
    "genes = []\n",
    "for key in dfs:\n",
    "    g = list(dfs[key].columns)\n",
    "    genes.append(g)\n",
    "    \n",
    "genes_intersec = list(set.intersection(*[set(x) for x in genes])) \n",
    "no_cls = [x for x in genes_intersec if x != 'class']\n",
    "print(len(no_cls), len(genes_intersec))"
   ]
  },
  {
   "cell_type": "code",
   "execution_count": 6,
   "metadata": {},
   "outputs": [],
   "source": [
    "for name in names:\n",
    "    dfs[name].loc[:, no_cls+['class']].to_csv(base%(name+\"_intersect\"))"
   ]
  },
  {
   "cell_type": "code",
   "execution_count": null,
   "metadata": {},
   "outputs": [],
   "source": []
  }
 ],
 "metadata": {
  "kernelspec": {
   "display_name": "Python 3",
   "language": "python",
   "name": "python3"
  },
  "language_info": {
   "codemirror_mode": {
    "name": "ipython",
    "version": 3
   },
   "file_extension": ".py",
   "mimetype": "text/x-python",
   "name": "python",
   "nbconvert_exporter": "python",
   "pygments_lexer": "ipython3",
   "version": "3.8.5"
  }
 },
 "nbformat": 4,
 "nbformat_minor": 4
}
