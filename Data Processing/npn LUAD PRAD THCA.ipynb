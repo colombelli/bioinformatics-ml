{
 "cells": [
  {
   "cell_type": "code",
   "execution_count": 1,
   "metadata": {},
   "outputs": [],
   "source": [
    "library(huge)\n",
    "basedir <- \"/home/colombelli/Documents/datasets/assembler/\""
   ]
  },
  {
   "cell_type": "code",
   "execution_count": 2,
   "metadata": {},
   "outputs": [],
   "source": [
    "process_data <- function(load.path, save.path) {\n",
    "    df <- read.csv(load.path, header=T, row.names=1, sep=\",\")\n",
    "    cls.cols <- df$class\n",
    "    df$class <- NULL\n",
    "    \n",
    "    npn.df <- huge.npn(df, npn.func = \"shrinkage\", npn.thresh = NULL, verbose = TRUE)\n",
    "    npn.df <- as.data.frame(npn.df)\n",
    "    npn.df$class <- cls.cols\n",
    "\n",
    "    write.csv(npn.df, file = save.path, row.names = TRUE)\n",
    "}"
   ]
  },
  {
   "cell_type": "code",
   "execution_count": 10,
   "metadata": {},
   "outputs": [],
   "source": [
    "luad.path <- paste(basedir, \"luad/luad_log2.csv\", sep=\"\")\n",
    "luad.save <- paste(basedir, \"luad/luad_npn.csv\", sep=\"\")\n",
    "\n",
    "prad.path <- paste(basedir, \"prad/prad_log2.csv\", sep=\"\")\n",
    "prad.save <- paste(basedir, \"prad/prad_npn.csv\", sep=\"\")\n",
    "\n",
    "thca.path <- paste(basedir, \"thca/thca_log2.csv\", sep=\"\")\n",
    "thca.save <- paste(basedir, \"thca/thca_npn.csv\", sep=\"\")"
   ]
  },
  {
   "cell_type": "code",
   "execution_count": 11,
   "metadata": {},
   "outputs": [
    {
     "name": "stdout",
     "output_type": "stream",
     "text": [
      "Conducting the nonparanormal (npn) transformation via shrunkun ECDF....done.\n",
      "Conducting the nonparanormal (npn) transformation via shrunkun ECDF....done.\n",
      "Conducting the nonparanormal (npn) transformation via shrunkun ECDF....done.\n"
     ]
    }
   ],
   "source": [
    "process_data(luad.path, luad.save)\n",
    "process_data(prad.path, prad.save)\n",
    "process_data(thca.path, thca.save)"
   ]
  },
  {
   "cell_type": "code",
   "execution_count": 5,
   "metadata": {},
   "outputs": [
    {
     "name": "stdout",
     "output_type": "stream",
     "text": [
      "Conducting the nonparanormal (npn) transformation via shrunkun ECDF....done.\n",
      "Conducting the nonparanormal (npn) transformation via shrunkun ECDF....done.\n",
      "Conducting the nonparanormal (npn) transformation via shrunkun ECDF....done.\n",
      "Conducting the nonparanormal (npn) transformation via shrunkun ECDF....done.\n",
      "Conducting the nonparanormal (npn) transformation via shrunkun ECDF....done.\n"
     ]
    }
   ],
   "source": [
    "basedir <- \"/home/colombelli/Documents/datasets/cumida/lung/\"\n",
    "\n",
    "lung.path <- paste(basedir, \"GSE18842/translated.csv\", sep=\"\")\n",
    "lung.save <- paste(basedir, \"GSE18842/npn.csv\", sep=\"\")\n",
    "process_data(lung.path, lung.save)\n",
    "\n",
    "lung.path <- paste(basedir, \"GSE19804/translated.csv\", sep=\"\")\n",
    "lung.save <- paste(basedir, \"GSE19804/npn.csv\", sep=\"\")\n",
    "process_data(lung.path, lung.save)\n",
    "\n",
    "lung.path <- paste(basedir, \"GSE27262/translated.csv\", sep=\"\")\n",
    "lung.save <- paste(basedir, \"GSE27262/npn.csv\", sep=\"\")\n",
    "process_data(lung.path, lung.save)\n",
    "\n",
    "\n",
    "basedir <- \"/home/colombelli/Documents/datasets/cumida/prostate/\"\n",
    "\n",
    "prostate.path <- paste(basedir, \"GSE11682/translated.csv\", sep=\"\")\n",
    "prostate.save <- paste(basedir, \"GSE11682/npn.csv\", sep=\"\")\n",
    "process_data(prostate.path, prostate.save)\n",
    "\n",
    "prostate.path <- paste(basedir, \"GSE46602/translated.csv\", sep=\"\")\n",
    "prostate.save <- paste(basedir, \"GSE46602/npn.csv\", sep=\"\")\n",
    "process_data(prostate.path, prostate.save)"
   ]
  },
  {
   "cell_type": "code",
   "execution_count": null,
   "metadata": {},
   "outputs": [],
   "source": []
  }
 ],
 "metadata": {
  "kernelspec": {
   "display_name": "R",
   "language": "R",
   "name": "ir"
  },
  "language_info": {
   "codemirror_mode": "r",
   "file_extension": ".r",
   "mimetype": "text/x-r-source",
   "name": "R",
   "pygments_lexer": "r",
   "version": "4.0.2"
  }
 },
 "nbformat": 4,
 "nbformat_minor": 4
}
