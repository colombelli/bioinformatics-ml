{
 "cells": [
  {
   "cell_type": "code",
   "execution_count": 2,
   "metadata": {},
   "outputs": [],
   "source": [
    "import pandas as pd\n",
    "import numpy as np\n",
    "from copy import deepcopy\n",
    "from sklearn.preprocessing import StandardScaler\n",
    "from sklearn.preprocessing import normalize\n",
    "\n",
    "p_root = \"/home/colombelli/Documents/datasets/LUNG_TEST_NPN_TRUNC/\"\n",
    "df0_name = \"tcga_intersect.csv\"\n",
    "df1_name = \"cumida1_intersect.csv\"\n",
    "df2_name = \"cumida2_intersect.csv\"\n",
    "df3_name = \"cumida3_intersect.csv\""
   ]
  },
  {
   "cell_type": "code",
   "execution_count": 3,
   "metadata": {},
   "outputs": [],
   "source": [
    "df0 = pd.read_csv(p_root+df0_name, index_col=0)\n",
    "df1 = pd.read_csv(p_root+df1_name, index_col=0)\n",
    "df2 = pd.read_csv(p_root+df2_name, index_col=0)\n",
    "df3 = pd.read_csv(p_root+df3_name, index_col=0)"
   ]
  },
  {
   "cell_type": "code",
   "execution_count": 5,
   "metadata": {},
   "outputs": [],
   "source": [
    "def normalize_df(df):\n",
    "    \n",
    "    df_norm_vals = normalize(df.iloc[:, 0:-1])\n",
    "    cols =  df.iloc[:, 0:-1].columns\n",
    "    indexes = df.iloc[:, 0:-1].index\n",
    "    \n",
    "    df_norm = pd.DataFrame(df_norm_vals)\n",
    "    df_norm.columns = cols\n",
    "    df_norm.index = indexes\n",
    "    df_norm['class'] = df['class']\n",
    "    \n",
    "    return df_norm"
   ]
  },
  {
   "cell_type": "code",
   "execution_count": 7,
   "metadata": {},
   "outputs": [],
   "source": [
    "df0_norm = normalize_df(df0)\n",
    "scaler = StandardScaler().fit(df0_norm.iloc[:, 0:-1])"
   ]
  },
  {
   "cell_type": "code",
   "execution_count": 8,
   "metadata": {},
   "outputs": [],
   "source": [
    "def scale_df(df, save_path):\n",
    "    \n",
    "    df_scaled_vals = scaler.transform(df.iloc[:, 0:-1])\n",
    "    cols =  df.iloc[:, 0:-1].columns\n",
    "    indexes = df.iloc[:, 0:-1].index\n",
    "    \n",
    "    df_scaled = pd.DataFrame(df_scaled_vals)\n",
    "    df_scaled.columns = cols\n",
    "    df_scaled.index = indexes\n",
    "    df_scaled['class'] = df['class']\n",
    "    \n",
    "    df_scaled.to_csv(save_path)\n",
    "    print(\"Scaling completed for:\", save_path)\n",
    "    return"
   ]
  },
  {
   "cell_type": "code",
   "execution_count": 9,
   "metadata": {},
   "outputs": [],
   "source": [
    "dfs = [df0,df1,df2,df3]\n",
    "paths = [p_root+\"tcga_scaled_and_normalized.csv\",\n",
    "         p_root+\"cumida1_scaled_and_normalized.csv\",\n",
    "         p_root+\"cumida2_scaled_and_normalized.csv\",\n",
    "         p_root+\"cumida3_scaled_and_normalized.csv\"]"
   ]
  },
  {
   "cell_type": "code",
   "execution_count": 10,
   "metadata": {},
   "outputs": [
    {
     "name": "stdout",
     "output_type": "stream",
     "text": [
      "Scaling completed for: /home/colombelli/Documents/datasets/LUNG_TEST_NPN_TRUNC/tcga_scaled_and_normalized.csv\n",
      "Scaling completed for: /home/colombelli/Documents/datasets/LUNG_TEST_NPN_TRUNC/cumida1_scaled_and_normalized.csv\n",
      "Scaling completed for: /home/colombelli/Documents/datasets/LUNG_TEST_NPN_TRUNC/cumida2_scaled_and_normalized.csv\n",
      "Scaling completed for: /home/colombelli/Documents/datasets/LUNG_TEST_NPN_TRUNC/cumida3_scaled_and_normalized.csv\n"
     ]
    }
   ],
   "source": [
    "for i, df in enumerate(dfs):\n",
    "    df_n = normalize_df(df)\n",
    "    scale_df(df_n, paths[i])"
   ]
  },
  {
   "cell_type": "markdown",
   "metadata": {},
   "source": [
    "## Box-plotting norm-scaled data"
   ]
  },
  {
   "cell_type": "code",
   "execution_count": 11,
   "metadata": {},
   "outputs": [],
   "source": [
    "import seaborn as sns\n",
    "\n",
    "def boxplot_df(df):\n",
    "    x = sns.boxplot(data=df)\n",
    "    x.set(xticklabels=[])\n",
    "    x.tick_params(bottom=False)\n",
    "    x.set(xlabel=None)\n",
    "    return"
   ]
  },
  {
   "cell_type": "code",
   "execution_count": null,
   "metadata": {},
   "outputs": [],
   "source": []
  }
 ],
 "metadata": {
  "kernelspec": {
   "display_name": "Python 3",
   "language": "python",
   "name": "python3"
  },
  "language_info": {
   "codemirror_mode": {
    "name": "ipython",
    "version": 3
   },
   "file_extension": ".py",
   "mimetype": "text/x-python",
   "name": "python",
   "nbconvert_exporter": "python",
   "pygments_lexer": "ipython3",
   "version": "3.8.5"
  }
 },
 "nbformat": 4,
 "nbformat_minor": 4
}
