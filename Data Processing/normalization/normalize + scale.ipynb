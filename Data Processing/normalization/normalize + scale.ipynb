{
 "cells": [
  {
   "cell_type": "code",
   "execution_count": 2,
   "metadata": {},
   "outputs": [],
   "source": [
    "import pandas as pd\n",
    "import numpy as np\n",
    "from copy import deepcopy\n",
    "from sklearn.preprocessing import StandardScaler\n",
    "from sklearn.preprocessing import normalize\n",
    "\n",
    "p_root = \"/home/colombelli/Documents/datasets/LUNG_TEST_NPN_TRUNC/\"\n",
    "df0_name = \"tcga_intersect.csv\"\n",
    "df1_name = \"cumida1_intersect.csv\"\n",
    "df2_name = \"cumida2_intersect.csv\"\n",
    "df3_name = \"cumida3_intersect.csv\""
   ]
  },
  {
   "cell_type": "code",
   "execution_count": 3,
   "metadata": {},
   "outputs": [],
   "source": [
    "df0 = pd.read_csv(p_root+df0_name, index_col=0)\n",
    "df1 = pd.read_csv(p_root+df1_name, index_col=0)\n",
    "df2 = pd.read_csv(p_root+df2_name, index_col=0)\n",
    "df3 = pd.read_csv(p_root+df3_name, index_col=0)"
   ]
  },
  {
   "cell_type": "code",
   "execution_count": 5,
   "metadata": {},
   "outputs": [],
   "source": [
    "def normalize_df(df):\n",
    "    \n",
    "    df_norm_vals = normalize(df.iloc[:, 0:-1])\n",
    "    cols =  df.iloc[:, 0:-1].columns\n",
    "    indexes = df.iloc[:, 0:-1].index\n",
    "    \n",
    "    df_norm = pd.DataFrame(df_norm_vals)\n",
    "    df_norm.columns = cols\n",
    "    df_norm.index = indexes\n",
    "    df_norm['class'] = df['class']\n",
    "    \n",
    "    return df_norm"
   ]
  },
  {
   "cell_type": "code",
   "execution_count": 7,
   "metadata": {},
   "outputs": [],
   "source": [
    "df0_norm = normalize_df(df0)\n",
    "scaler = StandardScaler().fit(df0_norm.iloc[:, 0:-1])"
   ]
  },
  {
   "cell_type": "code",
   "execution_count": 8,
   "metadata": {},
   "outputs": [],
   "source": [
    "def scale_df(df, save_path):\n",
    "    \n",
    "    df_scaled_vals = scaler.transform(df.iloc[:, 0:-1])\n",
    "    cols =  df.iloc[:, 0:-1].columns\n",
    "    indexes = df.iloc[:, 0:-1].index\n",
    "    \n",
    "    df_scaled = pd.DataFrame(df_scaled_vals)\n",
    "    df_scaled.columns = cols\n",
    "    df_scaled.index = indexes\n",
    "    df_scaled['class'] = df['class']\n",
    "    \n",
    "    df_scaled.to_csv(save_path)\n",
    "    print(\"Scaling completed for:\", save_path)\n",
    "    return"
   ]
  },
  {
   "cell_type": "code",
   "execution_count": 9,
   "metadata": {},
   "outputs": [],
   "source": [
    "dfs = [df0,df1,df2,df3]\n",
    "paths = [p_root+\"tcga_scaled_and_normalized.csv\",\n",
    "         p_root+\"cumida1_scaled_and_normalized.csv\",\n",
    "         p_root+\"cumida2_scaled_and_normalized.csv\",\n",
    "         p_root+\"cumida3_scaled_and_normalized.csv\"]"
   ]
  },
  {
   "cell_type": "code",
   "execution_count": 10,
   "metadata": {},
   "outputs": [
    {
     "name": "stdout",
     "output_type": "stream",
     "text": [
      "Scaling completed for: /home/colombelli/Documents/datasets/LUNG_TEST_NPN_TRUNC/tcga_scaled_and_normalized.csv\n",
      "Scaling completed for: /home/colombelli/Documents/datasets/LUNG_TEST_NPN_TRUNC/cumida1_scaled_and_normalized.csv\n",
      "Scaling completed for: /home/colombelli/Documents/datasets/LUNG_TEST_NPN_TRUNC/cumida2_scaled_and_normalized.csv\n",
      "Scaling completed for: /home/colombelli/Documents/datasets/LUNG_TEST_NPN_TRUNC/cumida3_scaled_and_normalized.csv\n"
     ]
    }
   ],
   "source": [
    "for i, df in enumerate(dfs):\n",
    "    df_n = normalize_df(df)\n",
    "    scale_df(df_n, paths[i])"
   ]
  },
  {
   "cell_type": "markdown",
   "metadata": {},
   "source": [
    "## Box-plotting norm-scaled data"
   ]
  },
  {
   "cell_type": "code",
   "execution_count": 11,
   "metadata": {},
   "outputs": [],
   "source": [
    "import seaborn as sns\n",
    "\n",
    "def boxplot_df(df):\n",
    "    x = sns.boxplot(data=df)\n",
    "    x.set(xticklabels=[])\n",
    "    x.tick_params(bottom=False)\n",
    "    x.set(xlabel=None)\n",
    "    return"
   ]
  },
  {
   "cell_type": "code",
   "execution_count": 12,
   "metadata": {},
   "outputs": [],
   "source": [
    "df0 = pd.read_csv(paths[0], index_col=0)\n",
    "df1 = pd.read_csv(paths[1], index_col=0)\n",
    "df2 = pd.read_csv(paths[2], index_col=0)\n",
    "df3 = pd.read_csv(paths[3], index_col=0)"
   ]
  },
  {
   "cell_type": "code",
   "execution_count": 13,
   "metadata": {},
   "outputs": [
    {
     "data": {
      "image/png": "[encoded data removed]",
      "text/plain": [
       "<Figure size 432x288 with 1 Axes>"
      ]
     },
     "metadata": {
      "needs_background": "light"
     },
     "output_type": "display_data"
    }
   ],
   "source": [
    "dfs = [df0,df1,df2,df3]\n",
    "dfs20 = []\n",
    "for df in dfs:\n",
    "    df = df.sample(frac=1)\n",
    "    dfs20.append(df.iloc[0:20, 0:-1])\n",
    "\n",
    "dfConc = pd.concat([dfs20[0], dfs20[1], dfs20[2], dfs20[3]]).T\n",
    "boxplot_df(dfConc)"
   ]
  },
  {
   "cell_type": "code",
   "execution_count": 14,
   "metadata": {},
   "outputs": [],
   "source": [
    "from sklearn.ensemble import GradientBoostingClassifier as GBC\n",
    "from sklearn import metrics\n",
    "\n",
    "\n",
    "def get_x(df):\n",
    "    return df.loc[:, df.columns != 'class']\n",
    "    \n",
    "def get_y(df):\n",
    "    return df.loc[:, ['class']].T.values[0]\n",
    "\n",
    "def get_probs_positive_class(pred):\n",
    "        positive_probs = []\n",
    "\n",
    "        for prediction in pred:\n",
    "            positive_probs.append(prediction[1])\n",
    "        return positive_probs\n",
    "    \n",
    "\n",
    "def load_dataframes(train_path, test_path):\n",
    "    train_df = pd.read_csv(train_path, index_col=0)\n",
    "    test_df = pd.read_csv(test_path, index_col=0)\n",
    "    return train_df, test_df\n",
    "\n",
    "\n",
    "def cross_testing_accuracy(train_df, test_df, genes_ranking_path, thresholds):\n",
    "    gdf = pd.read_csv(genes_ranking_path, index_col=0)\n",
    "    genes = list(gdf.index)\n",
    "    \n",
    "    for threshold in thresholds:\n",
    "        print(\"Cross-testing with threshold:\", threshold)\n",
    "        #clf = SVC(gamma='auto', probability=True)\n",
    "        clf = GBC()\n",
    "        \n",
    "        tr_top = train_df.loc[:, genes[0:threshold]+['class']]\n",
    "        ts_top = test_df.loc[:, genes[0:threshold]+['class']]\n",
    "\n",
    "        X_train = get_x(tr_top)\n",
    "        y_train = get_y(tr_top)\n",
    "\n",
    "        clf.fit(X_train, y_train)\n",
    "\n",
    "\n",
    "        X_test = get_x(ts_top)\n",
    "        y_test = get_y(ts_top)\n",
    "\n",
    "        acc_score = clf.score(X_test, y_test)\n",
    "\n",
    "        pred = clf.predict_proba(X_test)\n",
    "        y_pred = np.argmax(pred, axis=1)\n",
    "        pred = get_probs_positive_class(pred)\n",
    "\n",
    "        roc_auc = metrics.roc_auc_score(np.array(y_test, dtype=int), pred)\n",
    "        pred_accuracy = metrics.accuracy_score(y_test, y_pred)\n",
    "\n",
    "        print(\"Accuracy with .score:\", acc_score)\n",
    "        print(\"Accuracy with .predict_proba:\", pred_accuracy)\n",
    "        print(\"ROC AUC:\", roc_auc)\n",
    "        print(\"Predictions:\", y_pred)\n",
    "        print(\"\\n\")"
   ]
  },
  {
   "cell_type": "code",
   "execution_count": 15,
   "metadata": {},
   "outputs": [],
   "source": [
    "ths = [1, 5, 10, 15, 20, 50, 100]#, 1000, 5000, -1]\n",
    "genes_rank = \"/home/colombelli/Documents/experiments/Experiments22_ago/luad/hyb_borda_borda/selection/agg_ranking_th1.csv\"\n",
    "\n",
    "dfs = [df0, df1, df2, df3]\n",
    "for df in dfs:\n",
    "    df = df.sample(frac=1)"
   ]
  },
  {
   "cell_type": "code",
   "execution_count": 16,
   "metadata": {},
   "outputs": [
    {
     "name": "stdout",
     "output_type": "stream",
     "text": [
      "Cross-testing with threshold: 1\n",
      "Accuracy with .score: 0.5333333333333333\n",
      "Accuracy with .predict_proba: 0.5333333333333333\n",
      "ROC AUC: 0.6482213438735177\n",
      "Predictions: [1 1 1 1 1 1 1 1 1 1 1 1 1 0 1 1 1 1 1 1 1 1 1 1 1 1 1 1 1 1 1 1 1 1 1 1 1\n",
      " 1 1 1 1 1 1 1 1 1 0 1 1 1 1 1 1 1 1 1 0 1 1 1 1 1 1 1 1 1 1 1 1 1 1 1 1 1\n",
      " 1 1 1 0 1 1 1 1 1 1 1 1 1 1 1 1]\n",
      "\n",
      "\n",
      "Cross-testing with threshold: 5\n",
      "Accuracy with .score: 0.8\n",
      "Accuracy with .predict_proba: 0.8\n",
      "ROC AUC: 0.720602766798419\n",
      "Predictions: [0 1 0 0 0 0 0 1 1 1 1 1 1 1 0 1 1 1 1 1 1 1 0 1 1 0 0 1 0 1 0 1 0 1 1 0 0\n",
      " 0 1 0 0 1 1 1 1 1 0 0 0 0 0 0 0 0 0 0 0 0 0 0 0 0 0 0 0 0 0 0 0 0 0 0 0 0\n",
      " 0 0 0 0 0 0 0 0 0 0 0 0 0 0 0 0]\n",
      "\n",
      "\n",
      "Cross-testing with threshold: 10\n",
      "Accuracy with .score: 0.8444444444444444\n",
      "Accuracy with .predict_proba: 0.8444444444444444\n",
      "ROC AUC: 0.9006916996047432\n",
      "Predictions: [0 1 0 0 0 0 1 1 1 1 1 1 1 1 0 1 1 1 1 1 1 1 0 1 1 0 0 1 1 1 0 1 0 1 1 0 0\n",
      " 1 1 1 1 1 1 1 1 1 0 0 0 1 0 0 0 0 0 0 0 0 0 0 0 0 0 0 0 0 0 0 0 0 0 0 0 0\n",
      " 0 0 0 0 0 0 0 0 0 0 0 0 0 0 0 0]\n",
      "\n",
      "\n",
      "Cross-testing with threshold: 15\n",
      "Accuracy with .score: 0.8111111111111111\n",
      "Accuracy with .predict_proba: 0.8111111111111111\n",
      "ROC AUC: 0.9211956521739131\n",
      "Predictions: [0 1 0 0 0 0 1 1 0 1 1 1 1 0 0 1 1 1 1 1 1 1 0 0 1 0 0 1 1 1 0 1 0 1 1 0 0\n",
      " 1 1 1 1 1 1 1 1 1 0 0 0 1 0 0 0 0 0 0 0 0 0 0 0 0 0 0 0 0 0 0 0 0 0 0 0 0\n",
      " 0 0 0 0 0 0 0 0 0 0 0 0 0 0 0 0]\n",
      "\n",
      "\n",
      "Cross-testing with threshold: 20\n",
      "Accuracy with .score: 0.8\n",
      "Accuracy with .predict_proba: 0.8\n",
      "ROC AUC: 0.8043478260869565\n",
      "Predictions: [0 1 0 0 0 0 0 1 1 1 1 1 1 1 0 1 1 1 1 1 1 1 0 1 1 0 0 1 0 1 0 1 0 1 1 0 0\n",
      " 0 1 0 0 1 1 1 1 1 0 0 0 0 0 0 0 0 0 0 0 0 0 0 0 0 0 0 0 0 0 0 0 0 0 0 0 0\n",
      " 0 0 0 0 0 0 0 0 0 0 0 0 0 0 0 0]\n",
      "\n",
      "\n",
      "Cross-testing with threshold: 50\n",
      "Accuracy with .score: 0.5111111111111111\n",
      "Accuracy with .predict_proba: 0.5111111111111111\n",
      "ROC AUC: 1.0\n",
      "Predictions: [1 1 1 1 1 1 1 1 1 1 1 1 1 1 1 1 1 1 1 1 1 1 1 1 1 1 1 1 1 1 1 1 1 1 1 1 1\n",
      " 1 1 1 1 1 1 1 1 1 1 1 1 1 1 1 1 1 1 1 1 1 1 1 1 1 1 1 1 1 1 1 1 1 1 1 1 1\n",
      " 1 1 1 1 1 1 1 1 1 1 1 1 1 1 1 1]\n",
      "\n",
      "\n",
      "Cross-testing with threshold: 100\n",
      "Accuracy with .score: 0.4888888888888889\n",
      "Accuracy with .predict_proba: 0.4888888888888889\n",
      "ROC AUC: 0.5\n",
      "Predictions: [0 0 0 0 0 0 0 0 0 0 0 0 0 0 0 0 0 0 0 0 0 0 0 0 0 0 0 0 0 0 0 0 0 0 0 0 0\n",
      " 0 0 0 0 0 0 0 0 0 0 0 0 0 0 0 0 0 0 0 0 0 0 0 0 0 0 0 0 0 0 0 0 0 0 0 0 0\n",
      " 0 0 0 0 0 0 0 0 0 0 0 0 0 0 0 0]\n",
      "\n",
      "\n"
     ]
    }
   ],
   "source": [
    "cross_testing_accuracy(df0, df1, genes_rank, ths)"
   ]
  },
  {
   "cell_type": "code",
   "execution_count": 17,
   "metadata": {},
   "outputs": [
    {
     "name": "stdout",
     "output_type": "stream",
     "text": [
      "Cross-testing with threshold: 1\n",
      "Accuracy with .score: 0.6052631578947368\n",
      "Accuracy with .predict_proba: 0.6052631578947368\n",
      "ROC AUC: 0.7356834975369458\n",
      "Predictions: [1 1 0 1 1 1 1 1 1 1 1 1 1 1 1 1 1 1 0 1 0 1 1 1 0 1 1 1 0 1 1 1 1 1 1 1 1\n",
      " 1 1 1 1 1 1 1 1 1 1 1 1 1 0 0 1 1 1 1 1 1 1 1 1 1 1 1 1 1 1 1 1 1 0 0 0 1\n",
      " 0 1 0 1 0 1 1 1 1 0 0 0 0 0 1 1 1 1 1 1 0 1 1 1 1 0 1 1 1 1 1 0 1 0 1 0 0\n",
      " 0 0 0]\n",
      "\n",
      "\n",
      "Cross-testing with threshold: 5\n",
      "Accuracy with .score: 0.7982456140350878\n",
      "Accuracy with .predict_proba: 0.7982456140350878\n",
      "ROC AUC: 0.7658559113300494\n",
      "Predictions: [1 1 0 0 1 0 1 1 0 1 1 0 1 0 0 1 0 1 1 1 1 0 0 1 1 1 1 1 1 1 1 1 1 1 1 1 0\n",
      " 0 0 0 0 1 1 0 0 0 1 0 1 0 0 1 1 1 1 1 0 0 0 0 0 0 1 0 0 0 0 0 0 0 0 1 0 0\n",
      " 0 0 0 0 0 0 0 0 0 0 0 0 0 0 0 0 0 0 0 0 0 0 0 0 0 0 0 0 0 0 0 0 0 0 0 0 0\n",
      " 0 0 0]\n",
      "\n",
      "\n",
      "Cross-testing with threshold: 10\n",
      "Accuracy with .score: 0.8245614035087719\n",
      "Accuracy with .predict_proba: 0.8245614035087719\n",
      "ROC AUC: 0.8592980295566504\n",
      "Predictions: [1 1 1 0 1 0 1 1 0 1 1 0 1 0 0 1 0 1 1 1 1 1 0 1 1 1 1 1 1 1 1 1 1 1 1 1 1\n",
      " 0 0 0 0 1 1 0 0 0 1 0 1 0 0 1 1 1 1 1 0 0 0 0 0 0 1 0 0 0 0 0 0 0 0 1 0 0\n",
      " 0 0 0 0 0 0 0 0 0 0 0 0 0 0 0 0 0 0 0 0 0 0 0 0 0 0 0 0 0 0 0 0 0 0 0 0 0\n",
      " 0 0 0]\n",
      "\n",
      "\n",
      "Cross-testing with threshold: 15\n",
      "Accuracy with .score: 0.7017543859649122\n",
      "Accuracy with .predict_proba: 0.7017543859649122\n",
      "ROC AUC: 0.8488300492610837\n",
      "Predictions: [0 1 0 0 1 0 0 1 0 1 1 0 0 0 0 1 0 1 1 0 1 0 0 0 1 1 1 1 1 0 1 1 1 1 0 0 1\n",
      " 0 0 0 0 1 0 0 0 0 0 0 0 0 0 1 0 0 1 0 0 0 0 0 0 0 0 0 0 0 0 0 0 0 0 0 0 0\n",
      " 0 0 0 0 0 0 0 0 0 0 0 0 0 0 0 0 0 0 0 0 0 0 0 0 0 0 0 0 0 0 0 0 0 0 0 0 0\n",
      " 0 0 0]\n",
      "\n",
      "\n",
      "Cross-testing with threshold: 20\n",
      "Accuracy with .score: 0.7631578947368421\n",
      "Accuracy with .predict_proba: 0.7631578947368421\n",
      "ROC AUC: 0.8291256157635468\n",
      "Predictions: [0 1 0 0 1 0 1 1 0 1 1 0 1 0 0 1 0 1 1 1 1 0 0 1 1 1 1 1 1 1 1 1 1 1 1 0 0\n",
      " 0 0 0 0 1 1 0 0 0 0 0 0 0 0 1 0 0 1 1 0 0 0 0 0 0 0 0 0 0 0 0 0 0 0 0 0 0\n",
      " 0 0 0 0 0 0 0 0 0 0 0 0 0 0 0 0 0 0 0 0 0 0 0 0 0 0 0 0 0 0 0 0 0 0 0 0 0\n",
      " 0 0 0]\n",
      "\n",
      "\n",
      "Cross-testing with threshold: 50\n",
      "Accuracy with .score: 0.49122807017543857\n",
      "Accuracy with .predict_proba: 0.49122807017543857\n",
      "ROC AUC: 0.7713977832512315\n",
      "Predictions: [1 1 1 1 1 1 1 1 1 1 1 1 1 1 1 1 1 1 1 1 1 1 1 1 1 1 1 1 1 1 1 1 1 1 1 1 1\n",
      " 1 1 1 1 1 1 1 1 1 1 1 1 1 1 1 1 1 1 1 1 1 1 1 1 1 1 1 1 1 1 1 1 1 1 1 1 1\n",
      " 1 1 1 1 1 1 1 1 1 1 1 1 1 1 1 1 1 1 1 1 1 1 1 1 1 1 1 1 1 1 1 1 1 1 1 1 1\n",
      " 1 1 1]\n",
      "\n",
      "\n",
      "Cross-testing with threshold: 100\n",
      "Accuracy with .score: 0.5087719298245614\n",
      "Accuracy with .predict_proba: 0.5087719298245614\n",
      "ROC AUC: 0.5\n",
      "Predictions: [0 0 0 0 0 0 0 0 0 0 0 0 0 0 0 0 0 0 0 0 0 0 0 0 0 0 0 0 0 0 0 0 0 0 0 0 0\n",
      " 0 0 0 0 0 0 0 0 0 0 0 0 0 0 0 0 0 0 0 0 0 0 0 0 0 0 0 0 0 0 0 0 0 0 0 0 0\n",
      " 0 0 0 0 0 0 0 0 0 0 0 0 0 0 0 0 0 0 0 0 0 0 0 0 0 0 0 0 0 0 0 0 0 0 0 0 0\n",
      " 0 0 0]\n",
      "\n",
      "\n"
     ]
    }
   ],
   "source": [
    "cross_testing_accuracy(df0, df2, genes_rank, ths)"
   ]
  },
  {
   "cell_type": "code",
   "execution_count": 18,
   "metadata": {},
   "outputs": [
    {
     "name": "stdout",
     "output_type": "stream",
     "text": [
      "Cross-testing with threshold: 1\n",
      "Accuracy with .score: 0.6041666666666666\n",
      "Accuracy with .predict_proba: 0.6041666666666666\n",
      "ROC AUC: 0.8932291666666666\n",
      "Predictions: [1 0 1 0 1 1 1 0 1 1 1 0 1 1 0 1 1 1 1 1 1 1 1 1 1 1 1 1 1 1 1 1 1 1 1 1 1\n",
      " 1 1 1 1 1 1 1 1 1 1 1]\n",
      "\n",
      "\n",
      "Cross-testing with threshold: 5\n",
      "Accuracy with .score: 0.6666666666666666\n",
      "Accuracy with .predict_proba: 0.6666666666666666\n",
      "ROC AUC: 0.4357638888888889\n",
      "Predictions: [0 0 0 0 0 0 0 0 0 0 0 0 0 0 0 0 0 0 0 0 0 0 0 0 0 0 0 0 0 0 0 0 1 1 1 1 0\n",
      " 0 0 1 0 0 1 1 0 0 1 0]\n",
      "\n",
      "\n",
      "Cross-testing with threshold: 10\n",
      "Accuracy with .score: 0.6666666666666666\n",
      "Accuracy with .predict_proba: 0.6666666666666666\n",
      "ROC AUC: 0.8680555555555555\n",
      "Predictions: [0 0 0 0 0 0 0 0 0 0 0 0 0 0 0 0 0 0 0 0 0 0 0 0 0 0 0 0 0 0 0 0 1 1 1 1 0\n",
      " 0 0 1 0 0 1 1 0 0 1 0]\n",
      "\n",
      "\n",
      "Cross-testing with threshold: 15\n",
      "Accuracy with .score: 0.8333333333333334\n",
      "Accuracy with .predict_proba: 0.8333333333333334\n",
      "ROC AUC: 0.875\n",
      "Predictions: [0 0 0 0 0 0 0 0 0 0 0 0 0 0 0 0 0 0 0 0 0 0 0 0 0 0 1 1 1 1 1 0 1 1 1 1 0\n",
      " 0 1 1 0 1 1 1 0 1 1 0]\n",
      "\n",
      "\n",
      "Cross-testing with threshold: 20\n",
      "Accuracy with .score: 0.6666666666666666\n",
      "Accuracy with .predict_proba: 0.6666666666666666\n",
      "ROC AUC: 0.6666666666666666\n",
      "Predictions: [0 0 0 0 0 0 0 0 0 0 0 0 0 0 0 0 0 0 0 0 0 0 0 0 0 0 0 0 0 0 0 0 1 1 1 1 0\n",
      " 0 0 1 0 0 1 1 0 0 1 0]\n",
      "\n",
      "\n",
      "Cross-testing with threshold: 50\n",
      "Accuracy with .score: 0.5\n",
      "Accuracy with .predict_proba: 0.5\n",
      "ROC AUC: 0.9175347222222221\n",
      "Predictions: [1 1 1 1 1 1 1 1 1 1 1 1 1 1 1 1 1 1 1 1 1 1 1 1 1 1 1 1 1 1 1 1 1 1 1 1 1\n",
      " 1 1 1 1 1 1 1 1 1 1 1]\n",
      "\n",
      "\n",
      "Cross-testing with threshold: 100\n",
      "Accuracy with .score: 0.5\n",
      "Accuracy with .predict_proba: 0.5\n",
      "ROC AUC: 0.5\n",
      "Predictions: [0 0 0 0 0 0 0 0 0 0 0 0 0 0 0 0 0 0 0 0 0 0 0 0 0 0 0 0 0 0 0 0 0 0 0 0 0\n",
      " 0 0 0 0 0 0 0 0 0 0 0]\n",
      "\n",
      "\n"
     ]
    }
   ],
   "source": [
    "cross_testing_accuracy(df0, df3, genes_rank, ths)"
   ]
  },
  {
   "cell_type": "code",
   "execution_count": 19,
   "metadata": {},
   "outputs": [
    {
     "name": "stdout",
     "output_type": "stream",
     "text": [
      "Cross-testing with threshold: 1\n",
      "Accuracy with .score: 0.47368421052631576\n",
      "Accuracy with .predict_proba: 0.47368421052631576\n",
      "ROC AUC: 0.46351600985221675\n",
      "Predictions: [0 0 0 1 0 1 0 0 0 0 0 0 0 0 0 1 0 0 1 1 0 0 0 0 0 0 0 1 0 0 1 1 0 0 0 1 1\n",
      " 0 0 0 0 0 1 0 1 0 1 0 0 1 1 0 0 0 0 0 0 0 1 0 0 0 1 0 0 0 1 0 0 0 0 0 1 0\n",
      " 1 0 1 0 0 1 0 1 1 0 1 0 1 1 0 0 0 0 1 0 0 0 0 1 0 1 0 0 0 0 1 1 0 0 0 0 1\n",
      " 0 1 0]\n",
      "\n",
      "\n",
      "Cross-testing with threshold: 5\n",
      "Accuracy with .score: 0.5877192982456141\n",
      "Accuracy with .predict_proba: 0.5877192982456141\n",
      "ROC AUC: 0.604371921182266\n",
      "Predictions: [1 1 1 1 1 1 1 1 1 1 1 1 1 1 1 1 1 1 1 1 1 1 1 1 1 1 1 1 1 1 1 1 1 1 1 1 1\n",
      " 1 1 1 1 1 1 1 1 0 1 1 1 1 1 1 1 1 1 1 1 1 1 1 0 1 1 0 1 1 1 1 0 1 1 1 1 1\n",
      " 1 1 1 1 1 1 1 1 0 1 1 1 1 1 0 0 1 1 0 0 1 1 1 0 0 1 1 1 0 1 1 1 1 1 1 1 1\n",
      " 1 0 1]\n",
      "\n",
      "\n",
      "Cross-testing with threshold: 10\n",
      "Accuracy with .score: 0.6052631578947368\n",
      "Accuracy with .predict_proba: 0.6052631578947368\n",
      "ROC AUC: 0.603448275862069\n",
      "Predictions: [1 1 1 1 1 1 1 1 1 1 1 1 1 1 1 1 1 1 1 1 1 1 1 1 1 1 1 1 1 1 1 1 1 1 1 1 1\n",
      " 1 1 1 1 1 1 1 1 0 1 1 1 1 1 1 1 1 1 1 1 0 1 1 0 1 1 0 1 0 1 1 0 1 1 1 1 1\n",
      " 1 1 1 1 1 1 1 1 0 1 1 1 1 1 0 0 1 1 0 0 1 1 1 0 0 1 1 1 0 1 1 1 1 1 1 1 1\n",
      " 1 0 1]\n",
      "\n",
      "\n",
      "Cross-testing with threshold: 15\n",
      "Accuracy with .score: 0.6052631578947368\n",
      "Accuracy with .predict_proba: 0.6052631578947368\n",
      "ROC AUC: 0.604679802955665\n",
      "Predictions: [1 1 1 1 1 1 1 1 1 1 1 1 1 1 1 1 1 1 1 1 1 1 1 1 1 1 1 1 1 1 1 1 1 1 1 1 1\n",
      " 1 1 1 1 1 1 1 1 0 1 1 1 1 1 1 1 1 1 1 1 0 1 1 0 1 1 0 1 0 1 1 0 1 1 1 1 1\n",
      " 1 1 1 1 1 1 1 1 0 1 1 1 1 1 0 0 1 1 0 0 1 1 1 0 0 1 1 1 0 1 1 1 1 1 1 1 1\n",
      " 1 0 1]\n",
      "\n",
      "\n",
      "Cross-testing with threshold: 20\n",
      "Accuracy with .score: 0.7192982456140351\n",
      "Accuracy with .predict_proba: 0.7192982456140351\n",
      "ROC AUC: 0.8034174876847291\n",
      "Predictions: [0 0 0 0 1 0 1 1 0 1 0 0 0 0 0 1 1 0 1 1 0 1 0 1 1 1 0 0 1 0 1 1 1 0 1 0 1\n",
      " 1 1 0 1 0 0 1 0 0 0 0 0 0 1 0 0 0 1 0 0 0 0 0 0 0 0 0 0 0 0 0 0 0 0 0 0 0\n",
      " 0 0 0 0 0 0 0 0 0 0 0 0 0 0 0 0 0 0 0 0 0 0 0 0 0 0 0 0 0 0 0 0 0 0 0 0 0\n",
      " 0 0 0]\n",
      "\n",
      "\n",
      "Cross-testing with threshold: 50\n",
      "Accuracy with .score: 0.7982456140350878\n",
      "Accuracy with .predict_proba: 0.7982456140350878\n",
      "ROC AUC: 0.9154864532019704\n",
      "Predictions: [0 1 0 1 1 0 1 1 1 1 0 0 1 0 1 1 1 1 1 1 0 1 1 1 1 1 1 1 1 1 1 1 1 1 1 0 1\n",
      " 1 1 0 1 0 0 1 0 0 0 0 0 0 1 1 0 0 1 0 0 0 0 0 0 0 0 0 0 0 0 0 0 0 0 1 0 0\n",
      " 0 0 0 0 0 0 0 0 0 0 0 0 0 0 0 0 0 0 0 0 0 0 1 0 0 0 1 0 0 0 0 0 0 0 0 0 0\n",
      " 0 0 0]\n",
      "\n",
      "\n",
      "Cross-testing with threshold: 100\n",
      "Accuracy with .score: 0.8245614035087719\n",
      "Accuracy with .predict_proba: 0.8245614035087719\n",
      "ROC AUC: 0.893472906403941\n",
      "Predictions: [0 1 0 1 1 0 1 1 1 1 0 0 1 0 1 1 1 1 1 1 0 1 1 1 1 1 1 1 1 1 1 1 1 1 1 0 1\n",
      " 1 1 0 1 1 0 1 0 0 0 1 0 0 1 1 0 0 1 1 0 0 0 0 0 0 0 0 0 0 0 0 0 0 0 1 0 0\n",
      " 0 0 0 0 0 0 0 0 0 0 0 0 0 0 0 0 0 0 0 0 0 0 1 0 0 0 1 0 0 0 0 0 0 0 0 0 0\n",
      " 0 0 0]\n",
      "\n",
      "\n"
     ]
    }
   ],
   "source": [
    "cross_testing_accuracy(df1, df2, genes_rank, ths)"
   ]
  },
  {
   "cell_type": "code",
   "execution_count": null,
   "metadata": {},
   "outputs": [],
   "source": []
  }
 ],
 "metadata": {
  "kernelspec": {
   "display_name": "Python 3",
   "language": "python",
   "name": "python3"
  },
  "language_info": {
   "codemirror_mode": {
    "name": "ipython",
    "version": 3
   },
   "file_extension": ".py",
   "mimetype": "text/x-python",
   "name": "python",
   "nbconvert_exporter": "python",
   "pygments_lexer": "ipython3",
   "version": "3.8.5"
  }
 },
 "nbformat": 4,
 "nbformat_minor": 4
}
