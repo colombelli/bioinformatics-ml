{
 "cells": [
  {
   "cell_type": "code",
   "execution_count": 34,
   "metadata": {},
   "outputs": [],
   "source": [
    "import pandas as pd\n",
    "import numpy as np\n",
    "from copy import deepcopy\n",
    "import matplotlib.pyplot as plt\n",
    "from sklearn.preprocessing import QuantileTransformer\n",
    "\n",
    "p_root = \"/home/colombelli/Documents/datasets/LUNG_TEST_NPN_TRUNC/\"\n",
    "df0_name = \"tcga_intersect.csv\"\n",
    "df1_name = \"cumida1_intersect.csv\"\n",
    "df2_name = \"cumida2_intersect.csv\"\n",
    "df3_name = \"cumida3_intersect.csv\""
   ]
  },
  {
   "cell_type": "code",
   "execution_count": 2,
   "metadata": {},
   "outputs": [],
   "source": [
    "df0 = pd.read_csv(p_root+df0_name, index_col=0)\n",
    "df1 = pd.read_csv(p_root+df1_name, index_col=0)\n",
    "df2 = pd.read_csv(p_root+df2_name, index_col=0)\n",
    "df3 = pd.read_csv(p_root+df3_name, index_col=0)"
   ]
  },
  {
   "cell_type": "code",
   "execution_count": 3,
   "metadata": {},
   "outputs": [
    {
     "name": "stderr",
     "output_type": "stream",
     "text": [
      "/home/colombelli/.local/lib/python3.8/site-packages/sklearn/preprocessing/_data.py:2367: UserWarning: n_quantiles (1000) is greater than the total number of samples (576). n_quantiles is set to n_samples.\n",
      "  warnings.warn(\"n_quantiles (%s) is greater than the total number \"\n"
     ]
    },
    {
     "data": {
      "text/plain": [
       "QuantileTransformer()"
      ]
     },
     "execution_count": 3,
     "metadata": {},
     "output_type": "execute_result"
    }
   ],
   "source": [
    "transformer = QuantileTransformer()\n",
    "transformer.fit(df0.iloc[:, 0:-1])"
   ]
  },
  {
   "cell_type": "code",
   "execution_count": 3,
   "metadata": {},
   "outputs": [],
   "source": [
    "def transform_df(df, save_path):\n",
    "    \n",
    "    df_transformed_vals = QuantileTransformer().fit_transform(df.iloc[:, 0:-1])\n",
    "    cols =  df.iloc[:, 0:-1].columns\n",
    "    indexes = df.iloc[:, 0:-1].index\n",
    "    \n",
    "    df_transformed = pd.DataFrame(df_transformed_vals)\n",
    "    df_transformed.columns = cols\n",
    "    df_transformed.index = indexes\n",
    "    df_transformed['class'] = df['class']\n",
    "    \n",
    "    df_transformed.to_csv(save_path)\n",
    "    print(\"Transforming completed for:\", save_path)\n",
    "    return"
   ]
  },
  {
   "cell_type": "code",
   "execution_count": 5,
   "metadata": {},
   "outputs": [],
   "source": [
    "dfs = [df0,df1,df2,df3]\n",
    "paths = [p_root+\"tcga_quantile_diff.csv\",\n",
    "         p_root+\"cumida1_quantile_diff.csv\",\n",
    "         p_root+\"cumida2_quantile_diff.csv\",\n",
    "         p_root+\"cumida3_quantile_diff.csv\"]"
   ]
  },
  {
   "cell_type": "code",
   "execution_count": 6,
   "metadata": {},
   "outputs": [
    {
     "name": "stderr",
     "output_type": "stream",
     "text": [
      "/home/colombelli/.local/lib/python3.8/site-packages/sklearn/preprocessing/_data.py:2367: UserWarning: n_quantiles (1000) is greater than the total number of samples (576). n_quantiles is set to n_samples.\n",
      "  warnings.warn(\"n_quantiles (%s) is greater than the total number \"\n"
     ]
    },
    {
     "name": "stdout",
     "output_type": "stream",
     "text": [
      "Transforming completed for: /home/colombelli/Documents/datasets/LUNG_TEST_NPN_TRUNC/tcga_quantile_diff.csv\n"
     ]
    },
    {
     "name": "stderr",
     "output_type": "stream",
     "text": [
      "/home/colombelli/.local/lib/python3.8/site-packages/sklearn/preprocessing/_data.py:2367: UserWarning: n_quantiles (1000) is greater than the total number of samples (90). n_quantiles is set to n_samples.\n",
      "  warnings.warn(\"n_quantiles (%s) is greater than the total number \"\n"
     ]
    },
    {
     "name": "stdout",
     "output_type": "stream",
     "text": [
      "Transforming completed for: /home/colombelli/Documents/datasets/LUNG_TEST_NPN_TRUNC/cumida1_quantile_diff.csv\n"
     ]
    },
    {
     "name": "stderr",
     "output_type": "stream",
     "text": [
      "/home/colombelli/.local/lib/python3.8/site-packages/sklearn/preprocessing/_data.py:2367: UserWarning: n_quantiles (1000) is greater than the total number of samples (114). n_quantiles is set to n_samples.\n",
      "  warnings.warn(\"n_quantiles (%s) is greater than the total number \"\n"
     ]
    },
    {
     "name": "stdout",
     "output_type": "stream",
     "text": [
      "Transforming completed for: /home/colombelli/Documents/datasets/LUNG_TEST_NPN_TRUNC/cumida2_quantile_diff.csv\n"
     ]
    },
    {
     "name": "stderr",
     "output_type": "stream",
     "text": [
      "/home/colombelli/.local/lib/python3.8/site-packages/sklearn/preprocessing/_data.py:2367: UserWarning: n_quantiles (1000) is greater than the total number of samples (48). n_quantiles is set to n_samples.\n",
      "  warnings.warn(\"n_quantiles (%s) is greater than the total number \"\n"
     ]
    },
    {
     "name": "stdout",
     "output_type": "stream",
     "text": [
      "Transforming completed for: /home/colombelli/Documents/datasets/LUNG_TEST_NPN_TRUNC/cumida3_quantile_diff.csv\n"
     ]
    }
   ],
   "source": [
    "for i, df in enumerate(dfs):\n",
    "    transform_df(df, paths[i])"
   ]
  },
  {
   "cell_type": "markdown",
   "metadata": {},
   "source": [
    "## Box-plotting data"
   ]
  },
  {
   "cell_type": "code",
   "execution_count": 36,
   "metadata": {},
   "outputs": [],
   "source": [
    "import seaborn as sns\n",
    "\n",
    "def boxplot_df(df):\n",
    "    x = sns.boxplot(data=df)\n",
    "    x.set(xticklabels=[])\n",
    "    x.tick_params(bottom=False)\n",
    "    x.set(xlabel=None)\n",
    "    plt.show()\n",
    "    return\n",
    "\n",
    "def get_n_class(df, cls, n):\n",
    "    selected = df.loc[df['class']==cls, :]\n",
    "    selected = selected.sample(frac=1)\n",
    "    try:\n",
    "        return selected.iloc[:n, :]\n",
    "    except:\n",
    "        return selected"
   ]
  },
  {
   "cell_type": "code",
   "execution_count": 8,
   "metadata": {},
   "outputs": [],
   "source": [
    "df0 = pd.read_csv(paths[0], index_col=0)\n",
    "df1 = pd.read_csv(paths[1], index_col=0)\n",
    "df2 = pd.read_csv(paths[2], index_col=0)\n",
    "df3 = pd.read_csv(paths[3], index_col=0)"
   ]
  },
  {
   "cell_type": "code",
   "execution_count": 39,
   "metadata": {},
   "outputs": [
    {
     "name": "stdout",
     "output_type": "stream",
     "text": [
      "\n",
      "20 random samples each dataset:\n"
     ]
    },
    {
     "data": {
      "image/png": "[encoded data removed]",
      "text/plain": [
       "<Figure size 432x288 with 1 Axes>"
      ]
     },
     "metadata": {
      "needs_background": "light"
     },
     "output_type": "display_data"
    },
    {
     "name": "stdout",
     "output_type": "stream",
     "text": [
      "\n",
      "20 random NORMAL samples each dataset:\n"
     ]
    },
    {
     "data": {
      "image/png": "[encoded data removed]",
      "text/plain": [
       "<Figure size 432x288 with 1 Axes>"
      ]
     },
     "metadata": {
      "needs_background": "light"
     },
     "output_type": "display_data"
    },
    {
     "name": "stdout",
     "output_type": "stream",
     "text": [
      "\n",
      "20 random TUMOR samples each dataset:\n"
     ]
    },
    {
     "data": {
      "image/png": "[encoded data removed]",
      "text/plain": [
       "<Figure size 432x288 with 1 Axes>"
      ]
     },
     "metadata": {
      "needs_background": "light"
     },
     "output_type": "display_data"
    }
   ],
   "source": [
    "dfs = [df0,df1,df2,df3]\n",
    "\n",
    "#ALL SAMPLES\n",
    "dfs20 = []\n",
    "for df in dfs:\n",
    "    df = df.sample(frac=1)\n",
    "    dfs20.append(df.iloc[0:20, 0:-1])\n",
    "\n",
    "dfConc = pd.concat([dfs20[0], dfs20[1], dfs20[2], dfs20[3]]).T\n",
    "print(\"\\n20 random samples each dataset:\")\n",
    "boxplot_df(dfConc)\n",
    "\n",
    "\n",
    "#NORMAL SAMPLES\n",
    "dfs20 = []\n",
    "for df in dfs:\n",
    "    df = df.sample(frac=1)\n",
    "    pldf = get_n_class(df, 0, 20)\n",
    "    dfs20.append(pldf.iloc[:, 0:-1])\n",
    "\n",
    "dfConc = pd.concat([dfs20[0], dfs20[1], dfs20[2], dfs20[3]]).T\n",
    "print(\"\\n20 random NORMAL samples each dataset:\")\n",
    "boxplot_df(dfConc)\n",
    "\n",
    "\n",
    "#TUMOR SAMPLES\n",
    "dfs20 = []\n",
    "for df in dfs:\n",
    "    df = df.sample(frac=1)\n",
    "    pldf = get_n_class(df, 1, 20)\n",
    "    dfs20.append(pldf.iloc[:, 0:-1])\n",
    "\n",
    "dfConc = pd.concat([dfs20[0], dfs20[1], dfs20[2], dfs20[3]]).T\n",
    "print(\"\\n20 random TUMOR samples each dataset:\")\n",
    "boxplot_df(dfConc)"
   ]
  },
  {
   "cell_type": "markdown",
   "metadata": {},
   "source": [
    "## Cross-dataset testing"
   ]
  },
  {
   "cell_type": "code",
   "execution_count": 11,
   "metadata": {},
   "outputs": [],
   "source": [
    "from sklearn.ensemble import GradientBoostingClassifier as GBC\n",
    "from sklearn import metrics\n",
    "\n",
    "def get_x(df):\n",
    "    return df.loc[:, df.columns != 'class']\n",
    "    \n",
    "def get_y(df):\n",
    "    return df.loc[:, ['class']].T.values[0]\n",
    "\n",
    "def get_probs_positive_class(pred):\n",
    "        positive_probs = []\n",
    "\n",
    "        for prediction in pred:\n",
    "            positive_probs.append(prediction[1])\n",
    "        return positive_probs\n",
    "    \n",
    "\n",
    "def load_dataframes(train_path, test_path):\n",
    "    train_df = pd.read_csv(train_path, index_col=0)\n",
    "    test_df = pd.read_csv(test_path, index_col=0)\n",
    "    return train_df, test_df\n",
    "\n",
    "\n",
    "def cross_testing_accuracy(train_df, test_df, genes_ranking_path, thresholds, trained_clfs=None):\n",
    "    gdf = pd.read_csv(genes_ranking_path, index_col=0)\n",
    "    genes = list(gdf.index)\n",
    "    test_df = test_df.sample(frac=1)\n",
    "    for i, threshold in enumerate(thresholds):\n",
    "        print(\"Cross-testing with threshold:\", threshold)\n",
    "        ts_top = test_df.loc[:, genes[0:threshold]+['class']]\n",
    "\n",
    "        if trained_clfs:\n",
    "            clf = trained_clfs[i]\n",
    "            \n",
    "        else:\n",
    "            clf = GBC()\n",
    "            tr_top = train_df.loc[:, genes[0:threshold]+['class']]\n",
    "            X_train = get_x(tr_top)\n",
    "            y_train = get_y(tr_top)\n",
    "            clf.fit(X_train, y_train)\n",
    "        \n",
    "\n",
    "        X_test = get_x(ts_top)\n",
    "        y_test = get_y(ts_top)\n",
    "\n",
    "        acc_score = clf.score(X_test, y_test)\n",
    "\n",
    "        pred = clf.predict_proba(X_test)\n",
    "        y_pred = np.argmax(pred, axis=1)\n",
    "        pred = get_probs_positive_class(pred)\n",
    "\n",
    "        roc_auc = metrics.roc_auc_score(np.array(y_test, dtype=int), pred)\n",
    "        pred_accuracy = metrics.accuracy_score(y_test, y_pred)\n",
    "\n",
    "        print(\"Accuracy with .score:\", acc_score)\n",
    "        print(\"Accuracy with .predict_proba:\", pred_accuracy)\n",
    "        print(\"ROC AUC:\", roc_auc)\n",
    "        print(\"Predictions:\", y_pred)\n",
    "        print(\"\\n\")\n",
    "        \n",
    "\n",
    "def get_trained_clfs(train_df, thresholds, genes_ranking_path):\n",
    "    \n",
    "    trained_clfs = []\n",
    "    gdf = pd.read_csv(genes_ranking_path, index_col=0)\n",
    "    genes = list(gdf.index)\n",
    "    \n",
    "    for threshold in thresholds:\n",
    "        print(\"Training with threshold:\", threshold)\n",
    "        clf = GBC()\n",
    "        \n",
    "        tr_top = train_df.loc[:, genes[0:threshold]+['class']]\n",
    "\n",
    "        X_train = get_x(tr_top)\n",
    "        y_train = get_y(tr_top)\n",
    "\n",
    "        clf.fit(X_train, y_train)\n",
    "        trained_clfs.append(deepcopy(clf))\n",
    "    \n",
    "    return trained_clfs"
   ]
  },
  {
   "cell_type": "code",
   "execution_count": 12,
   "metadata": {},
   "outputs": [],
   "source": [
    "ths = [1, 5, 10, 15, 20, 50, 100, 200, 300, 400]# 1000, 5000, -1]\n",
    "genes_rank = \"/home/colombelli/Documents/experiments/Experiments22_ago/luad/hyb_borda_borda/selection/agg_ranking_th5.csv\"\n",
    "\n",
    "dfs = [df0, df1, df2, df3]\n",
    "for df in dfs:\n",
    "    df = df.sample(frac=1)"
   ]
  },
  {
   "cell_type": "code",
   "execution_count": 13,
   "metadata": {},
   "outputs": [
    {
     "name": "stdout",
     "output_type": "stream",
     "text": [
      "Training with threshold: 1\n",
      "Training with threshold: 5\n",
      "Training with threshold: 10\n",
      "Training with threshold: 15\n",
      "Training with threshold: 20\n",
      "Training with threshold: 50\n",
      "Training with threshold: 100\n",
      "Training with threshold: 200\n",
      "Training with threshold: 300\n",
      "Training with threshold: 400\n"
     ]
    }
   ],
   "source": [
    "df_train = pd.concat([df0.loc[df0['class'] == 0], df0.loc[df0['class'] == 1].iloc[0:59, :]]).sample(frac=1)\n",
    "trained_clfs = get_trained_clfs(df_train, ths, genes_rank)"
   ]
  },
  {
   "cell_type": "code",
   "execution_count": 14,
   "metadata": {},
   "outputs": [
    {
     "name": "stdout",
     "output_type": "stream",
     "text": [
      "Cross-testing with threshold: 1\n",
      "Accuracy with .score: 0.5777777777777777\n",
      "Accuracy with .predict_proba: 0.5777777777777777\n",
      "ROC AUC: 0.6017786561264822\n",
      "Predictions: [1 0 1 1 1 1 0 1 1 1 0 1 0 0 1 1 1 0 1 1 1 1 1 1 1 1 1 1 0 1 0 1 0 1 1 1 1\n",
      " 1 1 1 1 1 1 0 1 1 1 1 1 1 1 1 1 1 0 0 0 0 0 1 1 1 1 1 1 1 1 0 1 1 1 1 1 1\n",
      " 1 1 1 1 0 1 1 1 1 0 1 1 1 1 1 1]\n",
      "\n",
      "\n",
      "Cross-testing with threshold: 5\n",
      "Accuracy with .score: 0.5444444444444444\n",
      "Accuracy with .predict_proba: 0.5444444444444444\n",
      "ROC AUC: 0.5385375494071146\n",
      "Predictions: [1 0 1 1 1 1 0 1 1 1 0 1 0 1 1 1 0 1 1 1 1 0 1 1 1 1 1 1 0 1 0 1 0 1 1 0 1\n",
      " 1 1 1 1 1 1 0 1 1 1 1 1 0 1 1 0 1 0 1 0 0 0 0 1 1 1 1 1 1 1 0 1 1 1 1 1 1\n",
      " 1 0 1 1 0 1 1 1 1 1 1 1 1 1 1 1]\n",
      "\n",
      "\n",
      "Cross-testing with threshold: 10\n",
      "Accuracy with .score: 0.5444444444444444\n",
      "Accuracy with .predict_proba: 0.5444444444444444\n",
      "ROC AUC: 0.5355731225296443\n",
      "Predictions: [1 0 1 1 1 1 0 1 1 1 0 1 0 1 1 1 0 1 1 1 1 0 1 1 1 1 1 1 0 1 0 1 0 1 1 0 1\n",
      " 1 1 1 1 1 1 0 1 1 1 1 1 0 1 1 0 1 0 1 0 0 0 0 1 1 1 1 1 1 1 0 1 1 1 1 1 1\n",
      " 1 0 1 1 0 1 1 1 1 1 1 1 1 1 1 1]\n",
      "\n",
      "\n",
      "Cross-testing with threshold: 15\n",
      "Accuracy with .score: 0.5444444444444444\n",
      "Accuracy with .predict_proba: 0.5444444444444444\n",
      "ROC AUC: 0.5363142292490118\n",
      "Predictions: [1 0 1 1 1 1 0 1 1 1 0 1 0 1 1 1 0 1 1 1 1 0 1 1 1 1 1 1 0 1 0 1 0 1 1 0 1\n",
      " 1 1 1 1 1 1 0 1 1 1 1 1 0 1 1 0 1 0 1 0 0 0 0 1 1 1 1 1 1 1 0 1 1 1 1 1 1\n",
      " 1 0 1 1 0 1 1 1 1 1 1 1 1 1 1 1]\n",
      "\n",
      "\n",
      "Cross-testing with threshold: 20\n",
      "Accuracy with .score: 0.7222222222222222\n",
      "Accuracy with .predict_proba: 0.7222222222222222\n",
      "ROC AUC: 0.7159090909090909\n",
      "Predictions: [1 1 1 1 0 1 1 1 1 1 1 1 1 1 1 1 1 1 1 1 1 0 1 1 1 1 1 1 0 0 1 1 1 1 1 1 1\n",
      " 1 1 1 1 1 1 0 1 1 1 1 1 1 1 0 1 1 1 0 1 0 1 0 0 1 1 0 1 1 1 1 1 0 1 1 1 1\n",
      " 1 1 1 1 0 0 0 0 1 0 1 0 0 1 1 1]\n",
      "\n",
      "\n",
      "Cross-testing with threshold: 50\n",
      "Accuracy with .score: 0.7222222222222222\n",
      "Accuracy with .predict_proba: 0.7222222222222222\n",
      "ROC AUC: 0.7159090909090908\n",
      "Predictions: [1 1 1 1 0 1 1 1 1 1 1 1 1 1 1 1 1 1 1 1 1 0 1 1 1 1 1 1 0 0 1 1 1 1 1 1 1\n",
      " 1 1 1 1 1 1 0 1 1 1 1 1 1 1 0 1 1 1 0 1 0 1 0 0 1 1 0 1 1 1 1 1 0 1 1 1 1\n",
      " 1 1 1 1 0 0 0 0 1 0 1 0 0 1 1 1]\n",
      "\n",
      "\n",
      "Cross-testing with threshold: 100\n",
      "Accuracy with .score: 0.6555555555555556\n",
      "Accuracy with .predict_proba: 0.6555555555555556\n",
      "ROC AUC: 0.8930335968379447\n",
      "Predictions: [1 1 1 1 0 1 1 1 1 1 1 1 1 1 1 1 1 1 1 1 1 0 1 1 1 1 1 1 0 1 1 1 1 1 1 1 1\n",
      " 1 1 1 1 1 1 0 1 1 1 1 1 1 1 1 1 1 1 1 1 0 1 0 0 1 1 0 1 1 1 1 1 1 1 1 1 1\n",
      " 1 1 1 1 1 0 0 0 1 1 1 0 0 1 1 1]\n",
      "\n",
      "\n",
      "Cross-testing with threshold: 200\n",
      "Accuracy with .score: 0.6333333333333333\n",
      "Accuracy with .predict_proba: 0.6333333333333333\n",
      "ROC AUC: 0.9481225296442688\n",
      "Predictions: [1 1 1 1 0 1 1 1 1 1 1 1 1 1 1 1 1 1 1 1 0 0 1 1 1 1 1 1 1 1 1 1 1 1 1 1 1\n",
      " 1 1 1 1 1 1 1 1 1 1 0 1 1 1 0 1 1 1 0 1 1 1 1 1 1 1 0 1 1 1 1 1 1 1 1 0 1\n",
      " 1 1 1 1 1 1 0 0 1 1 1 1 0 1 1 1]\n",
      "\n",
      "\n",
      "Cross-testing with threshold: 300\n",
      "Accuracy with .score: 0.6222222222222222\n",
      "Accuracy with .predict_proba: 0.6222222222222222\n",
      "ROC AUC: 0.9407114624505929\n",
      "Predictions: [1 1 1 1 1 1 1 1 1 1 1 1 1 1 1 1 1 1 1 1 0 0 1 1 1 1 1 1 1 1 1 1 1 1 1 1 1\n",
      " 0 1 1 1 1 1 1 1 1 1 1 1 1 1 0 1 1 1 0 1 1 1 1 1 1 1 0 1 1 1 1 1 1 1 1 0 1\n",
      " 1 1 1 1 1 1 0 0 1 1 1 1 0 1 1 1]\n",
      "\n",
      "\n",
      "Cross-testing with threshold: 400\n",
      "Accuracy with .score: 0.6333333333333333\n",
      "Accuracy with .predict_proba: 0.6333333333333333\n",
      "ROC AUC: 0.625\n",
      "Predictions: [1 1 1 1 0 1 1 1 1 1 1 1 1 1 1 1 1 1 1 1 1 1 1 1 1 1 1 1 0 1 1 1 1 1 1 1 1\n",
      " 1 1 1 1 1 1 1 1 1 1 1 1 1 1 1 1 1 1 1 1 0 1 0 0 1 1 1 1 1 1 1 1 1 1 1 0 1\n",
      " 1 1 0 1 1 0 0 1 1 0 1 0 1 1 1 1]\n",
      "\n",
      "\n"
     ]
    }
   ],
   "source": [
    "cross_testing_accuracy(None, df1, genes_rank, ths, trained_clfs)"
   ]
  },
  {
   "cell_type": "code",
   "execution_count": 15,
   "metadata": {},
   "outputs": [
    {
     "name": "stdout",
     "output_type": "stream",
     "text": [
      "Cross-testing with threshold: 1\n",
      "Accuracy with .score: 0.6666666666666666\n",
      "Accuracy with .predict_proba: 0.6666666666666666\n",
      "ROC AUC: 0.7289100985221675\n",
      "Predictions: [0 1 0 1 1 1 1 1 1 1 1 0 1 1 1 1 1 1 1 1 0 1 1 1 1 1 1 1 1 1 1 1 1 1 1 1 1\n",
      " 0 1 0 1 1 1 1 1 1 0 1 1 1 0 1 1 1 1 1 1 1 1 1 1 0 0 1 1 1 1 1 1 1 1 0 1 1\n",
      " 1 1 1 1 0 1 1 1 1 1 1 0 1 1 1 1 1 1 0 0 0 1 1 1 1 1 1 0 1 0 1 0 0 0 1 1 1\n",
      " 1 1 0]\n",
      "\n",
      "\n",
      "Cross-testing with threshold: 5\n",
      "Accuracy with .score: 0.5526315789473685\n",
      "Accuracy with .predict_proba: 0.5526315789473685\n",
      "ROC AUC: 0.5281711822660098\n",
      "Predictions: [0 1 0 1 1 1 1 1 1 1 1 0 1 1 1 1 1 1 1 0 0 1 1 0 1 1 1 1 1 1 1 1 1 0 1 1 1\n",
      " 0 0 0 1 1 1 1 1 0 1 1 0 1 0 0 1 1 1 1 1 1 1 1 1 0 1 1 1 1 1 1 1 1 1 0 1 0\n",
      " 1 1 0 1 0 1 1 0 1 1 1 0 1 1 1 1 1 1 0 0 0 1 0 1 0 1 1 1 1 0 1 0 0 1 1 1 1\n",
      " 1 1 1]\n",
      "\n",
      "\n",
      "Cross-testing with threshold: 10\n",
      "Accuracy with .score: 0.5526315789473685\n",
      "Accuracy with .predict_proba: 0.5526315789473685\n",
      "ROC AUC: 0.5586514778325123\n",
      "Predictions: [0 1 0 1 1 1 1 1 1 1 1 0 1 1 1 1 1 1 1 0 0 1 1 0 1 1 1 1 1 1 1 1 1 0 1 1 1\n",
      " 0 0 0 1 1 1 1 1 0 1 1 0 1 0 0 1 1 1 1 1 1 1 1 1 0 1 1 1 1 1 1 1 1 1 0 1 0\n",
      " 1 1 0 1 0 1 1 0 1 1 1 0 1 1 1 1 1 1 0 0 0 1 0 1 0 1 1 1 1 0 1 0 0 1 1 1 1\n",
      " 1 1 1]\n",
      "\n",
      "\n",
      "Cross-testing with threshold: 15\n",
      "Accuracy with .score: 0.5526315789473685\n",
      "Accuracy with .predict_proba: 0.5526315789473685\n",
      "ROC AUC: 0.5789716748768472\n",
      "Predictions: [0 1 0 1 1 1 1 1 1 1 1 0 1 1 1 1 1 1 1 0 0 1 1 0 1 1 1 1 1 1 1 1 1 0 1 1 1\n",
      " 0 0 0 1 1 1 1 1 0 1 1 0 1 0 0 1 1 1 1 1 1 1 1 1 0 1 1 1 1 1 1 1 1 1 0 1 0\n",
      " 1 1 0 1 0 1 1 0 1 1 1 0 1 1 1 1 1 1 0 0 0 1 0 1 0 1 1 1 1 0 1 0 0 1 1 1 1\n",
      " 1 1 1]\n",
      "\n",
      "\n",
      "Cross-testing with threshold: 20\n",
      "Accuracy with .score: 0.6578947368421053\n",
      "Accuracy with .predict_proba: 0.6578947368421053\n",
      "ROC AUC: 0.6928879310344828\n",
      "Predictions: [1 1 1 1 1 0 1 1 1 1 1 0 1 1 1 1 1 1 1 1 0 1 1 1 1 1 1 1 1 1 1 1 1 1 1 1 0\n",
      " 0 1 0 1 1 1 1 1 1 1 1 1 1 1 0 1 1 1 1 1 1 0 0 1 0 1 0 1 1 1 1 1 0 1 1 1 1\n",
      " 1 1 1 1 0 1 1 1 1 1 1 1 1 1 1 1 1 1 1 0 1 0 1 0 1 1 0 1 1 1 1 0 1 0 1 1 1\n",
      " 1 1 1]\n",
      "\n",
      "\n",
      "Cross-testing with threshold: 50\n",
      "Accuracy with .score: 0.6929824561403509\n",
      "Accuracy with .predict_proba: 0.6929824561403509\n",
      "ROC AUC: 0.6928879310344828\n",
      "Predictions: [1 1 0 1 1 0 1 1 0 0 1 0 1 1 1 1 1 1 1 1 0 1 1 1 1 1 1 1 1 1 1 1 1 1 1 1 0\n",
      " 0 1 0 1 1 1 1 1 1 1 1 1 1 0 0 1 1 1 1 1 1 0 0 1 0 1 0 1 1 1 1 1 0 1 1 1 1\n",
      " 1 1 1 1 0 1 1 1 1 1 1 1 1 1 1 1 1 1 1 0 1 0 1 0 1 1 0 1 1 1 1 0 1 0 1 1 1\n",
      " 1 1 1]\n",
      "\n",
      "\n",
      "Cross-testing with threshold: 100\n",
      "Accuracy with .score: 0.6052631578947368\n",
      "Accuracy with .predict_proba: 0.6052631578947368\n",
      "ROC AUC: 0.853448275862069\n",
      "Predictions: [1 1 1 1 1 1 1 1 1 0 1 0 1 1 1 1 1 1 1 1 0 1 1 1 1 1 1 1 1 1 1 1 1 1 1 1 1\n",
      " 0 1 0 1 1 1 1 1 1 1 1 1 1 0 0 1 1 1 1 1 1 1 0 1 0 1 1 1 1 1 1 1 0 1 1 1 1\n",
      " 1 1 1 0 0 1 1 1 1 1 1 1 1 1 1 1 1 1 1 0 1 0 1 0 1 1 1 1 1 1 1 1 1 1 1 1 1\n",
      " 1 1 1]\n",
      "\n",
      "\n",
      "Cross-testing with threshold: 200\n",
      "Accuracy with .score: 0.5614035087719298\n",
      "Accuracy with .predict_proba: 0.5614035087719298\n",
      "ROC AUC: 0.8868534482758621\n",
      "Predictions: [1 1 1 1 1 1 1 1 1 1 1 0 1 1 1 1 0 1 1 1 1 1 1 1 1 1 1 1 1 1 1 1 0 1 1 1 1\n",
      " 0 1 1 1 1 1 1 1 1 1 1 1 1 1 1 1 1 1 1 1 1 1 1 1 0 1 1 1 1 1 1 1 0 1 1 1 1\n",
      " 1 1 1 1 0 1 1 1 1 1 1 1 1 1 1 1 1 1 1 1 1 1 1 1 1 1 1 1 1 0 1 1 1 1 1 1 1\n",
      " 1 1 1]\n",
      "\n",
      "\n",
      "Cross-testing with threshold: 300\n",
      "Accuracy with .score: 0.5701754385964912\n",
      "Accuracy with .predict_proba: 0.5701754385964912\n",
      "ROC AUC: 0.9108682266009852\n",
      "Predictions: [1 1 1 1 1 1 1 1 1 0 1 0 1 1 1 1 0 1 1 1 1 1 1 1 1 1 1 1 1 1 1 1 0 1 1 1 1\n",
      " 0 1 1 1 1 1 1 1 1 1 1 1 1 1 1 1 1 1 1 1 1 1 1 1 0 1 1 1 1 1 1 1 0 1 1 1 1\n",
      " 1 1 1 1 0 1 1 1 1 1 1 1 1 1 1 1 1 1 1 1 1 1 1 1 1 1 1 1 1 0 1 1 1 1 1 1 1\n",
      " 1 1 1]\n",
      "\n",
      "\n",
      "Cross-testing with threshold: 400\n",
      "Accuracy with .score: 0.6140350877192983\n",
      "Accuracy with .predict_proba: 0.6140350877192983\n",
      "ROC AUC: 0.6206896551724138\n",
      "Predictions: [1 1 0 1 1 1 1 1 1 1 1 0 1 1 1 0 1 1 1 1 0 1 1 1 1 1 1 1 1 1 1 1 1 1 1 1 1\n",
      " 1 1 1 1 1 1 1 1 1 1 0 1 1 0 1 1 1 1 1 1 1 0 1 1 1 1 0 1 0 1 1 1 1 1 0 0 1\n",
      " 1 1 1 1 1 1 1 1 1 1 1 1 1 1 1 1 1 1 1 0 0 1 1 1 1 1 1 1 1 1 1 0 1 1 1 1 1\n",
      " 1 1 1]\n",
      "\n",
      "\n"
     ]
    }
   ],
   "source": [
    "cross_testing_accuracy(None, df2, genes_rank, ths, trained_clfs)"
   ]
  },
  {
   "cell_type": "code",
   "execution_count": 16,
   "metadata": {},
   "outputs": [
    {
     "name": "stdout",
     "output_type": "stream",
     "text": [
      "Cross-testing with threshold: 1\n",
      "Accuracy with .score: 0.6875\n",
      "Accuracy with .predict_proba: 0.6875\n",
      "ROC AUC: 0.8333333333333334\n",
      "Predictions: [1 0 1 1 1 1 0 0 1 1 1 1 0 1 1 1 0 1 1 1 1 1 1 1 1 1 1 0 1 1 1 1 0 1 1 1 1\n",
      " 1 1 1 1 1 0 1 1 1 1 0]\n",
      "\n",
      "\n",
      "Cross-testing with threshold: 5\n",
      "Accuracy with .score: 0.6041666666666666\n",
      "Accuracy with .predict_proba: 0.6041666666666666\n",
      "ROC AUC: 0.5859375\n",
      "Predictions: [1 0 1 1 1 1 1 1 1 1 1 0 0 1 1 1 0 1 1 1 0 1 1 1 1 1 1 0 1 1 1 1 0 1 1 1 0\n",
      " 1 1 1 1 1 0 0 1 1 1 0]\n",
      "\n",
      "\n",
      "Cross-testing with threshold: 10\n",
      "Accuracy with .score: 0.6041666666666666\n",
      "Accuracy with .predict_proba: 0.6041666666666666\n",
      "ROC AUC: 0.6067708333333334\n",
      "Predictions: [1 0 1 1 1 1 1 1 1 1 1 0 0 1 1 1 0 1 1 1 0 1 1 1 1 1 1 0 1 1 1 1 0 1 1 1 0\n",
      " 1 1 1 1 1 0 0 1 1 1 0]\n",
      "\n",
      "\n",
      "Cross-testing with threshold: 15\n",
      "Accuracy with .score: 0.6041666666666666\n",
      "Accuracy with .predict_proba: 0.6041666666666666\n",
      "ROC AUC: 0.6223958333333333\n",
      "Predictions: [1 0 1 1 1 1 1 1 1 1 1 0 0 1 1 1 0 1 1 1 0 1 1 1 1 1 1 0 1 1 1 1 0 1 1 1 0\n",
      " 1 1 1 1 1 0 0 1 1 1 0]\n",
      "\n",
      "\n",
      "Cross-testing with threshold: 20\n",
      "Accuracy with .score: 0.6666666666666666\n",
      "Accuracy with .predict_proba: 0.6666666666666666\n",
      "ROC AUC: 0.7083333333333334\n",
      "Predictions: [1 0 1 1 1 1 0 1 1 1 1 0 0 1 1 1 0 1 1 1 1 0 1 1 0 1 0 1 1 1 1 1 1 1 1 1 1\n",
      " 1 1 1 1 1 1 1 1 1 1 1]\n",
      "\n",
      "\n",
      "Cross-testing with threshold: 50\n",
      "Accuracy with .score: 0.7083333333333334\n",
      "Accuracy with .predict_proba: 0.7083333333333334\n",
      "ROC AUC: 0.7083333333333333\n",
      "Predictions: [1 0 1 1 1 1 0 0 1 1 1 0 0 1 1 1 0 1 0 1 1 0 1 1 0 1 0 1 1 1 1 1 1 1 1 1 1\n",
      " 1 1 1 1 1 1 1 1 1 1 1]\n",
      "\n",
      "\n",
      "Cross-testing with threshold: 100\n",
      "Accuracy with .score: 0.6458333333333334\n",
      "Accuracy with .predict_proba: 0.6458333333333334\n",
      "ROC AUC: 0.8697916666666666\n",
      "Predictions: [1 0 1 1 1 1 1 1 1 1 1 0 1 1 1 1 0 1 0 1 1 0 1 1 0 1 0 1 1 1 1 1 1 1 1 1 1\n",
      " 1 1 1 1 1 1 1 1 1 1 1]\n",
      "\n",
      "\n",
      "Cross-testing with threshold: 200\n",
      "Accuracy with .score: 0.625\n",
      "Accuracy with .predict_proba: 0.625\n",
      "ROC AUC: 0.9774305555555556\n",
      "Predictions: [1 1 1 1 1 1 1 1 0 1 1 1 1 1 1 1 1 1 0 1 1 1 1 1 1 1 1 1 1 1 0 1 1 1 1 1 1\n",
      " 1 1 0 1 0 0 1 1 1 1 1]\n",
      "\n",
      "\n",
      "Cross-testing with threshold: 300\n",
      "Accuracy with .score: 0.6041666666666666\n",
      "Accuracy with .predict_proba: 0.6041666666666666\n",
      "ROC AUC: 0.9340277777777779\n",
      "Predictions: [1 1 1 1 1 1 1 1 1 1 1 1 1 1 1 1 1 1 0 1 1 1 1 1 0 1 1 1 1 1 0 1 1 1 1 1 1\n",
      " 1 1 0 1 0 1 1 1 1 1 1]\n",
      "\n",
      "\n",
      "Cross-testing with threshold: 400\n",
      "Accuracy with .score: 0.625\n",
      "Accuracy with .predict_proba: 0.625\n",
      "ROC AUC: 0.625\n",
      "Predictions: [1 1 1 1 1 1 1 1 1 1 1 1 1 1 1 1 0 1 0 1 1 1 1 1 0 1 1 1 1 1 1 1 0 1 1 1 1\n",
      " 1 1 1 1 1 0 1 1 1 0 1]\n",
      "\n",
      "\n"
     ]
    }
   ],
   "source": [
    "cross_testing_accuracy(None, df3, genes_rank, ths, trained_clfs)"
   ]
  },
  {
   "cell_type": "markdown",
   "metadata": {},
   "source": [
    "## Cross-dataset between Microarrays"
   ]
  },
  {
   "cell_type": "code",
   "execution_count": 18,
   "metadata": {},
   "outputs": [
    {
     "name": "stdout",
     "output_type": "stream",
     "text": [
      "Cross-testing with threshold: 1\n",
      "Accuracy with .score: 0.34210526315789475\n",
      "Accuracy with .predict_proba: 0.34210526315789475\n",
      "ROC AUC: 0.3528325123152709\n",
      "Predictions: [1 1 0 1 1 0 1 1 0 0 0 0 1 1 0 0 1 0 0 1 1 0 1 0 1 1 1 1 1 1 1 0 1 0 1 0 0\n",
      " 1 1 1 1 1 1 1 0 0 1 1 1 0 1 1 0 1 1 1 1 0 1 0 1 1 1 1 1 1 1 0 1 1 1 0 1 0\n",
      " 1 0 1 1 1 1 1 0 1 0 1 1 0 0 1 1 0 1 1 1 1 0 0 0 1 1 1 0 1 1 1 1 1 1 1 1 1\n",
      " 1 1 1]\n",
      "\n",
      "\n",
      "Cross-testing with threshold: 5\n",
      "Accuracy with .score: 0.49122807017543857\n",
      "Accuracy with .predict_proba: 0.49122807017543857\n",
      "ROC AUC: 0.5\n",
      "Predictions: [1 1 1 1 1 1 1 1 1 1 1 1 1 1 1 1 1 1 1 1 1 1 1 1 1 1 1 1 1 1 1 1 1 1 1 1 1\n",
      " 1 1 1 1 1 1 1 1 1 1 1 1 1 1 1 1 1 1 1 1 1 1 1 1 1 1 1 1 1 1 1 1 1 1 1 1 1\n",
      " 1 1 1 1 1 1 1 1 1 1 1 1 1 1 1 1 1 1 1 1 1 1 1 1 1 1 1 1 1 1 1 1 1 1 1 1 1\n",
      " 1 1 1]\n",
      "\n",
      "\n",
      "Cross-testing with threshold: 10\n",
      "Accuracy with .score: 0.49122807017543857\n",
      "Accuracy with .predict_proba: 0.49122807017543857\n",
      "ROC AUC: 0.5\n",
      "Predictions: [1 1 1 1 1 1 1 1 1 1 1 1 1 1 1 1 1 1 1 1 1 1 1 1 1 1 1 1 1 1 1 1 1 1 1 1 1\n",
      " 1 1 1 1 1 1 1 1 1 1 1 1 1 1 1 1 1 1 1 1 1 1 1 1 1 1 1 1 1 1 1 1 1 1 1 1 1\n",
      " 1 1 1 1 1 1 1 1 1 1 1 1 1 1 1 1 1 1 1 1 1 1 1 1 1 1 1 1 1 1 1 1 1 1 1 1 1\n",
      " 1 1 1]\n",
      "\n",
      "\n",
      "Cross-testing with threshold: 15\n",
      "Accuracy with .score: 0.49122807017543857\n",
      "Accuracy with .predict_proba: 0.49122807017543857\n",
      "ROC AUC: 0.5\n",
      "Predictions: [1 1 1 1 1 1 1 1 1 1 1 1 1 1 1 1 1 1 1 1 1 1 1 1 1 1 1 1 1 1 1 1 1 1 1 1 1\n",
      " 1 1 1 1 1 1 1 1 1 1 1 1 1 1 1 1 1 1 1 1 1 1 1 1 1 1 1 1 1 1 1 1 1 1 1 1 1\n",
      " 1 1 1 1 1 1 1 1 1 1 1 1 1 1 1 1 1 1 1 1 1 1 1 1 1 1 1 1 1 1 1 1 1 1 1 1 1\n",
      " 1 1 1]\n",
      "\n",
      "\n",
      "Cross-testing with threshold: 20\n",
      "Accuracy with .score: 0.8333333333333334\n",
      "Accuracy with .predict_proba: 0.8333333333333334\n",
      "ROC AUC: 0.8780788177339902\n",
      "Predictions: [0 0 1 0 0 1 1 0 0 1 0 0 0 0 1 1 1 0 0 0 1 0 0 1 1 0 0 0 0 0 0 1 0 1 0 1 1\n",
      " 0 1 0 0 1 1 1 0 1 1 0 0 1 1 1 0 0 0 0 0 1 0 1 0 0 0 0 1 0 0 0 0 1 1 1 0 0\n",
      " 1 1 0 0 1 0 1 1 1 1 1 1 0 1 0 0 0 1 1 0 0 1 0 1 1 1 1 0 1 1 0 0 0 1 1 1 0\n",
      " 0 0 0]\n",
      "\n",
      "\n",
      "Cross-testing with threshold: 50\n",
      "Accuracy with .score: 0.6754385964912281\n",
      "Accuracy with .predict_proba: 0.6754385964912281\n",
      "ROC AUC: 0.8991687192118226\n",
      "Predictions: [1 0 1 0 0 1 1 1 1 1 0 1 0 0 1 1 1 1 1 1 1 1 0 1 1 1 1 1 1 0 0 1 0 1 0 1 1\n",
      " 1 1 1 1 1 1 1 1 1 1 0 1 1 1 1 0 1 0 0 1 1 1 1 1 0 0 1 1 0 1 1 0 1 1 1 1 1\n",
      " 1 1 0 0 1 0 1 1 1 1 1 1 0 1 0 1 1 1 1 1 0 1 0 1 1 1 1 0 1 1 1 1 1 1 1 1 1\n",
      " 1 1 1]\n",
      "\n",
      "\n",
      "Cross-testing with threshold: 100\n",
      "Accuracy with .score: 0.543859649122807\n",
      "Accuracy with .predict_proba: 0.543859649122807\n",
      "ROC AUC: 0.8954741379310345\n",
      "Predictions: [1 1 1 1 1 1 1 1 1 1 1 1 0 0 1 1 1 1 1 1 1 1 1 1 1 1 1 1 1 1 1 1 1 1 1 1 1\n",
      " 1 1 1 1 1 1 1 1 1 1 0 1 1 1 1 1 1 1 0 1 1 1 1 1 1 1 1 1 0 1 1 1 1 1 1 1 1\n",
      " 1 1 1 1 1 0 1 1 1 1 1 1 1 1 1 1 1 1 1 1 1 1 1 1 1 1 1 1 1 1 1 1 1 1 1 1 1\n",
      " 1 1 1]\n",
      "\n",
      "\n",
      "Cross-testing with threshold: 200\n",
      "Accuracy with .score: 0.6578947368421053\n",
      "Accuracy with .predict_proba: 0.6578947368421053\n",
      "ROC AUC: 0.9151785714285714\n",
      "Predictions: [1 1 1 1 1 1 1 1 1 1 0 1 0 0 1 1 1 1 1 1 1 1 0 1 1 1 0 1 1 1 0 1 1 1 0 1 1\n",
      " 1 1 1 1 1 1 1 1 1 1 0 1 1 1 1 1 1 1 0 1 1 1 1 1 0 1 0 1 0 0 1 1 1 1 1 0 1\n",
      " 1 1 1 1 1 0 1 1 1 1 1 1 1 1 1 1 1 1 1 1 0 1 0 1 1 1 1 0 1 1 1 0 1 1 1 1 1\n",
      " 1 1 1]\n",
      "\n",
      "\n",
      "Cross-testing with threshold: 300\n",
      "Accuracy with .score: 0.7017543859649122\n",
      "Accuracy with .predict_proba: 0.7017543859649122\n",
      "ROC AUC: 0.9365763546798029\n",
      "Predictions: [1 1 1 0 1 1 1 1 1 1 0 1 0 0 1 1 1 1 1 1 1 1 0 1 1 1 0 1 1 0 0 1 0 1 0 1 1\n",
      " 1 1 1 1 1 1 1 1 1 1 0 1 1 1 1 1 1 0 0 1 1 1 1 1 0 1 0 1 0 0 1 1 1 1 1 0 1\n",
      " 1 1 1 0 1 0 1 1 1 1 1 1 1 1 1 1 1 1 1 1 0 1 0 1 1 1 1 0 1 1 1 0 0 1 1 1 0\n",
      " 1 1 1]\n",
      "\n",
      "\n",
      "Cross-testing with threshold: 400\n",
      "Accuracy with .score: 0.6491228070175439\n",
      "Accuracy with .predict_proba: 0.6491228070175439\n",
      "ROC AUC: 0.9282635467980295\n",
      "Predictions: [1 0 1 0 1 1 1 1 1 1 0 1 0 0 1 1 1 1 1 1 1 1 0 1 1 1 0 1 1 0 1 1 1 1 0 1 1\n",
      " 1 1 1 1 1 1 1 1 1 1 0 1 1 1 1 1 1 1 1 1 1 1 1 1 0 1 1 1 0 0 1 0 1 1 1 1 1\n",
      " 1 1 1 0 1 0 1 1 1 1 1 1 1 1 1 1 1 1 1 1 0 1 1 1 1 1 1 0 1 1 1 1 1 1 1 1 1\n",
      " 1 1 1]\n",
      "\n",
      "\n"
     ]
    }
   ],
   "source": [
    "cross_testing_accuracy(df1, df2, genes_rank, ths)"
   ]
  },
  {
   "cell_type": "code",
   "execution_count": 19,
   "metadata": {},
   "outputs": [
    {
     "name": "stdout",
     "output_type": "stream",
     "text": [
      "Cross-testing with threshold: 1\n",
      "Accuracy with .score: 0.6041666666666666\n",
      "Accuracy with .predict_proba: 0.6041666666666666\n",
      "ROC AUC: 0.6154513888888888\n",
      "Predictions: [0 0 1 0 1 0 0 1 0 0 0 1 1 0 1 0 1 0 0 1 1 0 1 0 1 0 0 0 0 1 1 1 0 1 1 0 1\n",
      " 0 1 0 0 0 1 1 1 1 0 1]\n",
      "\n",
      "\n",
      "Cross-testing with threshold: 5\n",
      "Accuracy with .score: 0.5\n",
      "Accuracy with .predict_proba: 0.5\n",
      "ROC AUC: 0.5\n",
      "Predictions: [1 1 1 1 1 1 1 1 1 1 1 1 1 1 1 1 1 1 1 1 1 1 1 1 1 1 1 1 1 1 1 1 1 1 1 1 1\n",
      " 1 1 1 1 1 1 1 1 1 1 1]\n",
      "\n",
      "\n",
      "Cross-testing with threshold: 10\n",
      "Accuracy with .score: 0.6458333333333334\n",
      "Accuracy with .predict_proba: 0.6458333333333334\n",
      "ROC AUC: 0.6666666666666666\n",
      "Predictions: [1 1 1 1 1 1 1 1 1 1 1 1 1 0 1 1 1 1 1 1 1 1 1 1 1 1 1 1 0 1 1 0 1 1 1 1 1\n",
      " 0 1 1 0 1 0 1 1 1 0 1]\n",
      "\n",
      "\n",
      "Cross-testing with threshold: 15\n",
      "Accuracy with .score: 0.6666666666666666\n",
      "Accuracy with .predict_proba: 0.6666666666666666\n",
      "ROC AUC: 0.6666666666666666\n",
      "Predictions: [1 1 1 1 1 1 1 1 1 0 1 1 1 0 1 1 1 1 1 1 1 1 1 1 1 1 1 1 0 1 1 0 1 1 1 1 1\n",
      " 0 1 1 0 1 0 1 1 1 0 1]\n",
      "\n",
      "\n",
      "Cross-testing with threshold: 20\n",
      "Accuracy with .score: 0.9166666666666666\n",
      "Accuracy with .predict_proba: 0.9166666666666666\n",
      "ROC AUC: 0.9166666666666667\n",
      "Predictions: [0 1 1 0 0 0 0 1 1 0 1 1 1 0 0 0 1 1 1 0 0 0 1 1 1 1 0 0 0 0 1 0 0 0 0 0 1\n",
      " 0 1 1 0 0 0 1 0 0 0 1]\n",
      "\n",
      "\n",
      "Cross-testing with threshold: 50\n",
      "Accuracy with .score: 0.9375\n",
      "Accuracy with .predict_proba: 0.9375\n",
      "ROC AUC: 0.9895833333333334\n",
      "Predictions: [0 1 1 0 0 1 0 1 1 0 1 1 1 0 0 0 1 1 1 0 0 0 1 1 1 1 0 0 0 0 1 0 0 0 0 0 1\n",
      " 0 1 1 0 0 0 1 0 0 0 1]\n",
      "\n",
      "\n",
      "Cross-testing with threshold: 100\n",
      "Accuracy with .score: 0.9375\n",
      "Accuracy with .predict_proba: 0.9375\n",
      "ROC AUC: 0.9826388888888888\n",
      "Predictions: [0 1 1 0 0 1 0 1 1 0 1 1 1 0 0 0 1 1 1 0 0 0 1 1 1 1 0 0 0 0 1 0 0 0 0 0 1\n",
      " 0 1 1 0 0 0 1 0 0 0 1]\n",
      "\n",
      "\n",
      "Cross-testing with threshold: 200\n",
      "Accuracy with .score: 0.9583333333333334\n",
      "Accuracy with .predict_proba: 0.9583333333333334\n",
      "ROC AUC: 0.9930555555555556\n",
      "Predictions: [0 1 1 0 0 1 0 1 1 0 1 1 1 0 0 0 1 1 1 0 0 0 1 1 1 1 0 0 0 0 1 0 0 0 0 1 1\n",
      " 0 1 1 0 0 0 1 0 0 0 1]\n",
      "\n",
      "\n",
      "Cross-testing with threshold: 300\n",
      "Accuracy with .score: 0.9583333333333334\n",
      "Accuracy with .predict_proba: 0.9583333333333334\n",
      "ROC AUC: 1.0\n",
      "Predictions: [0 1 1 0 0 1 0 1 1 0 1 1 1 0 0 0 1 1 1 1 0 0 1 1 1 1 0 0 0 0 1 0 0 0 0 0 1\n",
      " 0 1 1 0 0 0 1 0 0 0 1]\n",
      "\n",
      "\n",
      "Cross-testing with threshold: 400\n",
      "Accuracy with .score: 0.9583333333333334\n",
      "Accuracy with .predict_proba: 0.9583333333333334\n",
      "ROC AUC: 1.0\n",
      "Predictions: [0 1 1 0 0 1 0 1 1 0 1 1 1 0 0 0 1 1 1 1 0 0 1 1 1 1 0 0 0 0 1 0 0 0 0 0 1\n",
      " 0 1 1 0 0 0 1 0 0 0 1]\n",
      "\n",
      "\n"
     ]
    }
   ],
   "source": [
    "cross_testing_accuracy(df1, df3, genes_rank, ths)"
   ]
  },
  {
   "cell_type": "code",
   "execution_count": null,
   "metadata": {},
   "outputs": [],
   "source": []
  }
 ],
 "metadata": {
  "kernelspec": {
   "display_name": "Python 3",
   "language": "python",
   "name": "python3"
  },
  "language_info": {
   "codemirror_mode": {
    "name": "ipython",
    "version": 3
   },
   "file_extension": ".py",
   "mimetype": "text/x-python",
   "name": "python",
   "nbconvert_exporter": "python",
   "pygments_lexer": "ipython3",
   "version": "3.8.5"
  }
 },
 "nbformat": 4,
 "nbformat_minor": 4
}
