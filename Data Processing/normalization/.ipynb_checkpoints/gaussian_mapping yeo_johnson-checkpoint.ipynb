{
 "cells": [
  {
   "cell_type": "code",
   "execution_count": 2,
   "metadata": {},
   "outputs": [],
   "source": [
    "import pandas as pd\n",
    "import numpy as np\n",
    "from copy import deepcopy\n",
    "from sklearn.preprocessing import PowerTransformer\n",
    "\n",
    "p_root = \"/home/colombelli/Documents/datasets/LUNG_TEST_NPN_TRUNC/\"\n",
    "df0_name = \"tcga_intersect.csv\"\n",
    "df1_name = \"cumida1_intersect.csv\"\n",
    "df2_name = \"cumida2_intersect.csv\"\n",
    "df3_name = \"cumida3_intersect.csv\""
   ]
  },
  {
   "cell_type": "code",
   "execution_count": 3,
   "metadata": {},
   "outputs": [],
   "source": [
    "df0 = pd.read_csv(p_root+df0_name, index_col=0)\n",
    "df1 = pd.read_csv(p_root+df1_name, index_col=0)\n",
    "df2 = pd.read_csv(p_root+df2_name, index_col=0)\n",
    "df3 = pd.read_csv(p_root+df3_name, index_col=0)"
   ]
  },
  {
   "cell_type": "code",
   "execution_count": 13,
   "metadata": {},
   "outputs": [
    {
     "data": {
      "text/plain": [
       "0"
      ]
     },
     "execution_count": 13,
     "metadata": {},
     "output_type": "execute_result"
    }
   ],
   "source": [
    "sum(n < 0 for n in df0.values.flatten())"
   ]
  },
  {
   "cell_type": "code",
   "execution_count": 14,
   "metadata": {},
   "outputs": [
    {
     "data": {
      "text/plain": [
       "0"
      ]
     },
     "execution_count": 14,
     "metadata": {},
     "output_type": "execute_result"
    }
   ],
   "source": [
    "sum(n < 0 for n in df1.values.flatten())"
   ]
  },
  {
   "cell_type": "code",
   "execution_count": 15,
   "metadata": {},
   "outputs": [
    {
     "data": {
      "text/plain": [
       "0"
      ]
     },
     "execution_count": 15,
     "metadata": {},
     "output_type": "execute_result"
    }
   ],
   "source": [
    "sum(n < 0 for n in df2.values.flatten())"
   ]
  },
  {
   "cell_type": "code",
   "execution_count": 16,
   "metadata": {},
   "outputs": [
    {
     "data": {
      "text/plain": [
       "0"
      ]
     },
     "execution_count": 16,
     "metadata": {},
     "output_type": "execute_result"
    }
   ],
   "source": [
    "sum(n < 0 for n in df3.values.flatten())"
   ]
  },
  {
   "cell_type": "code",
   "execution_count": 4,
   "metadata": {},
   "outputs": [
    {
     "name": "stderr",
     "output_type": "stream",
     "text": [
      "/home/colombelli/.local/lib/python3.8/site-packages/sklearn/preprocessing/_data.py:2995: RuntimeWarning: divide by zero encountered in log\n",
      "  loglike = -n_samples / 2 * np.log(x_trans.var())\n"
     ]
    },
    {
     "data": {
      "text/plain": [
       "PowerTransformer()"
      ]
     },
     "execution_count": 4,
     "metadata": {},
     "output_type": "execute_result"
    }
   ],
   "source": [
    "transformer = PowerTransformer()\n",
    "transformer.fit(df0.iloc[:, 0:-1])"
   ]
  },
  {
   "cell_type": "code",
   "execution_count": 17,
   "metadata": {},
   "outputs": [],
   "source": [
    "def transform_df(df, save_path):\n",
    "    \n",
    "    df_transformed_vals = transformer.transform(df.iloc[:, 0:-1])\n",
    "    cols =  df.iloc[:, 0:-1].columns\n",
    "    indexes = df.iloc[:, 0:-1].index\n",
    "    \n",
    "    df_transformed = pd.DataFrame(df_transformed_vals)\n",
    "    df_transformed.columns = cols\n",
    "    df_transformed.index = indexes\n",
    "    df_transformed['class'] = df['class']\n",
    "    \n",
    "    df_transformed.to_csv(save_path)\n",
    "    print(\"Transforming completed for:\", save_path)\n",
    "    return"
   ]
  },
  {
   "cell_type": "code",
   "execution_count": 18,
   "metadata": {},
   "outputs": [],
   "source": [
    "dfs = [df0,df1,df2,df3]\n",
    "paths = [p_root+\"tcga_boxcox.csv\",\n",
    "         p_root+\"cumida1_boxcox.csv\",\n",
    "         p_root+\"cumida2_boxcox.csv\",\n",
    "         p_root+\"cumida3_boxcox.csv\"]"
   ]
  },
  {
   "cell_type": "code",
   "execution_count": 19,
   "metadata": {},
   "outputs": [
    {
     "name": "stdout",
     "output_type": "stream",
     "text": [
      "Transforming completed for: /home/colombelli/Documents/datasets/LUNG_TEST_NPN_TRUNC/tcga_boxcox.csv\n",
      "Transforming completed for: /home/colombelli/Documents/datasets/LUNG_TEST_NPN_TRUNC/cumida1_boxcox.csv\n",
      "Transforming completed for: /home/colombelli/Documents/datasets/LUNG_TEST_NPN_TRUNC/cumida2_boxcox.csv\n",
      "Transforming completed for: /home/colombelli/Documents/datasets/LUNG_TEST_NPN_TRUNC/cumida3_boxcox.csv\n"
     ]
    }
   ],
   "source": [
    "for i, df in enumerate(dfs):\n",
    "    transform_df(df, paths[i])"
   ]
  },
  {
   "cell_type": "markdown",
   "metadata": {},
   "source": [
    "## Box-plotting data"
   ]
  },
  {
   "cell_type": "code",
   "execution_count": 20,
   "metadata": {},
   "outputs": [],
   "source": [
    "import seaborn as sns\n",
    "\n",
    "def boxplot_df(df):\n",
    "    x = sns.boxplot(data=df)\n",
    "    x.set(xticklabels=[])\n",
    "    x.tick_params(bottom=False)\n",
    "    x.set(xlabel=None)\n",
    "    return"
   ]
  },
  {
   "cell_type": "code",
   "execution_count": 21,
   "metadata": {},
   "outputs": [],
   "source": [
    "df0 = pd.read_csv(paths[0], index_col=0)\n",
    "df1 = pd.read_csv(paths[1], index_col=0)\n",
    "df2 = pd.read_csv(paths[2], index_col=0)\n",
    "df3 = pd.read_csv(paths[3], index_col=0)"
   ]
  },
  {
   "cell_type": "code",
   "execution_count": 22,
   "metadata": {},
   "outputs": [
    {
     "data": {
      "image/png": "[encoded data removed]",
      "text/plain": [
       "<Figure size 432x288 with 1 Axes>"
      ]
     },
     "metadata": {
      "needs_background": "light"
     },
     "output_type": "display_data"
    }
   ],
   "source": [
    "dfs = [df0,df1,df2,df3]\n",
    "dfs20 = []\n",
    "for df in dfs:\n",
    "    df = df.sample(frac=1)\n",
    "    dfs20.append(df.iloc[0:20, 0:-1])\n",
    "\n",
    "dfConc = pd.concat([dfs20[0], dfs20[1], dfs20[2], dfs20[3]]).T\n",
    "boxplot_df(dfConc)"
   ]
  },
  {
   "cell_type": "markdown",
   "metadata": {},
   "source": [
    "## Cross-dataset testing"
   ]
  },
  {
   "cell_type": "code",
   "execution_count": 23,
   "metadata": {},
   "outputs": [],
   "source": [
    "from sklearn.ensemble import GradientBoostingClassifier as GBC\n",
    "from sklearn import metrics\n",
    "\n",
    "def get_x(df):\n",
    "    return df.loc[:, df.columns != 'class']\n",
    "    \n",
    "def get_y(df):\n",
    "    return df.loc[:, ['class']].T.values[0]\n",
    "\n",
    "def get_probs_positive_class(pred):\n",
    "        positive_probs = []\n",
    "\n",
    "        for prediction in pred:\n",
    "            positive_probs.append(prediction[1])\n",
    "        return positive_probs\n",
    "    \n",
    "\n",
    "def load_dataframes(train_path, test_path):\n",
    "    train_df = pd.read_csv(train_path, index_col=0)\n",
    "    test_df = pd.read_csv(test_path, index_col=0)\n",
    "    return train_df, test_df\n",
    "\n",
    "\n",
    "def cross_testing_accuracy(train_df, test_df, genes_ranking_path, thresholds, trained_clfs=None):\n",
    "    gdf = pd.read_csv(genes_ranking_path, index_col=0)\n",
    "    genes = list(gdf.index)\n",
    "    test_df = test_df.sample(frac=1)\n",
    "    for i, threshold in enumerate(thresholds):\n",
    "        print(\"Cross-testing with threshold:\", threshold)\n",
    "        ts_top = test_df.loc[:, genes[0:threshold]+['class']]\n",
    "\n",
    "        if trained_clfs:\n",
    "            clf = trained_clfs[i]\n",
    "            \n",
    "        else:\n",
    "            clf = GBC()\n",
    "            tr_top = train_df.loc[:, genes[0:threshold]+['class']]\n",
    "            X_train = get_x(tr_top)\n",
    "            y_train = get_y(tr_top)\n",
    "            clf.fit(X_train, y_train)\n",
    "        \n",
    "\n",
    "        X_test = get_x(ts_top)\n",
    "        y_test = get_y(ts_top)\n",
    "\n",
    "        acc_score = clf.score(X_test, y_test)\n",
    "\n",
    "        pred = clf.predict_proba(X_test)\n",
    "        y_pred = np.argmax(pred, axis=1)\n",
    "        pred = get_probs_positive_class(pred)\n",
    "\n",
    "        roc_auc = metrics.roc_auc_score(np.array(y_test, dtype=int), pred)\n",
    "        pred_accuracy = metrics.accuracy_score(y_test, y_pred)\n",
    "\n",
    "        print(\"Accuracy with .score:\", acc_score)\n",
    "        print(\"Accuracy with .predict_proba:\", pred_accuracy)\n",
    "        print(\"ROC AUC:\", roc_auc)\n",
    "        print(\"Predictions:\", y_pred)\n",
    "        print(\"\\n\")\n",
    "        \n",
    "\n",
    "def get_trained_clfs(train_df, thresholds, genes_ranking_path):\n",
    "    \n",
    "    trained_clfs = []\n",
    "    gdf = pd.read_csv(genes_ranking_path, index_col=0)\n",
    "    genes = list(gdf.index)\n",
    "    \n",
    "    for threshold in thresholds:\n",
    "        print(\"Training with threshold:\", threshold)\n",
    "        clf = GBC()\n",
    "        \n",
    "        tr_top = train_df.loc[:, genes[0:threshold]+['class']]\n",
    "\n",
    "        X_train = get_x(tr_top)\n",
    "        y_train = get_y(tr_top)\n",
    "\n",
    "        clf.fit(X_train, y_train)\n",
    "        trained_clfs.append(deepcopy(clf))\n",
    "    \n",
    "    return trained_clfs"
   ]
  },
  {
   "cell_type": "code",
   "execution_count": 24,
   "metadata": {},
   "outputs": [],
   "source": [
    "ths = [1, 5, 10, 15, 20, 50, 100, 200, 300, 400]# 1000, 5000, -1]\n",
    "genes_rank = \"/home/colombelli/Documents/experiments/Experiments22_ago/luad/hyb_borda_borda/selection/agg_ranking_th5.csv\"\n",
    "\n",
    "dfs = [df0, df1, df2, df3]\n",
    "for df in dfs:\n",
    "    df = df.sample(frac=1)"
   ]
  },
  {
   "cell_type": "code",
   "execution_count": 25,
   "metadata": {},
   "outputs": [
    {
     "name": "stdout",
     "output_type": "stream",
     "text": [
      "Training with threshold: 1\n",
      "Training with threshold: 5\n",
      "Training with threshold: 10\n",
      "Training with threshold: 15\n",
      "Training with threshold: 20\n",
      "Training with threshold: 50\n",
      "Training with threshold: 100\n",
      "Training with threshold: 200\n",
      "Training with threshold: 300\n",
      "Training with threshold: 400\n"
     ]
    }
   ],
   "source": [
    "df_train = pd.concat([df0.loc[df0['class'] == 0], df0.loc[df0['class'] == 1].iloc[0:59, :]]).sample(frac=1)\n",
    "trained_clfs = get_trained_clfs(df_train, ths, genes_rank)"
   ]
  },
  {
   "cell_type": "code",
   "execution_count": 26,
   "metadata": {},
   "outputs": [
    {
     "name": "stdout",
     "output_type": "stream",
     "text": [
      "Cross-testing with threshold: 1\n",
      "Accuracy with .score: 0.5222222222222223\n",
      "Accuracy with .predict_proba: 0.5222222222222223\n",
      "ROC AUC: 0.5014822134387351\n",
      "Predictions: [1 1 1 1 1 1 1 1 1 1 1 1 1 1 1 1 1 1 1 1 1 1 1 1 1 1 1 1 1 1 1 1 1 1 1 1 1\n",
      " 1 1 1 1 1 1 1 1 1 1 1 1 1 1 1 1 1 1 1 1 1 1 1 1 1 1 1 1 1 1 1 1 1 1 1 1 1\n",
      " 1 1 1 0 1 1 1 1 1 1 1 1 1 1 1 1]\n",
      "\n",
      "\n",
      "Cross-testing with threshold: 5\n",
      "Accuracy with .score: 0.4888888888888889\n",
      "Accuracy with .predict_proba: 0.4888888888888889\n",
      "ROC AUC: 0.5\n",
      "Predictions: [0 0 0 0 0 0 0 0 0 0 0 0 0 0 0 0 0 0 0 0 0 0 0 0 0 0 0 0 0 0 0 0 0 0 0 0 0\n",
      " 0 0 0 0 0 0 0 0 0 0 0 0 0 0 0 0 0 0 0 0 0 0 0 0 0 0 0 0 0 0 0 0 0 0 0 0 0\n",
      " 0 0 0 0 0 0 0 0 0 0 0 0 0 0 0 0]\n",
      "\n",
      "\n",
      "Cross-testing with threshold: 10\n",
      "Accuracy with .score: 0.4888888888888889\n",
      "Accuracy with .predict_proba: 0.4888888888888889\n",
      "ROC AUC: 0.5\n",
      "Predictions: [0 0 0 0 0 0 0 0 0 0 0 0 0 0 0 0 0 0 0 0 0 0 0 0 0 0 0 0 0 0 0 0 0 0 0 0 0\n",
      " 0 0 0 0 0 0 0 0 0 0 0 0 0 0 0 0 0 0 0 0 0 0 0 0 0 0 0 0 0 0 0 0 0 0 0 0 0\n",
      " 0 0 0 0 0 0 0 0 0 0 0 0 0 0 0 0]\n",
      "\n",
      "\n",
      "Cross-testing with threshold: 15\n",
      "Accuracy with .score: 0.4888888888888889\n",
      "Accuracy with .predict_proba: 0.4888888888888889\n",
      "ROC AUC: 0.5\n",
      "Predictions: [0 0 0 0 0 0 0 0 0 0 0 0 0 0 0 0 0 0 0 0 0 0 0 0 0 0 0 0 0 0 0 0 0 0 0 0 0\n",
      " 0 0 0 0 0 0 0 0 0 0 0 0 0 0 0 0 0 0 0 0 0 0 0 0 0 0 0 0 0 0 0 0 0 0 0 0 0\n",
      " 0 0 0 0 0 0 0 0 0 0 0 0 0 0 0 0]\n",
      "\n",
      "\n",
      "Cross-testing with threshold: 20\n",
      "Accuracy with .score: 0.8444444444444444\n",
      "Accuracy with .predict_proba: 0.8444444444444444\n",
      "ROC AUC: 0.8490612648221344\n",
      "Predictions: [0 1 0 1 1 1 1 1 1 1 1 1 1 0 0 1 1 1 1 1 0 1 0 1 0 1 1 1 0 1 0 0 1 1 1 1 1\n",
      " 0 1 0 0 1 1 1 1 1 1 0 1 0 0 1 0 1 0 0 1 1 1 0 1 1 1 0 0 1 1 1 0 1 1 1 1 0\n",
      " 0 0 0 0 1 0 0 1 0 1 0 1 1 1 1 1]\n",
      "\n",
      "\n",
      "Cross-testing with threshold: 50\n",
      "Accuracy with .score: 0.8444444444444444\n",
      "Accuracy with .predict_proba: 0.8444444444444444\n",
      "ROC AUC: 0.8490612648221344\n",
      "Predictions: [0 1 0 1 1 1 1 1 1 1 1 1 1 0 0 1 1 1 1 1 0 1 0 1 0 1 1 1 0 1 0 0 1 1 1 1 1\n",
      " 0 1 0 0 1 1 1 1 1 1 0 1 0 0 1 0 1 0 0 1 1 1 0 1 1 1 0 0 1 1 1 0 1 1 1 1 0\n",
      " 0 0 0 0 1 0 0 1 0 1 0 1 1 1 1 1]\n",
      "\n",
      "\n",
      "Cross-testing with threshold: 100\n",
      "Accuracy with .score: 0.8444444444444444\n",
      "Accuracy with .predict_proba: 0.8444444444444444\n",
      "ROC AUC: 0.9839426877470356\n",
      "Predictions: [0 1 0 1 1 1 1 1 1 1 1 1 1 0 0 1 1 1 1 1 0 1 0 1 0 1 1 1 0 1 0 0 1 1 1 1 1\n",
      " 0 1 0 0 1 1 1 1 1 1 0 1 0 0 1 0 1 0 0 1 1 1 0 1 1 1 0 0 1 1 1 0 1 1 1 1 0\n",
      " 0 0 0 0 1 0 0 1 0 1 0 1 1 1 1 1]\n",
      "\n",
      "\n",
      "Cross-testing with threshold: 200\n",
      "Accuracy with .score: 0.9111111111111111\n",
      "Accuracy with .predict_proba: 0.9111111111111111\n",
      "ROC AUC: 0.970108695652174\n",
      "Predictions: [0 1 0 1 0 1 0 1 0 0 0 1 1 0 0 1 1 1 0 1 0 1 0 1 0 1 1 0 0 0 0 0 0 1 1 1 1\n",
      " 0 1 0 0 1 0 1 1 0 0 0 1 0 0 0 0 1 0 0 1 0 1 0 1 0 1 0 0 1 0 1 0 1 0 1 1 0\n",
      " 0 0 0 0 1 0 0 0 0 1 0 1 0 0 1 1]\n",
      "\n",
      "\n",
      "Cross-testing with threshold: 300\n",
      "Accuracy with .score: 0.9333333333333333\n",
      "Accuracy with .predict_proba: 0.9333333333333333\n",
      "ROC AUC: 0.9918478260869565\n",
      "Predictions: [0 1 0 1 0 1 0 1 0 0 0 1 1 0 0 1 1 1 0 1 0 1 0 1 0 1 1 0 0 0 0 0 0 1 1 1 1\n",
      " 0 1 0 0 1 0 1 1 0 1 0 1 0 0 1 0 1 0 0 1 0 1 0 1 0 1 0 0 1 0 1 0 1 0 1 1 0\n",
      " 0 0 0 0 1 0 0 0 0 1 0 1 0 0 1 1]\n",
      "\n",
      "\n",
      "Cross-testing with threshold: 400\n",
      "Accuracy with .score: 0.5777777777777777\n",
      "Accuracy with .predict_proba: 0.5777777777777777\n",
      "ROC AUC: 0.5681818181818181\n",
      "Predictions: [1 1 1 1 1 1 1 1 1 1 1 1 1 0 1 1 1 1 1 1 1 1 1 1 0 1 1 1 1 1 1 0 1 1 1 1 1\n",
      " 1 1 1 1 1 1 1 1 1 1 1 1 1 1 1 1 1 1 0 1 1 1 1 1 1 1 1 1 1 1 1 0 1 1 1 1 1\n",
      " 0 1 1 1 1 1 1 1 1 1 1 1 1 1 1 1]\n",
      "\n",
      "\n"
     ]
    }
   ],
   "source": [
    "cross_testing_accuracy(None, df1, genes_rank, ths, trained_clfs)"
   ]
  },
  {
   "cell_type": "code",
   "execution_count": 16,
   "metadata": {},
   "outputs": [
    {
     "name": "stdout",
     "output_type": "stream",
     "text": [
      "Cross-testing with threshold: 1\n",
      "Accuracy with .score: 0.6754385964912281\n",
      "Accuracy with .predict_proba: 0.6754385964912281\n",
      "ROC AUC: 0.7458435960591132\n",
      "Predictions: [0 1 1 1 0 1 1 1 1 1 1 1 0 0 0 1 1 1 0 1 1 0 1 0 0 1 0 1 1 1 0 1 1 0 1 0 1\n",
      " 1 1 0 0 0 1 1 0 1 1 1 0 1 1 1 1 1 1 1 1 1 1 1 0 0 1 0 1 1 1 1 1 1 0 1 1 1\n",
      " 1 1 0 1 1 0 1 1 0 0 1 1 1 1 1 0 0 1 0 1 1 0 1 1 1 1 0 1 1 1 1 0 1 0 1 0 1\n",
      " 1 0 1]\n",
      "\n",
      "\n",
      "Cross-testing with threshold: 5\n",
      "Accuracy with .score: 0.5087719298245614\n",
      "Accuracy with .predict_proba: 0.5087719298245614\n",
      "ROC AUC: 0.34513546798029554\n",
      "Predictions: [0 0 0 0 0 0 0 0 0 0 0 0 0 0 0 0 0 0 0 0 0 0 0 0 0 0 0 0 0 0 0 0 0 0 0 0 0\n",
      " 0 0 0 0 0 0 0 0 0 0 0 0 0 0 0 0 0 0 0 0 0 0 0 0 0 0 0 0 0 0 0 0 0 0 0 0 0\n",
      " 0 0 0 0 0 0 0 0 0 0 0 0 0 0 0 0 0 0 0 0 0 0 0 0 0 0 0 0 0 0 0 0 0 0 0 0 0\n",
      " 0 0 0]\n",
      "\n",
      "\n",
      "Cross-testing with threshold: 10\n",
      "Accuracy with .score: 0.5087719298245614\n",
      "Accuracy with .predict_proba: 0.5087719298245614\n",
      "ROC AUC: 0.5\n",
      "Predictions: [0 0 0 0 0 0 0 0 0 0 0 0 0 0 0 0 0 0 0 0 0 0 0 0 0 0 0 0 0 0 0 0 0 0 0 0 0\n",
      " 0 0 0 0 0 0 0 0 0 0 0 0 0 0 0 0 0 0 0 0 0 0 0 0 0 0 0 0 0 0 0 0 0 0 0 0 0\n",
      " 0 0 0 0 0 0 0 0 0 0 0 0 0 0 0 0 0 0 0 0 0 0 0 0 0 0 0 0 0 0 0 0 0 0 0 0 0\n",
      " 0 0 0]\n",
      "\n",
      "\n",
      "Cross-testing with threshold: 15\n",
      "Accuracy with .score: 0.5087719298245614\n",
      "Accuracy with .predict_proba: 0.5087719298245614\n",
      "ROC AUC: 0.34513546798029554\n",
      "Predictions: [0 0 0 0 0 0 0 0 0 0 0 0 0 0 0 0 0 0 0 0 0 0 0 0 0 0 0 0 0 0 0 0 0 0 0 0 0\n",
      " 0 0 0 0 0 0 0 0 0 0 0 0 0 0 0 0 0 0 0 0 0 0 0 0 0 0 0 0 0 0 0 0 0 0 0 0 0\n",
      " 0 0 0 0 0 0 0 0 0 0 0 0 0 0 0 0 0 0 0 0 0 0 0 0 0 0 0 0 0 0 0 0 0 0 0 0 0\n",
      " 0 0 0]\n",
      "\n",
      "\n",
      "Cross-testing with threshold: 20\n",
      "Accuracy with .score: 0.5350877192982456\n",
      "Accuracy with .predict_proba: 0.5350877192982456\n",
      "ROC AUC: 0.9227216748768473\n",
      "Predictions: [0 0 0 0 0 0 0 0 0 0 0 0 0 0 0 0 0 0 0 0 0 0 0 0 0 0 0 0 0 0 0 0 0 0 0 0 0\n",
      " 0 0 0 0 0 0 0 0 0 0 0 0 0 0 0 0 0 0 0 0 0 0 0 0 0 0 0 0 0 0 0 0 0 1 0 0 0\n",
      " 0 1 0 0 0 0 0 0 0 0 0 0 0 0 0 0 0 0 0 0 0 0 0 0 0 0 0 0 0 0 0 0 0 0 1 0 0\n",
      " 0 0 0]\n",
      "\n",
      "\n",
      "Cross-testing with threshold: 50\n",
      "Accuracy with .score: 0.5087719298245614\n",
      "Accuracy with .predict_proba: 0.5087719298245614\n",
      "ROC AUC: 0.939347290640394\n",
      "Predictions: [0 0 0 0 0 0 0 0 0 0 0 0 0 0 0 0 0 0 0 0 0 0 0 0 0 0 0 0 0 0 0 0 0 0 0 0 0\n",
      " 0 0 0 0 0 0 0 0 0 0 0 0 0 0 0 0 0 0 0 0 0 0 0 0 0 0 0 0 0 0 0 0 0 0 0 0 0\n",
      " 0 0 0 0 0 0 0 0 0 0 0 0 0 0 0 0 0 0 0 0 0 0 0 0 0 0 0 0 0 0 0 0 0 0 0 0 0\n",
      " 0 0 0]\n",
      "\n",
      "\n",
      "Cross-testing with threshold: 100\n",
      "Accuracy with .score: 0.5087719298245614\n",
      "Accuracy with .predict_proba: 0.5087719298245614\n",
      "ROC AUC: 0.929033251231527\n",
      "Predictions: [0 0 0 0 0 0 0 0 0 0 0 0 0 0 0 0 0 0 0 0 0 0 0 0 0 0 0 0 0 0 0 0 0 0 0 0 0\n",
      " 0 0 0 0 0 0 0 0 0 0 0 0 0 0 0 0 0 0 0 0 0 0 0 0 0 0 0 0 0 0 0 0 0 0 0 0 0\n",
      " 0 0 0 0 0 0 0 0 0 0 0 0 0 0 0 0 0 0 0 0 0 0 0 0 0 0 0 0 0 0 0 0 0 0 0 0 0\n",
      " 0 0 0]\n",
      "\n",
      "\n",
      "Cross-testing with threshold: 200\n",
      "Accuracy with .score: 0.543859649122807\n",
      "Accuracy with .predict_proba: 0.543859649122807\n",
      "ROC AUC: 0.9653633004926109\n",
      "Predictions: [1 1 1 1 1 1 1 1 1 0 1 1 1 1 1 1 1 1 1 1 1 1 1 1 1 1 1 1 0 1 1 1 1 1 1 1 1\n",
      " 1 1 0 1 1 1 1 0 1 1 1 1 1 1 1 1 1 1 1 1 1 1 1 1 1 1 1 1 1 1 1 1 1 1 1 1 1\n",
      " 1 1 0 1 1 1 1 1 1 1 1 1 1 1 1 1 1 1 1 1 0 1 1 1 1 1 1 1 1 1 1 1 1 1 1 1 1\n",
      " 1 1 1]\n",
      "\n",
      "\n",
      "Cross-testing with threshold: 300\n",
      "Accuracy with .score: 0.5701754385964912\n",
      "Accuracy with .predict_proba: 0.5701754385964912\n",
      "ROC AUC: 0.9725985221674877\n",
      "Predictions: [1 1 1 1 1 1 1 1 1 0 1 1 1 1 1 1 1 1 1 1 1 1 1 1 1 1 0 1 0 1 1 1 1 1 1 1 1\n",
      " 1 1 0 1 1 1 1 0 1 1 1 1 1 1 1 1 1 0 1 1 1 1 1 1 0 1 1 1 0 1 1 1 1 1 1 1 1\n",
      " 1 1 0 1 1 1 1 1 1 1 1 1 1 1 1 1 1 1 1 1 0 1 1 1 0 1 1 1 1 1 1 1 1 1 1 1 1\n",
      " 1 1 1]\n",
      "\n",
      "\n",
      "Cross-testing with threshold: 400\n",
      "Accuracy with .score: 0.8947368421052632\n",
      "Accuracy with .predict_proba: 0.8947368421052632\n",
      "ROC AUC: 0.896243842364532\n",
      "Predictions: [0 1 1 1 0 1 1 1 1 0 1 1 0 0 1 0 1 1 0 0 0 0 1 0 1 0 0 1 0 0 0 1 1 0 1 1 0\n",
      " 1 0 0 0 1 1 0 0 1 1 0 0 1 1 0 1 1 1 1 0 1 1 1 0 0 0 1 1 1 1 1 0 1 1 1 1 1\n",
      " 0 1 0 1 0 0 1 1 0 0 1 0 1 1 1 0 0 0 0 1 1 0 1 0 0 1 1 1 1 1 1 1 1 0 1 0 1\n",
      " 1 0 1]\n",
      "\n",
      "\n"
     ]
    }
   ],
   "source": [
    "cross_testing_accuracy(None, df2, genes_rank, ths, trained_clfs)"
   ]
  },
  {
   "cell_type": "code",
   "execution_count": 17,
   "metadata": {},
   "outputs": [
    {
     "name": "stdout",
     "output_type": "stream",
     "text": [
      "Cross-testing with threshold: 1\n",
      "Accuracy with .score: 0.5625\n",
      "Accuracy with .predict_proba: 0.5625\n",
      "ROC AUC: 0.7291666666666667\n",
      "Predictions: [1 1 1 1 1 1 1 0 1 1 1 1 1 1 1 1 1 1 1 1 1 1 1 1 1 1 1 1 1 1 1 0 1 1 1 1 1\n",
      " 1 1 1 1 1 1 0 1 1 1 1]\n",
      "\n",
      "\n",
      "Cross-testing with threshold: 5\n",
      "Accuracy with .score: 0.5\n",
      "Accuracy with .predict_proba: 0.5\n",
      "ROC AUC: 0.5\n",
      "Predictions: [0 0 0 0 0 0 0 0 0 0 0 0 0 0 0 0 0 0 0 0 0 0 0 0 0 0 0 0 0 0 0 0 0 0 0 0 0\n",
      " 0 0 0 0 0 0 0 0 0 0 0]\n",
      "\n",
      "\n",
      "Cross-testing with threshold: 10\n",
      "Accuracy with .score: 0.5\n",
      "Accuracy with .predict_proba: 0.5\n",
      "ROC AUC: 0.5\n",
      "Predictions: [0 0 0 0 0 0 0 0 0 0 0 0 0 0 0 0 0 0 0 0 0 0 0 0 0 0 0 0 0 0 0 0 0 0 0 0 0\n",
      " 0 0 0 0 0 0 0 0 0 0 0]\n",
      "\n",
      "\n",
      "Cross-testing with threshold: 15\n",
      "Accuracy with .score: 0.5\n",
      "Accuracy with .predict_proba: 0.5\n",
      "ROC AUC: 0.5\n",
      "Predictions: [0 0 0 0 0 0 0 0 0 0 0 0 0 0 0 0 0 0 0 0 0 0 0 0 0 0 0 0 0 0 0 0 0 0 0 0 0\n",
      " 0 0 0 0 0 0 0 0 0 0 0]\n",
      "\n",
      "\n",
      "Cross-testing with threshold: 20\n",
      "Accuracy with .score: 0.5\n",
      "Accuracy with .predict_proba: 0.5\n",
      "ROC AUC: 0.9270833333333334\n",
      "Predictions: [0 0 0 0 0 0 0 0 0 0 0 0 0 0 0 0 0 0 0 0 0 0 0 0 0 0 0 0 0 0 0 0 0 0 0 0 0\n",
      " 0 0 0 0 0 0 0 0 0 0 0]\n",
      "\n",
      "\n",
      "Cross-testing with threshold: 50\n",
      "Accuracy with .score: 0.5\n",
      "Accuracy with .predict_proba: 0.5\n",
      "ROC AUC: 0.947048611111111\n",
      "Predictions: [0 0 0 0 0 0 0 0 0 0 0 0 0 0 0 0 0 0 0 0 0 0 0 0 0 0 0 0 0 0 0 0 0 0 0 0 0\n",
      " 0 0 0 0 0 0 0 0 0 0 0]\n",
      "\n",
      "\n",
      "Cross-testing with threshold: 100\n",
      "Accuracy with .score: 0.5\n",
      "Accuracy with .predict_proba: 0.5\n",
      "ROC AUC: 0.990451388888889\n",
      "Predictions: [0 0 0 0 0 0 0 0 0 0 0 0 0 0 0 0 0 0 0 0 0 0 0 0 0 0 0 0 0 0 0 0 0 0 0 0 0\n",
      " 0 0 0 0 0 0 0 0 0 0 0]\n",
      "\n",
      "\n",
      "Cross-testing with threshold: 200\n",
      "Accuracy with .score: 1.0\n",
      "Accuracy with .predict_proba: 1.0\n",
      "ROC AUC: 1.0\n",
      "Predictions: [0 1 0 0 1 0 1 0 0 1 0 0 1 1 1 0 0 1 1 0 1 0 0 1 1 1 0 1 0 0 1 0 1 1 1 0 0\n",
      " 0 1 0 0 1 1 0 1 1 1 0]\n",
      "\n",
      "\n",
      "Cross-testing with threshold: 300\n",
      "Accuracy with .score: 0.9791666666666666\n",
      "Accuracy with .predict_proba: 0.9791666666666666\n",
      "ROC AUC: 0.9861111111111112\n",
      "Predictions: [0 1 0 0 1 0 1 0 0 1 0 0 1 1 1 0 0 1 1 0 1 0 0 1 1 1 0 1 0 0 1 0 1 1 1 0 0\n",
      " 0 1 0 0 1 1 0 1 1 0 0]\n",
      "\n",
      "\n",
      "Cross-testing with threshold: 400\n",
      "Accuracy with .score: 0.7291666666666666\n",
      "Accuracy with .predict_proba: 0.7291666666666666\n",
      "ROC AUC: 0.7291666666666667\n",
      "Predictions: [1 1 0 0 1 1 1 1 1 1 0 1 1 1 1 1 0 1 1 1 1 0 0 1 1 1 1 1 1 0 1 0 1 1 1 0 1\n",
      " 1 1 1 0 1 1 1 1 1 1 0]\n",
      "\n",
      "\n"
     ]
    }
   ],
   "source": [
    "cross_testing_accuracy(None, df3, genes_rank, ths, trained_clfs)"
   ]
  },
  {
   "cell_type": "markdown",
   "metadata": {},
   "source": [
    "## Cross-dataset between Microarrays"
   ]
  },
  {
   "cell_type": "code",
   "execution_count": 18,
   "metadata": {},
   "outputs": [
    {
     "name": "stdout",
     "output_type": "stream",
     "text": [
      "Cross-testing with threshold: 1\n",
      "Accuracy with .score: 0.34210526315789475\n",
      "Accuracy with .predict_proba: 0.34210526315789475\n",
      "ROC AUC: 0.3528325123152709\n",
      "Predictions: [1 1 0 1 1 0 1 1 0 0 0 0 1 1 0 0 1 0 0 1 1 0 1 0 1 1 1 1 1 1 1 0 1 0 1 0 0\n",
      " 1 1 1 1 1 1 1 0 0 1 1 1 0 1 1 0 1 1 1 1 0 1 0 1 1 1 1 1 1 1 0 1 1 1 0 1 0\n",
      " 1 0 1 1 1 1 1 0 1 0 1 1 0 0 1 1 0 1 1 1 1 0 0 0 1 1 1 0 1 1 1 1 1 1 1 1 1\n",
      " 1 1 1]\n",
      "\n",
      "\n",
      "Cross-testing with threshold: 5\n",
      "Accuracy with .score: 0.49122807017543857\n",
      "Accuracy with .predict_proba: 0.49122807017543857\n",
      "ROC AUC: 0.5\n",
      "Predictions: [1 1 1 1 1 1 1 1 1 1 1 1 1 1 1 1 1 1 1 1 1 1 1 1 1 1 1 1 1 1 1 1 1 1 1 1 1\n",
      " 1 1 1 1 1 1 1 1 1 1 1 1 1 1 1 1 1 1 1 1 1 1 1 1 1 1 1 1 1 1 1 1 1 1 1 1 1\n",
      " 1 1 1 1 1 1 1 1 1 1 1 1 1 1 1 1 1 1 1 1 1 1 1 1 1 1 1 1 1 1 1 1 1 1 1 1 1\n",
      " 1 1 1]\n",
      "\n",
      "\n",
      "Cross-testing with threshold: 10\n",
      "Accuracy with .score: 0.49122807017543857\n",
      "Accuracy with .predict_proba: 0.49122807017543857\n",
      "ROC AUC: 0.5\n",
      "Predictions: [1 1 1 1 1 1 1 1 1 1 1 1 1 1 1 1 1 1 1 1 1 1 1 1 1 1 1 1 1 1 1 1 1 1 1 1 1\n",
      " 1 1 1 1 1 1 1 1 1 1 1 1 1 1 1 1 1 1 1 1 1 1 1 1 1 1 1 1 1 1 1 1 1 1 1 1 1\n",
      " 1 1 1 1 1 1 1 1 1 1 1 1 1 1 1 1 1 1 1 1 1 1 1 1 1 1 1 1 1 1 1 1 1 1 1 1 1\n",
      " 1 1 1]\n",
      "\n",
      "\n",
      "Cross-testing with threshold: 15\n",
      "Accuracy with .score: 0.49122807017543857\n",
      "Accuracy with .predict_proba: 0.49122807017543857\n",
      "ROC AUC: 0.5\n",
      "Predictions: [1 1 1 1 1 1 1 1 1 1 1 1 1 1 1 1 1 1 1 1 1 1 1 1 1 1 1 1 1 1 1 1 1 1 1 1 1\n",
      " 1 1 1 1 1 1 1 1 1 1 1 1 1 1 1 1 1 1 1 1 1 1 1 1 1 1 1 1 1 1 1 1 1 1 1 1 1\n",
      " 1 1 1 1 1 1 1 1 1 1 1 1 1 1 1 1 1 1 1 1 1 1 1 1 1 1 1 1 1 1 1 1 1 1 1 1 1\n",
      " 1 1 1]\n",
      "\n",
      "\n",
      "Cross-testing with threshold: 20\n",
      "Accuracy with .score: 0.8333333333333334\n",
      "Accuracy with .predict_proba: 0.8333333333333334\n",
      "ROC AUC: 0.8780788177339902\n",
      "Predictions: [0 0 1 0 0 1 1 0 0 1 0 0 0 0 1 1 1 0 0 0 1 0 0 1 1 0 0 0 0 0 0 1 0 1 0 1 1\n",
      " 0 1 0 0 1 1 1 0 1 1 0 0 1 1 1 0 0 0 0 0 1 0 1 0 0 0 0 1 0 0 0 0 1 1 1 0 0\n",
      " 1 1 0 0 1 0 1 1 1 1 1 1 0 1 0 0 0 1 1 0 0 1 0 1 1 1 1 0 1 1 0 0 0 1 1 1 0\n",
      " 0 0 0]\n",
      "\n",
      "\n",
      "Cross-testing with threshold: 50\n",
      "Accuracy with .score: 0.6754385964912281\n",
      "Accuracy with .predict_proba: 0.6754385964912281\n",
      "ROC AUC: 0.8991687192118226\n",
      "Predictions: [1 0 1 0 0 1 1 1 1 1 0 1 0 0 1 1 1 1 1 1 1 1 0 1 1 1 1 1 1 0 0 1 0 1 0 1 1\n",
      " 1 1 1 1 1 1 1 1 1 1 0 1 1 1 1 0 1 0 0 1 1 1 1 1 0 0 1 1 0 1 1 0 1 1 1 1 1\n",
      " 1 1 0 0 1 0 1 1 1 1 1 1 0 1 0 1 1 1 1 1 0 1 0 1 1 1 1 0 1 1 1 1 1 1 1 1 1\n",
      " 1 1 1]\n",
      "\n",
      "\n",
      "Cross-testing with threshold: 100\n",
      "Accuracy with .score: 0.543859649122807\n",
      "Accuracy with .predict_proba: 0.543859649122807\n",
      "ROC AUC: 0.8954741379310345\n",
      "Predictions: [1 1 1 1 1 1 1 1 1 1 1 1 0 0 1 1 1 1 1 1 1 1 1 1 1 1 1 1 1 1 1 1 1 1 1 1 1\n",
      " 1 1 1 1 1 1 1 1 1 1 0 1 1 1 1 1 1 1 0 1 1 1 1 1 1 1 1 1 0 1 1 1 1 1 1 1 1\n",
      " 1 1 1 1 1 0 1 1 1 1 1 1 1 1 1 1 1 1 1 1 1 1 1 1 1 1 1 1 1 1 1 1 1 1 1 1 1\n",
      " 1 1 1]\n",
      "\n",
      "\n",
      "Cross-testing with threshold: 200\n",
      "Accuracy with .score: 0.6578947368421053\n",
      "Accuracy with .predict_proba: 0.6578947368421053\n",
      "ROC AUC: 0.9151785714285714\n",
      "Predictions: [1 1 1 1 1 1 1 1 1 1 0 1 0 0 1 1 1 1 1 1 1 1 0 1 1 1 0 1 1 1 0 1 1 1 0 1 1\n",
      " 1 1 1 1 1 1 1 1 1 1 0 1 1 1 1 1 1 1 0 1 1 1 1 1 0 1 0 1 0 0 1 1 1 1 1 0 1\n",
      " 1 1 1 1 1 0 1 1 1 1 1 1 1 1 1 1 1 1 1 1 0 1 0 1 1 1 1 0 1 1 1 0 1 1 1 1 1\n",
      " 1 1 1]\n",
      "\n",
      "\n",
      "Cross-testing with threshold: 300\n",
      "Accuracy with .score: 0.7017543859649122\n",
      "Accuracy with .predict_proba: 0.7017543859649122\n",
      "ROC AUC: 0.9365763546798029\n",
      "Predictions: [1 1 1 0 1 1 1 1 1 1 0 1 0 0 1 1 1 1 1 1 1 1 0 1 1 1 0 1 1 0 0 1 0 1 0 1 1\n",
      " 1 1 1 1 1 1 1 1 1 1 0 1 1 1 1 1 1 0 0 1 1 1 1 1 0 1 0 1 0 0 1 1 1 1 1 0 1\n",
      " 1 1 1 0 1 0 1 1 1 1 1 1 1 1 1 1 1 1 1 1 0 1 0 1 1 1 1 0 1 1 1 0 0 1 1 1 0\n",
      " 1 1 1]\n",
      "\n",
      "\n",
      "Cross-testing with threshold: 400\n",
      "Accuracy with .score: 0.6491228070175439\n",
      "Accuracy with .predict_proba: 0.6491228070175439\n",
      "ROC AUC: 0.9282635467980295\n",
      "Predictions: [1 0 1 0 1 1 1 1 1 1 0 1 0 0 1 1 1 1 1 1 1 1 0 1 1 1 0 1 1 0 1 1 1 1 0 1 1\n",
      " 1 1 1 1 1 1 1 1 1 1 0 1 1 1 1 1 1 1 1 1 1 1 1 1 0 1 1 1 0 0 1 0 1 1 1 1 1\n",
      " 1 1 1 0 1 0 1 1 1 1 1 1 1 1 1 1 1 1 1 1 0 1 1 1 1 1 1 0 1 1 1 1 1 1 1 1 1\n",
      " 1 1 1]\n",
      "\n",
      "\n"
     ]
    }
   ],
   "source": [
    "cross_testing_accuracy(df1, df2, genes_rank, ths)"
   ]
  },
  {
   "cell_type": "code",
   "execution_count": 19,
   "metadata": {},
   "outputs": [
    {
     "name": "stdout",
     "output_type": "stream",
     "text": [
      "Cross-testing with threshold: 1\n",
      "Accuracy with .score: 0.6041666666666666\n",
      "Accuracy with .predict_proba: 0.6041666666666666\n",
      "ROC AUC: 0.6154513888888888\n",
      "Predictions: [0 0 1 0 1 0 0 1 0 0 0 1 1 0 1 0 1 0 0 1 1 0 1 0 1 0 0 0 0 1 1 1 0 1 1 0 1\n",
      " 0 1 0 0 0 1 1 1 1 0 1]\n",
      "\n",
      "\n",
      "Cross-testing with threshold: 5\n",
      "Accuracy with .score: 0.5\n",
      "Accuracy with .predict_proba: 0.5\n",
      "ROC AUC: 0.5\n",
      "Predictions: [1 1 1 1 1 1 1 1 1 1 1 1 1 1 1 1 1 1 1 1 1 1 1 1 1 1 1 1 1 1 1 1 1 1 1 1 1\n",
      " 1 1 1 1 1 1 1 1 1 1 1]\n",
      "\n",
      "\n",
      "Cross-testing with threshold: 10\n",
      "Accuracy with .score: 0.6458333333333334\n",
      "Accuracy with .predict_proba: 0.6458333333333334\n",
      "ROC AUC: 0.6666666666666666\n",
      "Predictions: [1 1 1 1 1 1 1 1 1 1 1 1 1 0 1 1 1 1 1 1 1 1 1 1 1 1 1 1 0 1 1 0 1 1 1 1 1\n",
      " 0 1 1 0 1 0 1 1 1 0 1]\n",
      "\n",
      "\n",
      "Cross-testing with threshold: 15\n",
      "Accuracy with .score: 0.6666666666666666\n",
      "Accuracy with .predict_proba: 0.6666666666666666\n",
      "ROC AUC: 0.6666666666666666\n",
      "Predictions: [1 1 1 1 1 1 1 1 1 0 1 1 1 0 1 1 1 1 1 1 1 1 1 1 1 1 1 1 0 1 1 0 1 1 1 1 1\n",
      " 0 1 1 0 1 0 1 1 1 0 1]\n",
      "\n",
      "\n",
      "Cross-testing with threshold: 20\n",
      "Accuracy with .score: 0.9166666666666666\n",
      "Accuracy with .predict_proba: 0.9166666666666666\n",
      "ROC AUC: 0.9166666666666667\n",
      "Predictions: [0 1 1 0 0 0 0 1 1 0 1 1 1 0 0 0 1 1 1 0 0 0 1 1 1 1 0 0 0 0 1 0 0 0 0 0 1\n",
      " 0 1 1 0 0 0 1 0 0 0 1]\n",
      "\n",
      "\n",
      "Cross-testing with threshold: 50\n",
      "Accuracy with .score: 0.9375\n",
      "Accuracy with .predict_proba: 0.9375\n",
      "ROC AUC: 0.9895833333333334\n",
      "Predictions: [0 1 1 0 0 1 0 1 1 0 1 1 1 0 0 0 1 1 1 0 0 0 1 1 1 1 0 0 0 0 1 0 0 0 0 0 1\n",
      " 0 1 1 0 0 0 1 0 0 0 1]\n",
      "\n",
      "\n",
      "Cross-testing with threshold: 100\n",
      "Accuracy with .score: 0.9375\n",
      "Accuracy with .predict_proba: 0.9375\n",
      "ROC AUC: 0.9826388888888888\n",
      "Predictions: [0 1 1 0 0 1 0 1 1 0 1 1 1 0 0 0 1 1 1 0 0 0 1 1 1 1 0 0 0 0 1 0 0 0 0 0 1\n",
      " 0 1 1 0 0 0 1 0 0 0 1]\n",
      "\n",
      "\n",
      "Cross-testing with threshold: 200\n",
      "Accuracy with .score: 0.9583333333333334\n",
      "Accuracy with .predict_proba: 0.9583333333333334\n",
      "ROC AUC: 0.9930555555555556\n",
      "Predictions: [0 1 1 0 0 1 0 1 1 0 1 1 1 0 0 0 1 1 1 0 0 0 1 1 1 1 0 0 0 0 1 0 0 0 0 1 1\n",
      " 0 1 1 0 0 0 1 0 0 0 1]\n",
      "\n",
      "\n",
      "Cross-testing with threshold: 300\n",
      "Accuracy with .score: 0.9583333333333334\n",
      "Accuracy with .predict_proba: 0.9583333333333334\n",
      "ROC AUC: 1.0\n",
      "Predictions: [0 1 1 0 0 1 0 1 1 0 1 1 1 0 0 0 1 1 1 1 0 0 1 1 1 1 0 0 0 0 1 0 0 0 0 0 1\n",
      " 0 1 1 0 0 0 1 0 0 0 1]\n",
      "\n",
      "\n",
      "Cross-testing with threshold: 400\n",
      "Accuracy with .score: 0.9583333333333334\n",
      "Accuracy with .predict_proba: 0.9583333333333334\n",
      "ROC AUC: 1.0\n",
      "Predictions: [0 1 1 0 0 1 0 1 1 0 1 1 1 0 0 0 1 1 1 1 0 0 1 1 1 1 0 0 0 0 1 0 0 0 0 0 1\n",
      " 0 1 1 0 0 0 1 0 0 0 1]\n",
      "\n",
      "\n"
     ]
    }
   ],
   "source": [
    "cross_testing_accuracy(df1, df3, genes_rank, ths)"
   ]
  },
  {
   "cell_type": "code",
   "execution_count": null,
   "metadata": {},
   "outputs": [],
   "source": []
  }
 ],
 "metadata": {
  "kernelspec": {
   "display_name": "Python 3",
   "language": "python",
   "name": "python3"
  },
  "language_info": {
   "codemirror_mode": {
    "name": "ipython",
    "version": 3
   },
   "file_extension": ".py",
   "mimetype": "text/x-python",
   "name": "python",
   "nbconvert_exporter": "python",
   "pygments_lexer": "ipython3",
   "version": "3.8.5"
  }
 },
 "nbformat": 4,
 "nbformat_minor": 4
}
