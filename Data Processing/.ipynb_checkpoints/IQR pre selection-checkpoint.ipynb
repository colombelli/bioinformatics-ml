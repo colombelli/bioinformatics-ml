{
 "cells": [
  {
   "cell_type": "code",
   "execution_count": 1,
   "metadata": {},
   "outputs": [],
   "source": [
    "load('/home/colombelli/Documents/datasets/merged.RData')"
   ]
  },
  {
   "cell_type": "code",
   "execution_count": 20,
   "metadata": {},
   "outputs": [
    {
     "data": {
      "text/html": [
       "<ol class=list-inline>\n",
       "\t<li>'X1.2.SBSRNA4'</li>\n",
       "\t<li>'A1BG'</li>\n",
       "\t<li>'A1BG.AS1'</li>\n",
       "\t<li>'A1CF'</li>\n",
       "\t<li>'A2LD1'</li>\n",
       "\t<li>'A2M'</li>\n",
       "\t<li>'A2ML1'</li>\n",
       "\t<li>'A2MP1'</li>\n",
       "\t<li>'A4GALT'</li>\n",
       "\t<li>'A4GNT'</li>\n",
       "</ol>\n"
      ],
      "text/latex": [
       "\\begin{enumerate*}\n",
       "\\item 'X1.2.SBSRNA4'\n",
       "\\item 'A1BG'\n",
       "\\item 'A1BG.AS1'\n",
       "\\item 'A1CF'\n",
       "\\item 'A2LD1'\n",
       "\\item 'A2M'\n",
       "\\item 'A2ML1'\n",
       "\\item 'A2MP1'\n",
       "\\item 'A4GALT'\n",
       "\\item 'A4GNT'\n",
       "\\end{enumerate*}\n"
      ],
      "text/markdown": [
       "1. 'X1.2.SBSRNA4'\n",
       "2. 'A1BG'\n",
       "3. 'A1BG.AS1'\n",
       "4. 'A1CF'\n",
       "5. 'A2LD1'\n",
       "6. 'A2M'\n",
       "7. 'A2ML1'\n",
       "8. 'A2MP1'\n",
       "9. 'A4GALT'\n",
       "10. 'A4GNT'\n",
       "\n",
       "\n"
      ],
      "text/plain": [
       " [1] \"X1.2.SBSRNA4\" \"A1BG\"         \"A1BG.AS1\"     \"A1CF\"         \"A2LD1\"       \n",
       " [6] \"A2M\"          \"A2ML1\"        \"A2MP1\"        \"A4GALT\"       \"A4GNT\"       "
      ]
     },
     "metadata": {},
     "output_type": "display_data"
    }
   ],
   "source": [
    "colnames(df.merged)[1:10]"
   ]
  },
  {
   "cell_type": "code",
   "execution_count": 21,
   "metadata": {},
   "outputs": [],
   "source": [
    "# applies IQR function column-wise for given dataset \n",
    "\n",
    "genesIQR <- apply(df.merged[1:length(df.merged)-1], MARGIN=2, IQR)"
   ]
  },
  {
   "cell_type": "code",
   "execution_count": 23,
   "metadata": {},
   "outputs": [],
   "source": [
    "sortedGenesIQR <- sort(genes.IQR, decreasing=TRUE)"
   ]
  },
  {
   "cell_type": "code",
   "execution_count": 24,
   "metadata": {},
   "outputs": [
    {
     "data": {
      "text/html": [
       "<dl class=dl-horizontal>\n",
       "\t<dt>PLIN1</dt>\n",
       "\t\t<dd>6.67802636743811</dd>\n",
       "\t<dt>MUCL1</dt>\n",
       "\t\t<dd>6.64767262199291</dd>\n",
       "\t<dt>CIDEC</dt>\n",
       "\t\t<dd>6.60890897773126</dd>\n",
       "\t<dt>LEP</dt>\n",
       "\t\t<dd>6.55086610950416</dd>\n",
       "\t<dt>ADIPOQ</dt>\n",
       "\t\t<dd>6.43715241316627</dd>\n",
       "\t<dt>GPD1</dt>\n",
       "\t\t<dd>6.431943168899</dd>\n",
       "\t<dt>TAT</dt>\n",
       "\t\t<dd>6.41495099004203</dd>\n",
       "\t<dt>MIR4508</dt>\n",
       "\t\t<dd>6.15328040550574</dd>\n",
       "\t<dt>PLIN4</dt>\n",
       "\t\t<dd>6.11481925593646</dd>\n",
       "\t<dt>FABP4</dt>\n",
       "\t\t<dd>6.091483378473</dd>\n",
       "</dl>\n"
      ],
      "text/latex": [
       "\\begin{description*}\n",
       "\\item[PLIN1] 6.67802636743811\n",
       "\\item[MUCL1] 6.64767262199291\n",
       "\\item[CIDEC] 6.60890897773126\n",
       "\\item[LEP] 6.55086610950416\n",
       "\\item[ADIPOQ] 6.43715241316627\n",
       "\\item[GPD1] 6.431943168899\n",
       "\\item[TAT] 6.41495099004203\n",
       "\\item[MIR4508] 6.15328040550574\n",
       "\\item[PLIN4] 6.11481925593646\n",
       "\\item[FABP4] 6.091483378473\n",
       "\\end{description*}\n"
      ],
      "text/markdown": [
       "PLIN1\n",
       ":   6.67802636743811MUCL1\n",
       ":   6.64767262199291CIDEC\n",
       ":   6.60890897773126LEP\n",
       ":   6.55086610950416ADIPOQ\n",
       ":   6.43715241316627GPD1\n",
       ":   6.431943168899TAT\n",
       ":   6.41495099004203MIR4508\n",
       ":   6.15328040550574PLIN4\n",
       ":   6.11481925593646FABP4\n",
       ":   6.091483378473\n",
       "\n"
      ],
      "text/plain": [
       "   PLIN1    MUCL1    CIDEC      LEP   ADIPOQ     GPD1      TAT  MIR4508 \n",
       "6.678026 6.647673 6.608909 6.550866 6.437152 6.431943 6.414951 6.153280 \n",
       "   PLIN4    FABP4 \n",
       "6.114819 6.091483 "
      ]
     },
     "metadata": {},
     "output_type": "display_data"
    }
   ],
   "source": [
    "sortedGenesIQR[1:10]"
   ]
  },
  {
   "cell_type": "code",
   "execution_count": 26,
   "metadata": {},
   "outputs": [],
   "source": [
    "# parameter for selecting the fraction of genes to drop (hopefully, only housekeeping genes will be dropped)\n",
    "\n",
    "fractionToDrop <- 0.4"
   ]
  },
  {
   "cell_type": "code",
   "execution_count": 29,
   "metadata": {},
   "outputs": [],
   "source": [
    "fractionToKeep <- 1 - fractionToDrop\n",
    "\n",
    "numberToKeep <- round(fractionToKeep * length(sortedGenesIQR))"
   ]
  },
  {
   "cell_type": "code",
   "execution_count": 32,
   "metadata": {},
   "outputs": [],
   "source": [
    "# get the name of the genes to keep\n",
    "\n",
    "genesToKeep <- names(sortedGenesIQR)[1:numberToKeep]"
   ]
  },
  {
   "cell_type": "code",
   "execution_count": 38,
   "metadata": {},
   "outputs": [],
   "source": [
    "preSelectedGenes <- df.merged[append(genesToKeep, \"class\")]"
   ]
  },
  {
   "cell_type": "code",
   "execution_count": null,
   "metadata": {},
   "outputs": [],
   "source": []
  }
 ],
 "metadata": {
  "kernelspec": {
   "display_name": "R",
   "language": "R",
   "name": "ir"
  },
  "language_info": {
   "codemirror_mode": "r",
   "file_extension": ".r",
   "mimetype": "text/x-r-source",
   "name": "R",
   "pygments_lexer": "r",
   "version": "3.6.1"
  }
 },
 "nbformat": 4,
 "nbformat_minor": 2
}
