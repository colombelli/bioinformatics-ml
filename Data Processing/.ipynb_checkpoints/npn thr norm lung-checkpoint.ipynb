{
 "cells": [
  {
   "cell_type": "code",
   "execution_count": 4,
   "metadata": {},
   "outputs": [],
   "source": [
    "library(huge)\n",
    "basedir <- \"/home/colombelli/Documents/datasets/LUNG_TEST_NPN_TRUNC/\""
   ]
  },
  {
   "cell_type": "code",
   "execution_count": 2,
   "metadata": {},
   "outputs": [],
   "source": [
    "process_data <- function(load.path, save.path) {\n",
    "    df <- read.csv(load.path, header=T, row.names=1, sep=\",\")\n",
    "    cls.cols <- df$class\n",
    "    df$class <- NULL\n",
    "    \n",
    "    npn.df <- huge.npn(df, npn.func = \"truncation\", verbose = TRUE)\n",
    "    npn.df <- as.data.frame(npn.df)\n",
    "    npn.df$class <- cls.cols\n",
    "\n",
    "    write.csv(npn.df, file = save.path, row.names = TRUE)\n",
    "}"
   ]
  },
  {
   "cell_type": "code",
   "execution_count": null,
   "metadata": {},
   "outputs": [],
   "source": [
    "luad.path <- paste(basedir, \"tcga_intersect.csv\", sep=\"\")\n",
    "luad.save <- paste(basedir, \"tcga_npn_trunc.csv\", sep=\"\")\n",
    "process_data(luad.path, luad.save)\n",
    "\n",
    "luad.path <- paste(basedir, \"cumida1_intersect.csv\", sep=\"\")\n",
    "luad.save <- paste(basedir, \"cumida1_npn_trunc.csv\", sep=\"\")\n",
    "process_data(luad.path, luad.save)\n",
    "\n",
    "luad.path <- paste(basedir, \"cumida2_intersect.csv\", sep=\"\")\n",
    "luad.save <- paste(basedir, \"cumida2_npn_trunc.csv\", sep=\"\")\n",
    "process_data(luad.path, luad.save)\n",
    "\n",
    "luad.path <- paste(basedir, \"cumida3_intersect.csv\", sep=\"\")\n",
    "luad.save <- paste(basedir, \"cumida3_npn_trunc.csv\", sep=\"\")\n",
    "process_data(luad.path, luad.save)"
   ]
  }
 ],
 "metadata": {
  "kernelspec": {
   "display_name": "R",
   "language": "R",
   "name": "ir"
  },
  "language_info": {
   "codemirror_mode": "r",
   "file_extension": ".r",
   "mimetype": "text/x-r-source",
   "name": "R",
   "pygments_lexer": "r",
   "version": "4.0.2"
  }
 },
 "nbformat": 4,
 "nbformat_minor": 4
}
