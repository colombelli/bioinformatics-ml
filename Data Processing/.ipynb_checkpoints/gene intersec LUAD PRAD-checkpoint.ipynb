{
 "cells": [
  {
   "cell_type": "code",
   "execution_count": 1,
   "metadata": {},
   "outputs": [],
   "source": [
    "import numpy as np\n",
    "import pandas as pd"
   ]
  },
  {
   "cell_type": "markdown",
   "metadata": {},
   "source": [
    "## Prostate"
   ]
  },
  {
   "cell_type": "code",
   "execution_count": 21,
   "metadata": {},
   "outputs": [],
   "source": [
    "p1 = \"/home/colombelli/Documents/datasets/cumida/prostate/GSE46602/npn.csv\"\n",
    "p2 = \"/home/colombelli/Documents/datasets/cumida/prostate/GSE11682/npn.csv\"\n",
    "p3 = \"/home/colombelli/Documents/datasets/assembler/prad/prad_npn.csv\"\n",
    "\n",
    "gses = [p1,p2,p3]\n",
    "\n",
    "dfs = {}\n",
    "for path in gses:\n",
    "    gse = path.split('/')[-2]\n",
    "    dfs[gse] = pd.read_csv(path, index_col=0)"
   ]
  },
  {
   "cell_type": "code",
   "execution_count": 22,
   "metadata": {},
   "outputs": [],
   "source": [
    "genes = []\n",
    "\n",
    "for key in dfs:\n",
    "    g = list(dfs[key].columns)\n",
    "    genes.append(g)"
   ]
  },
  {
   "cell_type": "code",
   "execution_count": 23,
   "metadata": {},
   "outputs": [
    {
     "data": {
      "text/plain": [
       "15375"
      ]
     },
     "execution_count": 23,
     "metadata": {},
     "output_type": "execute_result"
    }
   ],
   "source": [
    "genes_intersec = list(set.intersection(*[set(x) for x in genes])) \n",
    "no_cls = [x for x in genes_intersec if x != 'class']\n",
    "len(no_cls)"
   ]
  },
  {
   "cell_type": "code",
   "execution_count": 24,
   "metadata": {},
   "outputs": [],
   "source": [
    "paths = {}\n",
    "for p in gses:\n",
    "    gse = p.split('/')[-2]\n",
    "    \n",
    "    direc = p.split('/')[1:-1]\n",
    "    d = ''\n",
    "    for c in direc:\n",
    "        d += '/' + c\n",
    "    d+='/'\n",
    "    \n",
    "    paths[gse] = d"
   ]
  },
  {
   "cell_type": "code",
   "execution_count": 25,
   "metadata": {},
   "outputs": [
    {
     "data": {
      "text/plain": [
       "{'GSE46602': '/home/colombelli/Documents/datasets/cumida/prostate/GSE46602/',\n",
       " 'GSE11682': '/home/colombelli/Documents/datasets/cumida/prostate/GSE11682/',\n",
       " 'prad': '/home/colombelli/Documents/datasets/assembler/prad/'}"
      ]
     },
     "execution_count": 25,
     "metadata": {},
     "output_type": "execute_result"
    }
   ],
   "source": [
    "paths"
   ]
  },
  {
   "cell_type": "code",
   "execution_count": 26,
   "metadata": {},
   "outputs": [],
   "source": [
    "for key in dfs:\n",
    "    file_name = \"intersect.csv\"\n",
    "    dfs[key].loc[:, no_cls+['class']].to_csv(paths[key]+file_name)"
   ]
  },
  {
   "cell_type": "markdown",
   "metadata": {},
   "source": [
    "## Lung"
   ]
  },
  {
   "cell_type": "code",
   "execution_count": 27,
   "metadata": {},
   "outputs": [],
   "source": [
    "p1 = \"/home/colombelli/Documents/datasets/cumida/lung/GSE18842/npn.csv\"\n",
    "p2 = \"/home/colombelli/Documents/datasets/cumida/lung/GSE19804/npn.csv\"\n",
    "p3 = \"/home/colombelli/Documents/datasets/cumida/lung/GSE27262/npn.csv\"\n",
    "p4 = \"/home/colombelli/Documents/datasets/assembler/luad/luad_npn.csv\"\n",
    "\n",
    "gses = [p1,p2,p3,p4]\n",
    "\n",
    "dfs = {}\n",
    "for path in gses:\n",
    "    gse = path.split('/')[-2]\n",
    "    dfs[gse] = pd.read_csv(path, index_col=0)"
   ]
  },
  {
   "cell_type": "code",
   "execution_count": 28,
   "metadata": {},
   "outputs": [],
   "source": [
    "genes = []\n",
    "\n",
    "for key in dfs:\n",
    "    g = list(dfs[key].columns)\n",
    "    genes.append(g)"
   ]
  },
  {
   "cell_type": "code",
   "execution_count": 29,
   "metadata": {},
   "outputs": [
    {
     "data": {
      "text/plain": [
       "16698"
      ]
     },
     "execution_count": 29,
     "metadata": {},
     "output_type": "execute_result"
    }
   ],
   "source": [
    "genes_intersec = list(set.intersection(*[set(x) for x in genes])) \n",
    "no_cls = [x for x in genes_intersec if x != 'class']\n",
    "len(no_cls)"
   ]
  },
  {
   "cell_type": "code",
   "execution_count": 30,
   "metadata": {},
   "outputs": [],
   "source": [
    "paths = {}\n",
    "for p in gses:\n",
    "    gse = p.split('/')[-2]\n",
    "    \n",
    "    direc = p.split('/')[1:-1]\n",
    "    d = ''\n",
    "    for c in direc:\n",
    "        d += '/' + c\n",
    "    d+='/'\n",
    "    \n",
    "    paths[gse] = d"
   ]
  },
  {
   "cell_type": "code",
   "execution_count": 31,
   "metadata": {},
   "outputs": [
    {
     "data": {
      "text/plain": [
       "{'GSE18842': '/home/colombelli/Documents/datasets/cumida/lung/GSE18842/',\n",
       " 'GSE19804': '/home/colombelli/Documents/datasets/cumida/lung/GSE19804/',\n",
       " 'GSE27262': '/home/colombelli/Documents/datasets/cumida/lung/GSE27262/',\n",
       " 'luad': '/home/colombelli/Documents/datasets/assembler/luad/'}"
      ]
     },
     "execution_count": 31,
     "metadata": {},
     "output_type": "execute_result"
    }
   ],
   "source": [
    "paths"
   ]
  },
  {
   "cell_type": "code",
   "execution_count": 32,
   "metadata": {},
   "outputs": [],
   "source": [
    "for key in dfs:\n",
    "    file_name = \"intersect.csv\"\n",
    "    dfs[key].loc[:, no_cls+['class']].to_csv(paths[key]+file_name)"
   ]
  },
  {
   "cell_type": "code",
   "execution_count": null,
   "metadata": {},
   "outputs": [],
   "source": []
  }
 ],
 "metadata": {
  "kernelspec": {
   "display_name": "Python 3",
   "language": "python",
   "name": "python3"
  },
  "language_info": {
   "codemirror_mode": {
    "name": "ipython",
    "version": 3
   },
   "file_extension": ".py",
   "mimetype": "text/x-python",
   "name": "python",
   "nbconvert_exporter": "python",
   "pygments_lexer": "ipython3",
   "version": "3.8.5"
  }
 },
 "nbformat": 4,
 "nbformat_minor": 4
}
