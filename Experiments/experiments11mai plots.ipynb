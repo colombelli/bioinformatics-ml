{
 "cells": [
  {
   "cell_type": "code",
   "execution_count": 1,
   "metadata": {},
   "outputs": [],
   "source": [
    "import pandas as pd\n",
    "import numpy as np\n",
    "import matplotlib.pyplot as plt\n",
    "from sklearn.metrics import auc\n",
    "\n",
    "def get_results_file(experiment, dataset):\n",
    "    \n",
    "    root_path = \"/home/colombelli/Documents/Experiments11_mai/\" + dataset + \"/\"\n",
    "    results_file_name = \"/final_results.csv\"\n",
    "    complete_path = root_path + experiment + results_file_name\n",
    "    return pd.read_csv(complete_path)"
   ]
  },
  {
   "cell_type": "code",
   "execution_count": 2,
   "metadata": {},
   "outputs": [],
   "source": [
    "hyb_sb = get_results_file(\"Hyb_stb_borda\", 'BRCA')\n",
    "hyb_bb = get_results_file(\"Hyb_borda_borda\", 'BRCA')\n",
    "het = get_results_file(\"Het_borda\", 'BRCA')\n",
    "sin = get_results_file(\"sin_relieff\", 'BRCA')\n",
    "hom = get_results_file(\"Hom_borda_relieff\", 'BRCA')"
   ]
  },
  {
   "cell_type": "code",
   "execution_count": 4,
   "metadata": {},
   "outputs": [
    {
     "data": {
      "text/plain": [
       "<matplotlib.legend.Legend at 0x7f8e8c777e20>"
      ]
     },
     "execution_count": 4,
     "metadata": {},
     "output_type": "execute_result"
    },
    {
     "data": {
      "image/png": "[encoded data removed]",
      "text/plain": [
       "<Figure size 432x288 with 1 Axes>"
      ]
     },
     "metadata": {
      "needs_background": "light"
     },
     "output_type": "display_data"
    }
   ],
   "source": [
    "#plt.plot(hyb_sb['stabilities'], 'o-', label=\"hyb sb\")\n",
    "#plt.plot(hyb_bb['stabilities'], 'o-', label=\"hyb bb\")\n",
    "#plt.plot(het['mean_ACC'], 'o-', label=\"het\")\n",
    "#plt.plot(sin['stabilities'], 'o-', label=\"sin\")\n",
    "plt.plot(hom['mean_ACC'], 'o-', label=\"hom\")\n",
    "plt.plot(hyb_sb['mean_ACC'], 'o-', label=\"hyb_sb\")\n",
    "plt.legend()"
   ]
  },
  {
   "cell_type": "code",
   "execution_count": 7,
   "metadata": {},
   "outputs": [
    {
     "data": {
      "text/plain": [
       "<matplotlib.legend.Legend at 0x7f8e89f24550>"
      ]
     },
     "execution_count": 7,
     "metadata": {},
     "output_type": "execute_result"
    },
    {
     "data": {
      "image/png": "[encoded data removed]",
      "text/plain": [
       "<Figure size 432x288 with 1 Axes>"
      ]
     },
     "metadata": {
      "needs_background": "light"
     },
     "output_type": "display_data"
    }
   ],
   "source": [
    "plt.plot(ths, hom['stabilities']+hom['mean_ACC']-1, '-o', label=\"hom\")\n",
    "plt.plot(ths, hyb_sb['stabilities']+hyb_sb['mean_ACC']-1, '-o', label=\"hyb sb\")\n",
    "plt.legend()"
   ]
  },
  {
   "cell_type": "code",
   "execution_count": 3,
   "metadata": {},
   "outputs": [
    {
     "data": {
      "text/plain": [
       "0      1\n",
       "1      5\n",
       "2     10\n",
       "3     15\n",
       "4     25\n",
       "5     50\n",
       "6     75\n",
       "7    100\n",
       "8    150\n",
       "9    200\n",
       "Name: th_int, dtype: int64"
      ]
     },
     "execution_count": 3,
     "metadata": {},
     "output_type": "execute_result"
    }
   ],
   "source": [
    "ths = hyb_sb['th_int']\n",
    "ths"
   ]
  },
  {
   "cell_type": "code",
   "execution_count": 126,
   "metadata": {},
   "outputs": [
    {
     "data": {
      "text/plain": [
       "[0, 1, 2, 3, 4, 5, 6, 7, 8, 9]"
      ]
     },
     "execution_count": 126,
     "metadata": {},
     "output_type": "execute_result"
    }
   ],
   "source": [
    "x = list(range(0,10))\n",
    "x"
   ]
  },
  {
   "cell_type": "code",
   "execution_count": 128,
   "metadata": {},
   "outputs": [
    {
     "data": {
      "text/plain": [
       "4.665790921732571"
      ]
     },
     "execution_count": 128,
     "metadata": {},
     "output_type": "execute_result"
    }
   ],
   "source": [
    "auc(x, hom['stabilities']+hom['mean_ACC']-1)"
   ]
  },
  {
   "cell_type": "code",
   "execution_count": 129,
   "metadata": {},
   "outputs": [
    {
     "data": {
      "text/plain": [
       "5.19864563679749"
      ]
     },
     "execution_count": 129,
     "metadata": {},
     "output_type": "execute_result"
    }
   ],
   "source": [
    "auc(x, hyb_sb['stabilities']+hyb_sb['mean_ACC']-1)"
   ]
  },
  {
   "cell_type": "code",
   "execution_count": 146,
   "metadata": {},
   "outputs": [
    {
     "data": {
      "text/plain": [
       "4.907598757654326"
      ]
     },
     "execution_count": 146,
     "metadata": {},
     "output_type": "execute_result"
    }
   ],
   "source": [
    "auc(x, hyb_bb['stabilities']+hyb_bb['mean_ACC']-1)"
   ]
  },
  {
   "cell_type": "code",
   "execution_count": 134,
   "metadata": {},
   "outputs": [
    {
     "data": {
      "text/plain": [
       "9.0"
      ]
     },
     "execution_count": 134,
     "metadata": {},
     "output_type": "execute_result"
    }
   ],
   "source": [
    "auc(x, [1,1,1,1,1,1,1,1,1,1])"
   ]
  },
  {
   "cell_type": "code",
   "execution_count": 135,
   "metadata": {},
   "outputs": [],
   "source": [
    "import os"
   ]
  },
  {
   "cell_type": "code",
   "execution_count": 147,
   "metadata": {},
   "outputs": [
    {
     "data": {
      "text/plain": [
       "10"
      ]
     },
     "execution_count": 147,
     "metadata": {},
     "output_type": "execute_result"
    }
   ],
   "source": [
    "len(hom)"
   ]
  },
  {
   "cell_type": "code",
   "execution_count": 6,
   "metadata": {},
   "outputs": [],
   "source": [
    "experiments = ['Het_borda', 'Hom_borda_oner', 'sin_geode', 'Hyb_borda_borda', 'Hom_borda_geode', 'sin_relieff', 'sin_gr', 'sin_su', 'sin_oner', 'Hyb_stb_borda', 'Hom_borda_relieff', 'Hom_borda_gr', 'Hom_borda_su']"
   ]
  },
  {
   "cell_type": "code",
   "execution_count": 7,
   "metadata": {},
   "outputs": [],
   "source": [
    "def get_tradeoff_auc(experiment, dataset):\n",
    "    \n",
    "    results = get_results_file(experiment, dataset)\n",
    "    x = list(range(len(results)))\n",
    "    y = (1 * results['mean_ROC_AUC']) + results['stabilities'] - 1\n",
    "    return auc(x, y)"
   ]
  },
  {
   "cell_type": "code",
   "execution_count": 8,
   "metadata": {},
   "outputs": [
    {
     "name": "stdout",
     "output_type": "stream",
     "text": [
      "Het_borda 3.5007919858704177\n",
      "Hom_borda_oner 3.451710317498001\n",
      "sin_geode 2.925610246947529\n",
      "Hyb_borda_borda 4.084050226638368\n",
      "Hom_borda_geode 3.4300349002652655\n",
      "sin_relieff 5.156009005082652\n",
      "sin_gr 3.217821594435314\n",
      "sin_su 3.2302794464202513\n",
      "sin_oner 2.9614394589282265\n",
      "Hyb_stb_borda 4.00025576032141\n",
      "Hom_borda_relieff 4.479378904843094\n",
      "Hom_borda_gr 3.350539518472343\n",
      "Hom_borda_su 3.436689742805968\n"
     ]
    }
   ],
   "source": [
    "for exp in experiments:\n",
    "    \n",
    "    print(exp, get_tradeoff_auc(exp, \"THCA\"))"
   ]
  },
  {
   "cell_type": "code",
   "execution_count": 13,
   "metadata": {},
   "outputs": [
    {
     "data": {
      "text/html": [
       "<div>\n",
       "<style scoped>\n",
       "    .dataframe tbody tr th:only-of-type {\n",
       "        vertical-align: middle;\n",
       "    }\n",
       "\n",
       "    .dataframe tbody tr th {\n",
       "        vertical-align: top;\n",
       "    }\n",
       "\n",
       "    .dataframe thead th {\n",
       "        text-align: right;\n",
       "    }\n",
       "</style>\n",
       "<table border=\"1\" class=\"dataframe\">\n",
       "  <thead>\n",
       "    <tr style=\"text-align: right;\">\n",
       "      <th></th>\n",
       "      <th>th_frac</th>\n",
       "      <th>th_int</th>\n",
       "      <th>stabilities</th>\n",
       "      <th>mean_ACC</th>\n",
       "      <th>std_ACC</th>\n",
       "      <th>mean_ROC_AUC</th>\n",
       "      <th>std_ROC_AUC</th>\n",
       "      <th>mean_PR_AUC</th>\n",
       "      <th>std_PR_AUC</th>\n",
       "    </tr>\n",
       "  </thead>\n",
       "  <tbody>\n",
       "    <tr>\n",
       "      <th>0</th>\n",
       "      <td>0.007132</td>\n",
       "      <td>1</td>\n",
       "      <td>0.099936</td>\n",
       "      <td>0.929423</td>\n",
       "      <td>0.021114</td>\n",
       "      <td>0.952539</td>\n",
       "      <td>0.022644</td>\n",
       "      <td>0.994039</td>\n",
       "      <td>0.004616</td>\n",
       "    </tr>\n",
       "    <tr>\n",
       "      <th>1</th>\n",
       "      <td>0.035658</td>\n",
       "      <td>5</td>\n",
       "      <td>0.479814</td>\n",
       "      <td>0.995945</td>\n",
       "      <td>0.003629</td>\n",
       "      <td>0.999725</td>\n",
       "      <td>0.000381</td>\n",
       "      <td>0.999972</td>\n",
       "      <td>0.000038</td>\n",
       "    </tr>\n",
       "    <tr>\n",
       "      <th>2</th>\n",
       "      <td>0.071317</td>\n",
       "      <td>10</td>\n",
       "      <td>0.499643</td>\n",
       "      <td>0.996751</td>\n",
       "      <td>0.001624</td>\n",
       "      <td>0.999959</td>\n",
       "      <td>0.000081</td>\n",
       "      <td>0.999996</td>\n",
       "      <td>0.000008</td>\n",
       "    </tr>\n",
       "    <tr>\n",
       "      <th>3</th>\n",
       "      <td>0.106975</td>\n",
       "      <td>15</td>\n",
       "      <td>0.546181</td>\n",
       "      <td>0.997564</td>\n",
       "      <td>0.001989</td>\n",
       "      <td>0.999919</td>\n",
       "      <td>0.000162</td>\n",
       "      <td>0.999992</td>\n",
       "      <td>0.000016</td>\n",
       "    </tr>\n",
       "    <tr>\n",
       "      <th>4</th>\n",
       "      <td>0.178291</td>\n",
       "      <td>25</td>\n",
       "      <td>0.426978</td>\n",
       "      <td>0.996751</td>\n",
       "      <td>0.003041</td>\n",
       "      <td>0.999919</td>\n",
       "      <td>0.000162</td>\n",
       "      <td>0.999992</td>\n",
       "      <td>0.000016</td>\n",
       "    </tr>\n",
       "    <tr>\n",
       "      <th>5</th>\n",
       "      <td>0.356583</td>\n",
       "      <td>50</td>\n",
       "      <td>0.429967</td>\n",
       "      <td>0.995938</td>\n",
       "      <td>0.004453</td>\n",
       "      <td>0.999878</td>\n",
       "      <td>0.000244</td>\n",
       "      <td>0.999988</td>\n",
       "      <td>0.000024</td>\n",
       "    </tr>\n",
       "    <tr>\n",
       "      <th>6</th>\n",
       "      <td>0.534874</td>\n",
       "      <td>75</td>\n",
       "      <td>0.449053</td>\n",
       "      <td>0.995938</td>\n",
       "      <td>0.004453</td>\n",
       "      <td>0.999919</td>\n",
       "      <td>0.000162</td>\n",
       "      <td>0.999992</td>\n",
       "      <td>0.000016</td>\n",
       "    </tr>\n",
       "    <tr>\n",
       "      <th>7</th>\n",
       "      <td>0.713165</td>\n",
       "      <td>100</td>\n",
       "      <td>0.465186</td>\n",
       "      <td>0.995129</td>\n",
       "      <td>0.003984</td>\n",
       "      <td>0.999797</td>\n",
       "      <td>0.000406</td>\n",
       "      <td>0.999980</td>\n",
       "      <td>0.000040</td>\n",
       "    </tr>\n",
       "    <tr>\n",
       "      <th>8</th>\n",
       "      <td>1.069748</td>\n",
       "      <td>150</td>\n",
       "      <td>0.496615</td>\n",
       "      <td>0.992696</td>\n",
       "      <td>0.004733</td>\n",
       "      <td>0.999878</td>\n",
       "      <td>0.000244</td>\n",
       "      <td>0.999988</td>\n",
       "      <td>0.000024</td>\n",
       "    </tr>\n",
       "    <tr>\n",
       "      <th>9</th>\n",
       "      <td>1.426330</td>\n",
       "      <td>200</td>\n",
       "      <td>0.509503</td>\n",
       "      <td>0.992696</td>\n",
       "      <td>0.004733</td>\n",
       "      <td>0.999797</td>\n",
       "      <td>0.000406</td>\n",
       "      <td>0.999980</td>\n",
       "      <td>0.000040</td>\n",
       "    </tr>\n",
       "  </tbody>\n",
       "</table>\n",
       "</div>"
      ],
      "text/plain": [
       "    th_frac  th_int  stabilities  mean_ACC   std_ACC  mean_ROC_AUC  \\\n",
       "0  0.007132       1     0.099936  0.929423  0.021114      0.952539   \n",
       "1  0.035658       5     0.479814  0.995945  0.003629      0.999725   \n",
       "2  0.071317      10     0.499643  0.996751  0.001624      0.999959   \n",
       "3  0.106975      15     0.546181  0.997564  0.001989      0.999919   \n",
       "4  0.178291      25     0.426978  0.996751  0.003041      0.999919   \n",
       "5  0.356583      50     0.429967  0.995938  0.004453      0.999878   \n",
       "6  0.534874      75     0.449053  0.995938  0.004453      0.999919   \n",
       "7  0.713165     100     0.465186  0.995129  0.003984      0.999797   \n",
       "8  1.069748     150     0.496615  0.992696  0.004733      0.999878   \n",
       "9  1.426330     200     0.509503  0.992696  0.004733      0.999797   \n",
       "\n",
       "   std_ROC_AUC  mean_PR_AUC  std_PR_AUC  \n",
       "0     0.022644     0.994039    0.004616  \n",
       "1     0.000381     0.999972    0.000038  \n",
       "2     0.000081     0.999996    0.000008  \n",
       "3     0.000162     0.999992    0.000016  \n",
       "4     0.000162     0.999992    0.000016  \n",
       "5     0.000244     0.999988    0.000024  \n",
       "6     0.000162     0.999992    0.000016  \n",
       "7     0.000406     0.999980    0.000040  \n",
       "8     0.000244     0.999988    0.000024  \n",
       "9     0.000406     0.999980    0.000040  "
      ]
     },
     "execution_count": 13,
     "metadata": {},
     "output_type": "execute_result"
    }
   ],
   "source": [
    "get_results_file(\"sin_gr\", \"BRCA\")"
   ]
  },
  {
   "cell_type": "code",
   "execution_count": 15,
   "metadata": {},
   "outputs": [],
   "source": [
    "th_transf = []\n",
    "\n",
    "for th in ths:\n",
    "    \n",
    "    th_transf.append(\n",
    "       1 - (math.log(th, 2) / math.log(14000, 2))\n",
    "    )"
   ]
  },
  {
   "cell_type": "code",
   "execution_count": 9,
   "metadata": {},
   "outputs": [],
   "source": [
    "import math"
   ]
  },
  {
   "cell_type": "code",
   "execution_count": 14,
   "metadata": {},
   "outputs": [
    {
     "data": {
      "text/plain": [
       "2.0"
      ]
     },
     "execution_count": 14,
     "metadata": {},
     "output_type": "execute_result"
    }
   ],
   "source": [
    "math.log(4,2)"
   ]
  },
  {
   "cell_type": "code",
   "execution_count": 16,
   "metadata": {},
   "outputs": [
    {
     "data": {
      "text/plain": [
       "[1.0,\n",
       " 0.8314162036673142,\n",
       " 0.7588111145158072,\n",
       " 0.7163398600006592,\n",
       " 0.6628324073346283,\n",
       " 0.5902273181831215,\n",
       " 0.5477560636679734,\n",
       " 0.5176222290316144,\n",
       " 0.4751509745164664,\n",
       " 0.4450171398801074]"
      ]
     },
     "execution_count": 16,
     "metadata": {},
     "output_type": "execute_result"
    }
   ],
   "source": [
    "th_transf"
   ]
  },
  {
   "cell_type": "code",
   "execution_count": 76,
   "metadata": {},
   "outputs": [],
   "source": [
    "def get_colombelli_score(experiment, dataset):\n",
    "    \n",
    "    results = get_results_file(experiment, dataset)\n",
    "    norm_stb = (results['stabilities']+1)/2\n",
    "    x = list(range(len(ths)))#th_transf\n",
    "    y = list((3 * results['mean_ROC_AUC']) + norm_stb - 3)\n",
    "    \n",
    "    #plt.plot(x, y, '-o')\n",
    "    #plt.show()\n",
    "    cs = auc(x,y)\n",
    "    print(experiment, cs)\n",
    "    return cs"
   ]
  },
  {
   "cell_type": "code",
   "execution_count": 77,
   "metadata": {},
   "outputs": [
    {
     "name": "stdout",
     "output_type": "stream",
     "text": [
      "Het_borda 6.801090811023471\n",
      "Hom_borda_oner 6.754468697275299\n",
      "sin_geode 6.404301658263005\n",
      "Hyb_borda_borda 6.946108977386997\n",
      "Hom_borda_geode 7.018731439868288\n",
      "sin_relieff 7.673018817365554\n",
      "sin_gr 6.474565122463202\n",
      "sin_su 6.695064256343264\n",
      "sin_oner 6.792499676295457\n",
      "Hyb_stb_borda 7.091475835467755\n",
      "Hom_borda_relieff 7.459171564320001\n",
      "Hom_borda_gr 6.604923538139413\n",
      "Hom_borda_su 6.821542000844244\n"
     ]
    }
   ],
   "source": [
    "performance_dict = {}\n",
    "for exp in experiments:\n",
    "    performance_dict[exp] = get_colombelli_score(exp, \"BRCA\")"
   ]
  },
  {
   "cell_type": "code",
   "execution_count": 78,
   "metadata": {},
   "outputs": [
    {
     "data": {
      "text/plain": [
       "[('sin_relieff', 7.673018817365554),\n",
       " ('Hom_borda_relieff', 7.459171564320001),\n",
       " ('Hyb_stb_borda', 7.091475835467755),\n",
       " ('Hom_borda_geode', 7.018731439868288),\n",
       " ('Hyb_borda_borda', 6.946108977386997),\n",
       " ('Hom_borda_su', 6.821542000844244),\n",
       " ('Het_borda', 6.801090811023471),\n",
       " ('sin_oner', 6.792499676295457),\n",
       " ('Hom_borda_oner', 6.754468697275299),\n",
       " ('sin_su', 6.695064256343264),\n",
       " ('Hom_borda_gr', 6.604923538139413),\n",
       " ('sin_gr', 6.474565122463202),\n",
       " ('sin_geode', 6.404301658263005)]"
      ]
     },
     "execution_count": 78,
     "metadata": {},
     "output_type": "execute_result"
    }
   ],
   "source": [
    "sorted(performance_dict.items(), key=lambda x: x[1], reverse=True)"
   ]
  },
  {
   "cell_type": "code",
   "execution_count": 61,
   "metadata": {},
   "outputs": [
    {
     "data": {
      "text/plain": [
       "[('sin_relieff', 0.45232452176837346),\n",
       " ('Hom_borda_geode', 0.4485473081011633),\n",
       " ('Hom_borda_relieff', 0.44567432229021425),\n",
       " ('Hyb_stb_borda', 0.44073073052222045),\n",
       " ('Hyb_borda_borda', 0.4328462360452213),\n",
       " ('Het_borda', 0.4293512788237248),\n",
       " ('sin_geode', 0.4080816587457287),\n",
       " ('Hom_borda_su', 0.4021001468805242),\n",
       " ('sin_oner', 0.39460825595508486),\n",
       " ('Hom_borda_oner', 0.39110331193648284),\n",
       " ('sin_su', 0.391079424415103),\n",
       " ('Hom_borda_gr', 0.38769149341222675),\n",
       " ('sin_gr', 0.3811834284290137)]"
      ]
     },
     "execution_count": 61,
     "metadata": {},
     "output_type": "execute_result"
    }
   ],
   "source": [
    "sorted(performance_dict.items(), key=lambda x: x[1], reverse=True)"
   ]
  },
  {
   "cell_type": "code",
   "execution_count": 64,
   "metadata": {},
   "outputs": [
    {
     "data": {
      "text/plain": [
       "[('sin_relieff', 176.23388734557653),\n",
       " ('Hom_borda_relieff', 167.99031449117808),\n",
       " ('Hyb_stb_borda', 158.30386389718393),\n",
       " ('Hom_borda_su', 156.47748864701248),\n",
       " ('Hyb_borda_borda', 155.48236683073748),\n",
       " ('sin_oner', 154.90153412724658),\n",
       " ('Hom_borda_oner', 154.70737547088086),\n",
       " ('sin_su', 152.97534756674145),\n",
       " ('Hom_borda_gr', 152.33629050596596),\n",
       " ('Hom_borda_geode', 149.34677091638957),\n",
       " ('Het_borda', 149.30108830880963),\n",
       " ('sin_gr', 145.84029742126722),\n",
       " ('sin_geode', 140.34533383165768)]"
      ]
     },
     "execution_count": 64,
     "metadata": {},
     "output_type": "execute_result"
    }
   ],
   "source": [
    "sorted(performance_dict.items(), key=lambda x: x[1], reverse=True)"
   ]
  },
  {
   "cell_type": "code",
   "execution_count": 79,
   "metadata": {},
   "outputs": [
    {
     "data": {
      "text/plain": [
       "<matplotlib.legend.Legend at 0x7fcf34d8f460>"
      ]
     },
     "execution_count": 79,
     "metadata": {},
     "output_type": "execute_result"
    },
    {
     "data": {
      "image/png": "[encoded data removed]",
      "text/plain": [
       "<Figure size 432x288 with 1 Axes>"
      ]
     },
     "metadata": {
      "needs_background": "light"
     },
     "output_type": "display_data"
    }
   ],
   "source": [
    "hom_geode = get_results_file(\"Hom_borda_geode\", \"BRCA\")\n",
    "hyb_sb = get_results_file(\"Hyb_stb_borda\", \"BRCA\")\n",
    "\n",
    "norm_stb_hom = (hom_geode['stabilities']+1)/2\n",
    "norm_stb_hyb = (hyb_sb['stabilities']+1)/2\n",
    "\n",
    "x = th_transf\n",
    "#x = ths\n",
    "#x = list(range(len(ths)))\n",
    "\n",
    "y_hom = list((3 * hom_geode['mean_ROC_AUC']) + norm_stb_hom - 3)\n",
    "y_hyb = list((3 * hyb_sb['mean_ROC_AUC']) + norm_stb_hyb - 3)\n",
    "\n",
    "\n",
    "plt.plot(x, y_hom, '-o', label=\"hom\")\n",
    "plt.plot(x, y_hyb, '-o', label=\"hyb\")\n",
    "plt.legend()"
   ]
  },
  {
   "cell_type": "code",
   "execution_count": 74,
   "metadata": {},
   "outputs": [
    {
     "data": {
      "text/plain": [
       "[1, 5, 10, 15, 25, 50, 75, 100, 150, 200]"
      ]
     },
     "execution_count": 74,
     "metadata": {},
     "output_type": "execute_result"
    }
   ],
   "source": [
    "list(ths)"
   ]
  },
  {
   "cell_type": "code",
   "execution_count": 73,
   "metadata": {},
   "outputs": [
    {
     "data": {
      "text/plain": [
       "[1.0,\n",
       " 0.8314162036673142,\n",
       " 0.7588111145158072,\n",
       " 0.7163398600006592,\n",
       " 0.6628324073346283,\n",
       " 0.5902273181831215,\n",
       " 0.5477560636679734,\n",
       " 0.5176222290316144,\n",
       " 0.4751509745164664,\n",
       " 0.4450171398801074]"
      ]
     },
     "execution_count": 73,
     "metadata": {},
     "output_type": "execute_result"
    }
   ],
   "source": [
    "th_transf"
   ]
  },
  {
   "cell_type": "code",
   "execution_count": 80,
   "metadata": {},
   "outputs": [
    {
     "data": {
      "text/html": [
       "<div>\n",
       "<style scoped>\n",
       "    .dataframe tbody tr th:only-of-type {\n",
       "        vertical-align: middle;\n",
       "    }\n",
       "\n",
       "    .dataframe tbody tr th {\n",
       "        vertical-align: top;\n",
       "    }\n",
       "\n",
       "    .dataframe thead th {\n",
       "        text-align: right;\n",
       "    }\n",
       "</style>\n",
       "<table border=\"1\" class=\"dataframe\">\n",
       "  <thead>\n",
       "    <tr style=\"text-align: right;\">\n",
       "      <th></th>\n",
       "      <th>th_frac</th>\n",
       "      <th>th_int</th>\n",
       "      <th>stabilities</th>\n",
       "      <th>mean_ACC</th>\n",
       "      <th>std_ACC</th>\n",
       "      <th>mean_ROC_AUC</th>\n",
       "      <th>std_ROC_AUC</th>\n",
       "      <th>mean_PR_AUC</th>\n",
       "      <th>std_PR_AUC</th>\n",
       "    </tr>\n",
       "  </thead>\n",
       "  <tbody>\n",
       "    <tr>\n",
       "      <th>0</th>\n",
       "      <td>0.007132</td>\n",
       "      <td>1</td>\n",
       "      <td>1.000000</td>\n",
       "      <td>0.946437</td>\n",
       "      <td>0.018718</td>\n",
       "      <td>0.977890</td>\n",
       "      <td>0.006046</td>\n",
       "      <td>0.997871</td>\n",
       "      <td>0.000601</td>\n",
       "    </tr>\n",
       "    <tr>\n",
       "      <th>1</th>\n",
       "      <td>0.035658</td>\n",
       "      <td>5</td>\n",
       "      <td>0.679886</td>\n",
       "      <td>0.991070</td>\n",
       "      <td>0.003986</td>\n",
       "      <td>0.999525</td>\n",
       "      <td>0.000330</td>\n",
       "      <td>0.999952</td>\n",
       "      <td>0.000032</td>\n",
       "    </tr>\n",
       "    <tr>\n",
       "      <th>2</th>\n",
       "      <td>0.071317</td>\n",
       "      <td>10</td>\n",
       "      <td>0.649750</td>\n",
       "      <td>0.994316</td>\n",
       "      <td>0.004875</td>\n",
       "      <td>0.999802</td>\n",
       "      <td>0.000178</td>\n",
       "      <td>0.999980</td>\n",
       "      <td>0.000018</td>\n",
       "    </tr>\n",
       "    <tr>\n",
       "      <th>3</th>\n",
       "      <td>0.106975</td>\n",
       "      <td>15</td>\n",
       "      <td>0.512812</td>\n",
       "      <td>0.995129</td>\n",
       "      <td>0.003978</td>\n",
       "      <td>0.999802</td>\n",
       "      <td>0.000178</td>\n",
       "      <td>0.999980</td>\n",
       "      <td>0.000018</td>\n",
       "    </tr>\n",
       "    <tr>\n",
       "      <th>4</th>\n",
       "      <td>0.178291</td>\n",
       "      <td>25</td>\n",
       "      <td>0.559214</td>\n",
       "      <td>0.995942</td>\n",
       "      <td>0.003629</td>\n",
       "      <td>0.999841</td>\n",
       "      <td>0.000151</td>\n",
       "      <td>0.999984</td>\n",
       "      <td>0.000015</td>\n",
       "    </tr>\n",
       "    <tr>\n",
       "      <th>5</th>\n",
       "      <td>0.356583</td>\n",
       "      <td>50</td>\n",
       "      <td>0.542368</td>\n",
       "      <td>0.995938</td>\n",
       "      <td>0.004453</td>\n",
       "      <td>0.999758</td>\n",
       "      <td>0.000394</td>\n",
       "      <td>0.999976</td>\n",
       "      <td>0.000038</td>\n",
       "    </tr>\n",
       "    <tr>\n",
       "      <th>6</th>\n",
       "      <td>0.534874</td>\n",
       "      <td>75</td>\n",
       "      <td>0.512057</td>\n",
       "      <td>0.995125</td>\n",
       "      <td>0.004741</td>\n",
       "      <td>0.999675</td>\n",
       "      <td>0.000649</td>\n",
       "      <td>0.999969</td>\n",
       "      <td>0.000062</td>\n",
       "    </tr>\n",
       "    <tr>\n",
       "      <th>7</th>\n",
       "      <td>0.713165</td>\n",
       "      <td>100</td>\n",
       "      <td>0.488351</td>\n",
       "      <td>0.995125</td>\n",
       "      <td>0.003984</td>\n",
       "      <td>0.999636</td>\n",
       "      <td>0.000634</td>\n",
       "      <td>0.999965</td>\n",
       "      <td>0.000061</td>\n",
       "    </tr>\n",
       "    <tr>\n",
       "      <th>8</th>\n",
       "      <td>1.069748</td>\n",
       "      <td>150</td>\n",
       "      <td>0.452139</td>\n",
       "      <td>0.995125</td>\n",
       "      <td>0.004741</td>\n",
       "      <td>0.999474</td>\n",
       "      <td>0.000958</td>\n",
       "      <td>0.999949</td>\n",
       "      <td>0.000092</td>\n",
       "    </tr>\n",
       "    <tr>\n",
       "      <th>9</th>\n",
       "      <td>1.426330</td>\n",
       "      <td>200</td>\n",
       "      <td>0.448635</td>\n",
       "      <td>0.994316</td>\n",
       "      <td>0.004148</td>\n",
       "      <td>0.999271</td>\n",
       "      <td>0.001362</td>\n",
       "      <td>0.999930</td>\n",
       "      <td>0.000130</td>\n",
       "    </tr>\n",
       "  </tbody>\n",
       "</table>\n",
       "</div>"
      ],
      "text/plain": [
       "    th_frac  th_int  stabilities  mean_ACC   std_ACC  mean_ROC_AUC  \\\n",
       "0  0.007132       1     1.000000  0.946437  0.018718      0.977890   \n",
       "1  0.035658       5     0.679886  0.991070  0.003986      0.999525   \n",
       "2  0.071317      10     0.649750  0.994316  0.004875      0.999802   \n",
       "3  0.106975      15     0.512812  0.995129  0.003978      0.999802   \n",
       "4  0.178291      25     0.559214  0.995942  0.003629      0.999841   \n",
       "5  0.356583      50     0.542368  0.995938  0.004453      0.999758   \n",
       "6  0.534874      75     0.512057  0.995125  0.004741      0.999675   \n",
       "7  0.713165     100     0.488351  0.995125  0.003984      0.999636   \n",
       "8  1.069748     150     0.452139  0.995125  0.004741      0.999474   \n",
       "9  1.426330     200     0.448635  0.994316  0.004148      0.999271   \n",
       "\n",
       "   std_ROC_AUC  mean_PR_AUC  std_PR_AUC  \n",
       "0     0.006046     0.997871    0.000601  \n",
       "1     0.000330     0.999952    0.000032  \n",
       "2     0.000178     0.999980    0.000018  \n",
       "3     0.000178     0.999980    0.000018  \n",
       "4     0.000151     0.999984    0.000015  \n",
       "5     0.000394     0.999976    0.000038  \n",
       "6     0.000649     0.999969    0.000062  \n",
       "7     0.000634     0.999965    0.000061  \n",
       "8     0.000958     0.999949    0.000092  \n",
       "9     0.001362     0.999930    0.000130  "
      ]
     },
     "execution_count": 80,
     "metadata": {},
     "output_type": "execute_result"
    }
   ],
   "source": [
    "hom_geode"
   ]
  },
  {
   "cell_type": "code",
   "execution_count": 81,
   "metadata": {},
   "outputs": [
    {
     "data": {
      "text/html": [
       "<div>\n",
       "<style scoped>\n",
       "    .dataframe tbody tr th:only-of-type {\n",
       "        vertical-align: middle;\n",
       "    }\n",
       "\n",
       "    .dataframe tbody tr th {\n",
       "        vertical-align: top;\n",
       "    }\n",
       "\n",
       "    .dataframe thead th {\n",
       "        text-align: right;\n",
       "    }\n",
       "</style>\n",
       "<table border=\"1\" class=\"dataframe\">\n",
       "  <thead>\n",
       "    <tr style=\"text-align: right;\">\n",
       "      <th></th>\n",
       "      <th>th_frac</th>\n",
       "      <th>th_int</th>\n",
       "      <th>stabilities</th>\n",
       "      <th>mean_ACC</th>\n",
       "      <th>std_ACC</th>\n",
       "      <th>mean_ROC_AUC</th>\n",
       "      <th>std_ROC_AUC</th>\n",
       "      <th>mean_PR_AUC</th>\n",
       "      <th>std_PR_AUC</th>\n",
       "    </tr>\n",
       "  </thead>\n",
       "  <tbody>\n",
       "    <tr>\n",
       "      <th>0</th>\n",
       "      <td>0.007132</td>\n",
       "      <td>1</td>\n",
       "      <td>1.000000</td>\n",
       "      <td>0.946437</td>\n",
       "      <td>0.018718</td>\n",
       "      <td>0.977890</td>\n",
       "      <td>0.006046</td>\n",
       "      <td>0.997871</td>\n",
       "      <td>0.000601</td>\n",
       "    </tr>\n",
       "    <tr>\n",
       "      <th>1</th>\n",
       "      <td>0.035658</td>\n",
       "      <td>5</td>\n",
       "      <td>0.479814</td>\n",
       "      <td>0.999187</td>\n",
       "      <td>0.001626</td>\n",
       "      <td>1.000000</td>\n",
       "      <td>0.000000</td>\n",
       "      <td>1.000000</td>\n",
       "      <td>0.000000</td>\n",
       "    </tr>\n",
       "    <tr>\n",
       "      <th>2</th>\n",
       "      <td>0.071317</td>\n",
       "      <td>10</td>\n",
       "      <td>0.469622</td>\n",
       "      <td>0.997561</td>\n",
       "      <td>0.001991</td>\n",
       "      <td>0.999959</td>\n",
       "      <td>0.000081</td>\n",
       "      <td>0.999996</td>\n",
       "      <td>0.000008</td>\n",
       "    </tr>\n",
       "    <tr>\n",
       "      <th>3</th>\n",
       "      <td>0.106975</td>\n",
       "      <td>15</td>\n",
       "      <td>0.619593</td>\n",
       "      <td>0.998374</td>\n",
       "      <td>0.001991</td>\n",
       "      <td>0.999959</td>\n",
       "      <td>0.000081</td>\n",
       "      <td>0.999996</td>\n",
       "      <td>0.000008</td>\n",
       "    </tr>\n",
       "    <tr>\n",
       "      <th>4</th>\n",
       "      <td>0.178291</td>\n",
       "      <td>25</td>\n",
       "      <td>0.527157</td>\n",
       "      <td>0.996751</td>\n",
       "      <td>0.003041</td>\n",
       "      <td>1.000000</td>\n",
       "      <td>0.000000</td>\n",
       "      <td>1.000000</td>\n",
       "      <td>0.000000</td>\n",
       "    </tr>\n",
       "    <tr>\n",
       "      <th>5</th>\n",
       "      <td>0.356583</td>\n",
       "      <td>50</td>\n",
       "      <td>0.528318</td>\n",
       "      <td>0.995935</td>\n",
       "      <td>0.005142</td>\n",
       "      <td>0.999878</td>\n",
       "      <td>0.000244</td>\n",
       "      <td>0.999988</td>\n",
       "      <td>0.000024</td>\n",
       "    </tr>\n",
       "    <tr>\n",
       "      <th>6</th>\n",
       "      <td>0.534874</td>\n",
       "      <td>75</td>\n",
       "      <td>0.587125</td>\n",
       "      <td>0.995935</td>\n",
       "      <td>0.005142</td>\n",
       "      <td>0.999797</td>\n",
       "      <td>0.000406</td>\n",
       "      <td>0.999980</td>\n",
       "      <td>0.000040</td>\n",
       "    </tr>\n",
       "    <tr>\n",
       "      <th>7</th>\n",
       "      <td>0.713165</td>\n",
       "      <td>100</td>\n",
       "      <td>0.589069</td>\n",
       "      <td>0.995125</td>\n",
       "      <td>0.004741</td>\n",
       "      <td>0.999756</td>\n",
       "      <td>0.000487</td>\n",
       "      <td>0.999976</td>\n",
       "      <td>0.000048</td>\n",
       "    </tr>\n",
       "    <tr>\n",
       "      <th>8</th>\n",
       "      <td>1.069748</td>\n",
       "      <td>150</td>\n",
       "      <td>0.630042</td>\n",
       "      <td>0.994316</td>\n",
       "      <td>0.004875</td>\n",
       "      <td>0.999716</td>\n",
       "      <td>0.000568</td>\n",
       "      <td>0.999972</td>\n",
       "      <td>0.000056</td>\n",
       "    </tr>\n",
       "    <tr>\n",
       "      <th>9</th>\n",
       "      <td>1.426330</td>\n",
       "      <td>200</td>\n",
       "      <td>0.649500</td>\n",
       "      <td>0.993506</td>\n",
       "      <td>0.005504</td>\n",
       "      <td>0.999797</td>\n",
       "      <td>0.000406</td>\n",
       "      <td>0.999980</td>\n",
       "      <td>0.000040</td>\n",
       "    </tr>\n",
       "  </tbody>\n",
       "</table>\n",
       "</div>"
      ],
      "text/plain": [
       "    th_frac  th_int  stabilities  mean_ACC   std_ACC  mean_ROC_AUC  \\\n",
       "0  0.007132       1     1.000000  0.946437  0.018718      0.977890   \n",
       "1  0.035658       5     0.479814  0.999187  0.001626      1.000000   \n",
       "2  0.071317      10     0.469622  0.997561  0.001991      0.999959   \n",
       "3  0.106975      15     0.619593  0.998374  0.001991      0.999959   \n",
       "4  0.178291      25     0.527157  0.996751  0.003041      1.000000   \n",
       "5  0.356583      50     0.528318  0.995935  0.005142      0.999878   \n",
       "6  0.534874      75     0.587125  0.995935  0.005142      0.999797   \n",
       "7  0.713165     100     0.589069  0.995125  0.004741      0.999756   \n",
       "8  1.069748     150     0.630042  0.994316  0.004875      0.999716   \n",
       "9  1.426330     200     0.649500  0.993506  0.005504      0.999797   \n",
       "\n",
       "   std_ROC_AUC  mean_PR_AUC  std_PR_AUC  \n",
       "0     0.006046     0.997871    0.000601  \n",
       "1     0.000000     1.000000    0.000000  \n",
       "2     0.000081     0.999996    0.000008  \n",
       "3     0.000081     0.999996    0.000008  \n",
       "4     0.000000     1.000000    0.000000  \n",
       "5     0.000244     0.999988    0.000024  \n",
       "6     0.000406     0.999980    0.000040  \n",
       "7     0.000487     0.999976    0.000048  \n",
       "8     0.000568     0.999972    0.000056  \n",
       "9     0.000406     0.999980    0.000040  "
      ]
     },
     "execution_count": 81,
     "metadata": {},
     "output_type": "execute_result"
    }
   ],
   "source": [
    "hyb_sb"
   ]
  },
  {
   "cell_type": "code",
   "execution_count": 86,
   "metadata": {},
   "outputs": [],
   "source": [
    "def get_colombelli_score(experiment, dataset):\n",
    "    \n",
    "    results = get_results_file(experiment, dataset)\n",
    "    norm_stb = (results['stabilities']+1)/2\n",
    "    x = th_transf\n",
    "    y = list((2 * results['mean_ROC_AUC']) + norm_stb - 2)\n",
    "    \n",
    "    cs = auc(x,y)\n",
    "    return cs"
   ]
  },
  {
   "cell_type": "code",
   "execution_count": 91,
   "metadata": {},
   "outputs": [
    {
     "data": {
      "text/plain": [
       "[('Hom_borda_geode', 40.50303662427186),\n",
       " ('Hom_borda_relieff', 39.60707457772783),\n",
       " ('sin_relieff', 39.46319190231621),\n",
       " ('Hyb_borda_borda', 39.16322109634878),\n",
       " ('Het_borda', 39.12815330601489),\n",
       " ('sin_geode', 37.3582087111686),\n",
       " ('Hyb_stb_borda', 35.27631867098591),\n",
       " ('Hom_borda_oner', 33.30837126115),\n",
       " ('Hom_borda_su', 33.07587001837208),\n",
       " ('Hom_borda_gr', 32.899346897964854),\n",
       " ('sin_oner', 32.644259722023236),\n",
       " ('sin_gr', 32.6072701073806),\n",
       " ('sin_su', 32.594620820946005)]"
      ]
     },
     "execution_count": 91,
     "metadata": {},
     "output_type": "execute_result"
    }
   ],
   "source": [
    "performance_dict = {}\n",
    "for exp in experiments:\n",
    "    performance_dict[exp] = get_colombelli_score(exp, \"UCEC\")*100\n",
    "    \n",
    "    \n",
    "sorted(performance_dict.items(), key=lambda x: x[1], reverse=True)"
   ]
  },
  {
   "cell_type": "code",
   "execution_count": null,
   "metadata": {},
   "outputs": [],
   "source": []
  }
 ],
 "metadata": {
  "kernelspec": {
   "display_name": "Python 3",
   "language": "python",
   "name": "python3"
  },
  "language_info": {
   "codemirror_mode": {
    "name": "ipython",
    "version": 3
   },
   "file_extension": ".py",
   "mimetype": "text/x-python",
   "name": "python",
   "nbconvert_exporter": "python",
   "pygments_lexer": "ipython3",
   "version": "3.8.3"
  }
 },
 "nbformat": 4,
 "nbformat_minor": 4
}
