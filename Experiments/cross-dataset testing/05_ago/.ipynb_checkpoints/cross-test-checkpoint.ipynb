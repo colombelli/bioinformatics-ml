{
 "cells": [
  {
   "cell_type": "code",
   "execution_count": 9,
   "metadata": {},
   "outputs": [],
   "source": [
    "import pandas as pd\n",
    "import numpy as np\n",
    "from sklearn.svm import SVC\n",
    "from sklearn import metrics\n",
    "\n",
    "def get_x(df):\n",
    "    return df.loc[:, df.columns != 'class']\n",
    "    \n",
    "def get_y(df):\n",
    "    return df.loc[:, ['class']].T.values[0]\n",
    "\n",
    "def get_probs_positive_class(pred):\n",
    "        positive_probs = []\n",
    "\n",
    "        for prediction in pred:\n",
    "            positive_probs.append(prediction[1])\n",
    "        return positive_probs"
   ]
  },
  {
   "cell_type": "code",
   "execution_count": 10,
   "metadata": {},
   "outputs": [],
   "source": [
    "def load_dataframes(train_path, test_path):\n",
    "    train_df = pd.read_csv(train_path, index_col=0)\n",
    "    test_df = pd.read_csv(test_path, index_col=0)\n",
    "    return train_df, test_df\n",
    "\n",
    "\n",
    "def cross_testing_accuracy(train_df, test_df, genes_ranking_path, threshold):\n",
    "    gdf = pd.read_csv(genes_ranking_path, index_col=0)\n",
    "    genes = list(gdf.index)\n",
    "    \n",
    "    clf = SVC(gamma='auto', probability=True)\n",
    "\n",
    "    tr_top = train_df.loc[:, genes[0:threshold]+['class']]\n",
    "    ts_top = test_df.loc[:, genes[0:threshold]+['class']]\n",
    "\n",
    "    X_train = get_x(tr_top)\n",
    "    y_train = get_y(tr_top)\n",
    "    \n",
    "    clf.fit(X_train, y_train)\n",
    "    \n",
    "    \n",
    "    X_test = get_x(ts_top)\n",
    "    y_test = get_y(ts_top)\n",
    "    \n",
    "    acc_score = clf.score(X_test, y_test)\n",
    "    \n",
    "    pred = clf.predict_proba(X_test)\n",
    "    y_pred = np.argmax(pred, axis=1)\n",
    "    pred = self.__get_probs_positive_class(pred)\n",
    "\n",
    "    roc_auc = metrics.roc_auc_score(np.array(X_test, dtype=int), pred)\n",
    "    pred_accuracy = metrics.accuracy_score(X_test, y_pred)\n",
    "    \n",
    "    print(\"Accuracy with .score:\", acc_score)\n",
    "    print(\"Accuracy with .predict_proba:\", pred_accuracy)\n",
    "    print(\"ROC AUC:\", roc_auc)"
   ]
  },
  {
   "cell_type": "code",
   "execution_count": 15,
   "metadata": {},
   "outputs": [],
   "source": [
    "genes_rank = \"/home/colombelli/Documents/Experiments05_ago/intersect/hyb_borda_borda/selection/agg_ranking_th1.csv\"\n",
    "train_df_path = \"/home/colombelli/Documents/datasets/brca_rnaseq_genes_intersec.csv\"\n",
    "\n",
    "test_df1_path = \"/home/colombelli/Documents/datasets/cumida/intersect_genes/GSE42568.csv\"\n",
    "test_df2_path = \"/home/colombelli/Documents/datasets/cumida/intersect_genes/GSE22820.csv\"\n",
    "test_df3_path = \"/home/colombelli/Documents/datasets/cumida/intersect_genes/GSE70947.csv\""
   ]
  },
  {
   "cell_type": "code",
   "execution_count": 12,
   "metadata": {},
   "outputs": [],
   "source": [
    "tr_df, ts_df = load_dataframes(train_df_path, test_df1_path)"
   ]
  },
  {
   "cell_type": "code",
   "execution_count": 16,
   "metadata": {},
   "outputs": [],
   "source": [
    "ts_df2, ts_df3 = load_dataframes(test_df2_path, test_df3_path)"
   ]
  },
  {
   "cell_type": "code",
   "execution_count": null,
   "metadata": {},
   "outputs": [],
   "source": []
  }
 ],
 "metadata": {
  "kernelspec": {
   "display_name": "Python 3",
   "language": "python",
   "name": "python3"
  },
  "language_info": {
   "codemirror_mode": {
    "name": "ipython",
    "version": 3
   },
   "file_extension": ".py",
   "mimetype": "text/x-python",
   "name": "python",
   "nbconvert_exporter": "python",
   "pygments_lexer": "ipython3",
   "version": "3.8.3"
  }
 },
 "nbformat": 4,
 "nbformat_minor": 4
}
