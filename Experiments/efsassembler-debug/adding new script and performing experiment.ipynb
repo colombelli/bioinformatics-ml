{
 "cells": [
  {
   "cell_type": "code",
   "execution_count": 10,
   "metadata": {},
   "outputs": [],
   "source": [
    "script_path = \"/home/colombelli/Documents/bioinformatics-ml/engine/fs_algorithms/reliefF.py\"\n",
    "results_path = \"/home/colombelli/Documents/meus resultados/\"\n",
    "rds_ds = \"/home/colombelli/Documents/datasets/thyroid_no_log2.rds\"\n",
    "ths = [1, 5, 10, 15]\n",
    "k = 4\n",
    "seed = 42\n",
    "\n",
    "\n",
    "datasets = [rds_ds]\n",
    "\n",
    "\n",
    "relieff = (\"reliefF\", \"python\", \"rf\")\n",
    "geode = (\"geoDE\", \"python\", \"gd\")\n",
    "gr = (\"gain-ratio\", \"r\", \"gr\")\n",
    "su = (\"symmetrical-uncertainty\", \"r\", \"su\")\n",
    "wx = (\"wx\", \"python\", \"wx\")\n",
    "\n",
    "dbwx = (\"double_wx\", \"python\", \"dbwx\")\n",
    "user_relieff = (\"reliefF\", \"python\", \"newrf\")\n",
    "\n",
    "fs_methods = [gr, user_relieff, relieff]"
   ]
  },
  {
   "cell_type": "code",
   "execution_count": 2,
   "metadata": {},
   "outputs": [],
   "source": [
    "from efsassembler import ScriptsManager\n",
    "from efsassembler import Experiments"
   ]
  },
  {
   "cell_type": "code",
   "execution_count": 4,
   "metadata": {},
   "outputs": [],
   "source": [
    "sm = ScriptsManager() \n",
    "sm.add_fs_algorithm(script_path)"
   ]
  },
  {
   "cell_type": "code",
   "execution_count": 11,
   "metadata": {},
   "outputs": [],
   "source": [
    "het={\n",
    "        \"type\": \"het\",\n",
    "        \"thresholds\": ths,\n",
    "        \"seed\": seed,\n",
    "        \"folds\": k,\n",
    "        \"aggregators\": [\"borda\"],\n",
    "        \"selectors\": fs_methods,\n",
    "        \"datasets\": datasets\n",
    "    }"
   ]
  },
  {
   "cell_type": "code",
   "execution_count": 12,
   "metadata": {},
   "outputs": [
    {
     "name": "stdout",
     "output_type": "stream",
     "text": [
      "INFO:efs-assembler:Loading dataset: /home/colombelli/Documents/datasets/thyroid_no_log2.rds\n",
      "INFO:efs-assembler:Encoding dataset\n",
      "INFO:efs-assembler:Creating results directory in: /home/colombelli/Documents/meus resultados/het_thyroid_no_log2_E7/\n",
      "INFO:efs-assembler:Number of features to select given the threshold percentages: [1, 5, 10, 15]\n",
      "INFO:efs-assembler:Starting fold iteration 1\n",
      "INFO:efs-assembler:Ranking features with gain-ratio\n",
      "INFO:efs-assembler:Ranking features with reliefF\n",
      "Ranking features with ReliefF algorithm...\n",
      "Processing data...\n",
      "INFO:efs-assembler:Ranking features with reliefF\n",
      "Ranking features with ReliefF algorithm...\n",
      "Processing data...\n",
      "INFO:efs-assembler:Aggregating rankings\n",
      "INFO:efs-assembler:Threshold: 1\n",
      "INFO:efs-assembler:Aggregating rankings\n",
      "INFO:efs-assembler:Threshold: 5\n",
      "INFO:efs-assembler:Aggregating rankings\n",
      "INFO:efs-assembler:Threshold: 10\n",
      "INFO:efs-assembler:Aggregating rankings\n",
      "INFO:efs-assembler:Threshold: 15\n",
      "INFO:efs-assembler:Starting fold iteration 2\n",
      "INFO:efs-assembler:Ranking features with gain-ratio\n",
      "INFO:efs-assembler:Ranking features with reliefF\n",
      "Ranking features with ReliefF algorithm...\n",
      "Processing data...\n",
      "INFO:efs-assembler:Ranking features with reliefF\n",
      "Ranking features with ReliefF algorithm...\n",
      "Processing data...\n",
      "INFO:efs-assembler:Aggregating rankings\n",
      "INFO:efs-assembler:Threshold: 1\n",
      "INFO:efs-assembler:Aggregating rankings\n",
      "INFO:efs-assembler:Threshold: 5\n",
      "INFO:efs-assembler:Aggregating rankings\n",
      "INFO:efs-assembler:Threshold: 10\n",
      "INFO:efs-assembler:Aggregating rankings\n",
      "INFO:efs-assembler:Threshold: 15\n",
      "INFO:efs-assembler:Starting fold iteration 3\n",
      "INFO:efs-assembler:Ranking features with gain-ratio\n",
      "INFO:efs-assembler:Ranking features with reliefF\n",
      "Ranking features with ReliefF algorithm...\n",
      "Processing data...\n",
      "INFO:efs-assembler:Ranking features with reliefF\n",
      "Ranking features with ReliefF algorithm...\n",
      "Processing data...\n",
      "INFO:efs-assembler:Aggregating rankings\n",
      "INFO:efs-assembler:Threshold: 1\n",
      "INFO:efs-assembler:Aggregating rankings\n",
      "INFO:efs-assembler:Threshold: 5\n",
      "INFO:efs-assembler:Aggregating rankings\n",
      "INFO:efs-assembler:Threshold: 10\n",
      "INFO:efs-assembler:Aggregating rankings\n",
      "INFO:efs-assembler:Threshold: 15\n",
      "INFO:efs-assembler:Starting fold iteration 4\n",
      "INFO:efs-assembler:Ranking features with gain-ratio\n",
      "INFO:efs-assembler:Ranking features with reliefF\n",
      "Ranking features with ReliefF algorithm...\n",
      "Processing data...\n",
      "INFO:efs-assembler:Ranking features with reliefF\n",
      "Ranking features with ReliefF algorithm...\n",
      "Processing data...\n",
      "INFO:efs-assembler:Aggregating rankings\n",
      "INFO:efs-assembler:Threshold: 1\n",
      "INFO:efs-assembler:Aggregating rankings\n",
      "INFO:efs-assembler:Threshold: 5\n",
      "INFO:efs-assembler:Aggregating rankings\n",
      "INFO:efs-assembler:Threshold: 10\n",
      "INFO:efs-assembler:Aggregating rankings\n",
      "INFO:efs-assembler:Threshold: 15\n",
      "INFO:efs-assembler:Feature selection step time taken: 00:00:02.81\n",
      "INFO:efs-assembler:Decoding dataframe\n",
      "INFO:efs-assembler:Starting evaluation process\n",
      "INFO:efs-assembler:Computing stabilities\n",
      "INFO:efs-assembler:Computing prediction performances\n",
      "INFO:efs-assembler:Creating csv files\n",
      "INFO:efs-assembler:Encoding dataset\n",
      "INFO:efs-assembler:Selecting features using the whole dataset\n",
      "INFO:efs-assembler:Ranking features with gain-ratio\n",
      "INFO:efs-assembler:Ranking features with reliefF\n",
      "Ranking features with ReliefF algorithm...\n",
      "Processing data...\n",
      "INFO:efs-assembler:Ranking features with reliefF\n",
      "Ranking features with ReliefF algorithm...\n",
      "Processing data...\n",
      "INFO:efs-assembler:Aggregating rankings\n",
      "INFO:efs-assembler:Threshold: 1\n",
      "INFO:efs-assembler:Aggregating rankings\n",
      "INFO:efs-assembler:Threshold: 5\n",
      "INFO:efs-assembler:Aggregating rankings\n",
      "INFO:efs-assembler:Threshold: 10\n",
      "INFO:efs-assembler:Aggregating rankings\n",
      "INFO:efs-assembler:Threshold: 15\n",
      "INFO:efs-assembler:Experiment finished!\n"
     ]
    }
   ],
   "source": [
    "experiments = [het]\n",
    "exp = Experiments(experiments, results_path)\n",
    "exp.run()"
   ]
  },
  {
   "cell_type": "code",
   "execution_count": null,
   "metadata": {},
   "outputs": [],
   "source": []
  }
 ],
 "metadata": {
  "kernelspec": {
   "display_name": "Python 3",
   "language": "python",
   "name": "python3"
  },
  "language_info": {
   "codemirror_mode": {
    "name": "ipython",
    "version": 3
   },
   "file_extension": ".py",
   "mimetype": "text/x-python",
   "name": "python",
   "nbconvert_exporter": "python",
   "pygments_lexer": "ipython3",
   "version": "3.8.5"
  }
 },
 "nbformat": 4,
 "nbformat_minor": 4
}
