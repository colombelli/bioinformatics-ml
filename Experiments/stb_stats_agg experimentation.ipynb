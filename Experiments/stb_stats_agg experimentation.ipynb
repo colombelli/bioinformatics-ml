{
 "cells": [
  {
   "cell_type": "code",
   "execution_count": 1,
   "metadata": {},
   "outputs": [],
   "source": [
    "import pandas as pd"
   ]
  },
  {
   "cell_type": "code",
   "execution_count": 2,
   "metadata": {},
   "outputs": [],
   "source": [
    "base_path = \"/home/colombelli/Documents/arrayexpress/breast/hyb_borda_borda/fold_1/bootstrap_\"\n",
    "individual_rankings = [\"gd\", \"gr\", \"rf\", \"su\", \"wx\"]"
   ]
  },
  {
   "cell_type": "code",
   "execution_count": 18,
   "metadata": {},
   "outputs": [],
   "source": [
    "bs_rankings = {}\n",
    "for i in range(0,50):\n",
    "    path = base_path + str(i+1) + \"/\"\n",
    "    fs_rankings = []\n",
    "    \n",
    "    for fs in individual_rankings:\n",
    "        fs_rankings.append(pd.read_csv(path+fs+\".csv\", index_col=0))\n",
    "    bs_rankings[i] = fs_rankings"
   ]
  },
  {
   "cell_type": "code",
   "execution_count": 19,
   "metadata": {},
   "outputs": [],
   "source": [
    "\"\"\"\n",
    "    References:\n",
    "    Ludmila I. Kuncheva. A stability index for feature selection. \n",
    "    In Artificial Intelligence and Applications (AIAP’07), pages 390–395, 2007.\n",
    "\n",
    "\"\"\"\n",
    "\n",
    "def get_consistency_index(A_subset: list, B_subset: list, n: int):\n",
    "    # The sizes of both subsets must be equal and are hold by variable k\n",
    "    # And the variable r represents the cardinality of (A ∩ B)\n",
    "\n",
    "    k = len(A_subset)\n",
    "    if k != len(B_subset):\n",
    "        raise Exception('The given A and B subsets have different cardinalities.')\n",
    "    r = len(list(set(A_subset).intersection(B_subset)))\n",
    "\n",
    "    consistency_index = ((r * n) - (k * k)) / (k * (n - k))\n",
    "\n",
    "    return consistency_index\n",
    "\n",
    "\n",
    "# Provide either the thresholded ranks with the n\n",
    "# Or a the full ranks with a threshold value\n",
    "def get_kuncheva_index(subsets: list, n=None, threshold=None):\n",
    "    # n represents the original set size\n",
    "    # threshold is an integer representing the number of elements considered\n",
    "    # the subsets will be selected respecting the closed interval [0, threshold]\n",
    "    # If a threshold is needed, n isn't needed, otherwise it is\n",
    "    \n",
    "    if n is None:\n",
    "        if threshold is None:\n",
    "            raise Exception('Provide a threshold value or the size of the original set.')\n",
    "        else:\n",
    "            th = threshold\n",
    "            n = len(subsets[0])\n",
    "    \n",
    "    if th > n:\n",
    "        raise Exception('Provided threshold greater than ranking length (' + str(n) + ')')\n",
    "    \n",
    "    elif th == n:\n",
    "        return 1\n",
    "\n",
    "    else:\n",
    "        if threshold is not None:\n",
    "            th = threshold\n",
    "        else:\n",
    "            th = len(subsets[0])\n",
    "\n",
    "    pairwise_ci = 0\n",
    "    for i in range(len(subsets) - 1):\n",
    "        A_subset = subsets[i][:th]\n",
    "        for j in range(i+1, len(subsets)):\n",
    "            B_subset = subsets[j][:th]\n",
    "            pairwise_ci += get_consistency_index(A_subset, B_subset, n)\n",
    "        \n",
    "\n",
    "    k = len(subsets)\n",
    "    kuncheva_index = ((2) / (k * (k-1))) * pairwise_ci\n",
    "\n",
    "    return kuncheva_index"
   ]
  },
  {
   "cell_type": "code",
   "execution_count": 25,
   "metadata": {},
   "outputs": [],
   "source": [
    "def get_normalize_stability(stability):\n",
    "\n",
    "    s_max = 1\n",
    "    s_min = -1\n",
    "    normalized = (stability - s_min) / (s_max - s_min) \n",
    "\n",
    "    return normalized*2\n",
    "\n",
    "\n",
    "def get_fs_stabilities(threshold, bs_rankings):\n",
    "    \n",
    "    num_fs = len(bs_rankings[0])\n",
    "    \n",
    "    stabilities = []\n",
    "    for fs in range(num_fs):\n",
    "        \n",
    "        fs_rankings = []\n",
    "        for bs in bs_rankings:\n",
    "            df_ranking = bs_rankings[bs][fs]\n",
    "            lst_features = list(df_ranking.index.values)\n",
    "            fs_rankings.append(lst_features)\n",
    "        \n",
    "        normalized_stb = get_normalize_stability(get_kuncheva_index(fs_rankings, threshold=threshold))\n",
    "        stabilities.append(normalized_stb)  \n",
    "    return stabilities"
   ]
  },
  {
   "cell_type": "code",
   "execution_count": 26,
   "metadata": {},
   "outputs": [
    {
     "data": {
      "text/plain": [
       "[1.239650676638992,\n",
       " 1.2837447050224275,\n",
       " 1.0841724838011095,\n",
       " 1.5011570896709658,\n",
       " 1.421733305330132]"
      ]
     },
     "execution_count": 26,
     "metadata": {},
     "output_type": "execute_result"
    }
   ],
   "source": [
    "get_fs_stabilities(42, bs_rankings)"
   ]
  },
  {
   "cell_type": "code",
   "execution_count": 19,
   "metadata": {},
   "outputs": [],
   "source": [
    "import pandas as pd\n",
    "\n",
    "\n",
    "def build_df_correct_order(aggregated_ranking):\n",
    "    \n",
    "    final_ranking = pd.DataFrame.from_dict(aggregated_ranking, orient='index')\n",
    "    final_ranking.columns = ['rank']\n",
    "    final_ranking = final_ranking.sort_values(by='rank', ascending=False)\n",
    "    final_ranking.iloc[:] = final_ranking.iloc[::-1].values\n",
    "    return final_ranking"
   ]
  },
  {
   "cell_type": "code",
   "execution_count": 20,
   "metadata": {},
   "outputs": [
    {
     "data": {
      "text/plain": [
       "63"
      ]
     },
     "execution_count": 20,
     "metadata": {},
     "output_type": "execute_result"
    }
   ],
   "source": [
    "ths = [1, 5, 10, 15, 25, 50, 75, 100, 150, 200]\n",
    "sum(ths) // len(ths)"
   ]
  },
  {
   "cell_type": "code",
   "execution_count": 22,
   "metadata": {},
   "outputs": [
    {
     "data": {
      "text/plain": [
       "[0.4114025608278481, 0.3445164881946492]"
      ]
     },
     "execution_count": 22,
     "metadata": {},
     "output_type": "execute_result"
    }
   ],
   "source": [
    "get_fs_stabilities(63, bs_rankings)"
   ]
  },
  {
   "cell_type": "code",
   "execution_count": 113,
   "metadata": {},
   "outputs": [],
   "source": [
    "\n",
    "def aggregate():\n",
    "    mean_th = sum(ths) // len(ths)\n",
    "    fs_stabilities = get_fs_stabilities(mean_th, bs_rankings)\n",
    "    \n",
    "    aggregated_ranking = {}\n",
    "\n",
    "\n",
    "    for bs in bs_rankings:\n",
    "        \n",
    "        \n",
    "        for fs, ranking in enumerate(bs_rankings[bs]):\n",
    "            reversed_ranking = ranking.iloc[::-1]\n",
    "            for gene in reversed_ranking.index: \n",
    "                aggregated_ranking[gene] += (reversed_ranking.index.get_loc(gene)+1) * fs_stabilities[fs]\n",
    "    \n",
    "    \n",
    "    return build_df_correct_order(aggregated_ranking)"
   ]
  }
 ],
 "metadata": {
  "kernelspec": {
   "display_name": "Python 3",
   "language": "python",
   "name": "python3"
  },
  "language_info": {
   "codemirror_mode": {
    "name": "ipython",
    "version": 3
   },
   "file_extension": ".py",
   "mimetype": "text/x-python",
   "name": "python",
   "nbconvert_exporter": "python",
   "pygments_lexer": "ipython3",
   "version": "3.6.13"
  }
 },
 "nbformat": 4,
 "nbformat_minor": 2
}
