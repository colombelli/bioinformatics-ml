{
 "cells": [
  {
   "cell_type": "code",
   "execution_count": null,
   "metadata": {},
   "outputs": [],
   "source": [
    "import numpy as np\n",
    "import pandas as pd\n",
    "from sklearn.utils import resample\n",
    "import rpy2.robjects as robjects\n",
    "from rpy2.robjects import pandas2ri\n",
    "from rpy2.robjects.conversion import localconverter\n",
    "from os import mkdir\n",
    "import sys\n",
    "import pickle\n",
    "\n",
    "\n",
    "\n",
    "def load_RDS(file_path):\n",
    "    read_RDS = robjects.r['readRDS']\n",
    "    return read_RDS(file_path)\n",
    "\n",
    "\n",
    "\n",
    "def pandas_to_r(df):        \n",
    "    with localconverter(robjects.default_converter + pandas2ri.converter):\n",
    "        r_from_pandas_df = robjects.conversion.py2rpy(df)\n",
    "    return r_from_pandas_df\n",
    "\n",
    "\n",
    "\n",
    "def r_to_pandas(df):\n",
    "    with localconverter(robjects.default_converter + pandas2ri.converter):\n",
    "        pandas_from_r_df = robjects.conversion.rpy2py(df)\n",
    "    return pandas_from_r_df\n"
   ]
  },
  {
   "cell_type": "code",
   "execution_count": null,
   "metadata": {},
   "outputs": [],
   "source": [
    "path = \"/home/colombelli/Documents/datasets/thyroid_log2.rds\""
   ]
  },
  {
   "cell_type": "code",
   "execution_count": null,
   "metadata": {},
   "outputs": [],
   "source": [
    "rdf = load_RDS(path)"
   ]
  },
  {
   "cell_type": "code",
   "execution_count": null,
   "metadata": {},
   "outputs": [],
   "source": [
    "for name in robjects.r['colnames'](rdf):\n",
    "    print(name)"
   ]
  },
  {
   "cell_type": "code",
   "execution_count": null,
   "metadata": {},
   "outputs": [],
   "source": [
    "pdf = r_to_pandas(rdf)"
   ]
  },
  {
   "cell_type": "code",
   "execution_count": null,
   "metadata": {},
   "outputs": [],
   "source": [
    "for col in pdf.columns: \n",
    "    print(col) "
   ]
  },
  {
   "cell_type": "code",
   "execution_count": 1,
   "metadata": {},
   "outputs": [],
   "source": [
    "# some_file.py\n",
    "import sys\n",
    "# insert at 1, 0 is the script path (or '' in REPL)\n",
    "sys.path.insert(1, \"/home/colombelli/Documents/bioinformatics-ml/EnsembleSelector-v2.0\")\n",
    "\n",
    "from DataManager import DataManager\n",
    "from EFS import EFS\n",
    "from Evaluator import Evaluator\n",
    "import rpy2.robjects.packages as rpackages\n",
    "\n",
    "seed = 42\n",
    "num_bootstraps = 5\n",
    "num_folds = 3\n",
    "\n",
    "fs_methods = [\n",
    "    (\"gain-ratio\", \"r\", \"gr\")\n",
    "]\n",
    "\n",
    "dataset_path = \"/home/colombelli/Documents/datasets/thyroid_log2.rds\"\n",
    "results_path = \"/home/colombelli/Documents/bioinformatics-ml/Experiments/debug-res/\"\n",
    "\n",
    "rpackages.importr('FSelectorRcpp')\n",
    "\n",
    "aggregator = \"mean\""
   ]
  },
  {
   "cell_type": "code",
   "execution_count": 2,
   "metadata": {},
   "outputs": [
    {
     "name": "stdout",
     "output_type": "stream",
     "text": [
      "Creating results directory...\n",
      "Given directory already created, files will be replaced.\n",
      "Input c to cancel or any other key to continue... \n"
     ]
    }
   ],
   "source": [
    "dm = DataManager(results_path, dataset_path, num_bootstraps, num_folds, seed)"
   ]
  },
  {
   "cell_type": "code",
   "execution_count": 3,
   "metadata": {
    "scrolled": true
   },
   "outputs": [
    {
     "name": "stdout",
     "output_type": "stream",
     "text": [
      "\n",
      "\n",
      "################# Fold iteration: 1 #################\n",
      "\n",
      "\n",
      "Bootstrap:  1 \n",
      "\n",
      "\n",
      "[1] \"Calculating Information Gain Ratio...\"\n",
      "[1] \"Processing output...\"\n",
      "[1] \"Saving ranking...\"\n"
     ]
    },
    {
     "name": "stderr",
     "output_type": "stream",
     "text": [
      "R[write to console]: Error in saveRDS(rankDf, outputPath) : \n",
      "  argument \"outputPath\" is missing, with no default\n",
      "Calls: <Anonymous> -> saveRDS\n",
      "\n"
     ]
    },
    {
     "ename": "RRuntimeError",
     "evalue": "Error in saveRDS(rankDf, outputPath) : \n  argument \"outputPath\" is missing, with no default\nCalls: <Anonymous> -> saveRDS\n",
     "output_type": "error",
     "traceback": [
      "\u001b[0;31m---------------------------------------------------------------------------\u001b[0m",
      "\u001b[0;31mRRuntimeError\u001b[0m                             Traceback (most recent call last)",
      "\u001b[0;32m<ipython-input-3-0502083e422b>\u001b[0m in \u001b[0;36m<module>\u001b[0;34m\u001b[0m\n\u001b[1;32m      1\u001b[0m \u001b[0mensemble\u001b[0m \u001b[0;34m=\u001b[0m \u001b[0mEFS\u001b[0m\u001b[0;34m(\u001b[0m\u001b[0mdm\u001b[0m\u001b[0;34m,\u001b[0m \u001b[0mfs_methods\u001b[0m\u001b[0;34m,\u001b[0m \u001b[0maggregator\u001b[0m\u001b[0;34m,\u001b[0m \u001b[0maggregator\u001b[0m\u001b[0;34m)\u001b[0m\u001b[0;34m\u001b[0m\u001b[0;34m\u001b[0m\u001b[0m\n\u001b[0;32m----> 2\u001b[0;31m \u001b[0mensemble\u001b[0m\u001b[0;34m.\u001b[0m\u001b[0mselect_features\u001b[0m\u001b[0;34m(\u001b[0m\u001b[0;34m)\u001b[0m\u001b[0;34m\u001b[0m\u001b[0;34m\u001b[0m\u001b[0m\n\u001b[0m",
      "\u001b[0;32m~/Documents/bioinformatics-ml/EnsembleSelector-v2.0/EFS.py\u001b[0m in \u001b[0;36mselect_features\u001b[0;34m(self)\u001b[0m\n\u001b[1;32m     64\u001b[0m                     \u001b[0mprint\u001b[0m\u001b[0;34m(\u001b[0m\u001b[0;34m\"\"\u001b[0m\u001b[0;34m)\u001b[0m\u001b[0;34m\u001b[0m\u001b[0;34m\u001b[0m\u001b[0m\n\u001b[1;32m     65\u001b[0m                     fst_layer_rankings.append(\n\u001b[0;32m---> 66\u001b[0;31m                         \u001b[0mfs_method\u001b[0m\u001b[0;34m.\u001b[0m\u001b[0mselect\u001b[0m\u001b[0;34m(\u001b[0m\u001b[0mbootstrap_data\u001b[0m\u001b[0;34m,\u001b[0m \u001b[0moutput_path\u001b[0m\u001b[0;34m)\u001b[0m\u001b[0;34m\u001b[0m\u001b[0;34m\u001b[0m\u001b[0m\n\u001b[0m\u001b[1;32m     67\u001b[0m                     )\n\u001b[1;32m     68\u001b[0m \u001b[0;34m\u001b[0m\u001b[0m\n",
      "\u001b[0;32m~/Documents/bioinformatics-ml/EnsembleSelector-v2.0/Selector.py\u001b[0m in \u001b[0;36mselect\u001b[0;34m(self, dataframe, output_path)\u001b[0m\n\u001b[1;32m     21\u001b[0m         \u001b[0mrobjects\u001b[0m\u001b[0;34m.\u001b[0m\u001b[0mr\u001b[0m\u001b[0;34m.\u001b[0m\u001b[0msource\u001b[0m\u001b[0;34m(\u001b[0m\u001b[0mcall\u001b[0m\u001b[0;34m)\u001b[0m\u001b[0;34m\u001b[0m\u001b[0;34m\u001b[0m\u001b[0m\n\u001b[1;32m     22\u001b[0m \u001b[0;34m\u001b[0m\u001b[0m\n\u001b[0;32m---> 23\u001b[0;31m         \u001b[0mranking\u001b[0m \u001b[0;34m=\u001b[0m \u001b[0mrobjects\u001b[0m\u001b[0;34m.\u001b[0m\u001b[0mr\u001b[0m\u001b[0;34m[\u001b[0m\u001b[0;34m\"select\"\u001b[0m\u001b[0;34m]\u001b[0m\u001b[0;34m(\u001b[0m\u001b[0mdataframe\u001b[0m\u001b[0;34m)\u001b[0m\u001b[0;34m\u001b[0m\u001b[0;34m\u001b[0m\u001b[0m\n\u001b[0m\u001b[1;32m     24\u001b[0m         \u001b[0mranking\u001b[0m \u001b[0;34m=\u001b[0m \u001b[0mdm\u001b[0m\u001b[0;34m.\u001b[0m\u001b[0mr_to_pandas\u001b[0m\u001b[0;34m(\u001b[0m\u001b[0mranking\u001b[0m\u001b[0;34m)\u001b[0m\u001b[0;34m\u001b[0m\u001b[0;34m\u001b[0m\u001b[0m\n\u001b[1;32m     25\u001b[0m \u001b[0;34m\u001b[0m\u001b[0m\n",
      "\u001b[0;32m~/.local/lib/python3.7/site-packages/rpy2/robjects/functions.py\u001b[0m in \u001b[0;36m__call__\u001b[0;34m(self, *args, **kwargs)\u001b[0m\n\u001b[1;32m    190\u001b[0m                 \u001b[0mkwargs\u001b[0m\u001b[0;34m[\u001b[0m\u001b[0mr_k\u001b[0m\u001b[0;34m]\u001b[0m \u001b[0;34m=\u001b[0m \u001b[0mv\u001b[0m\u001b[0;34m\u001b[0m\u001b[0;34m\u001b[0m\u001b[0m\n\u001b[1;32m    191\u001b[0m         return (super(SignatureTranslatedFunction, self)\n\u001b[0;32m--> 192\u001b[0;31m                 .__call__(*args, **kwargs))\n\u001b[0m\u001b[1;32m    193\u001b[0m \u001b[0;34m\u001b[0m\u001b[0m\n\u001b[1;32m    194\u001b[0m \u001b[0;34m\u001b[0m\u001b[0m\n",
      "\u001b[0;32m~/.local/lib/python3.7/site-packages/rpy2/robjects/functions.py\u001b[0m in \u001b[0;36m__call__\u001b[0;34m(self, *args, **kwargs)\u001b[0m\n\u001b[1;32m    119\u001b[0m             \u001b[0;32melse\u001b[0m\u001b[0;34m:\u001b[0m\u001b[0;34m\u001b[0m\u001b[0;34m\u001b[0m\u001b[0m\n\u001b[1;32m    120\u001b[0m                 \u001b[0mnew_kwargs\u001b[0m\u001b[0;34m[\u001b[0m\u001b[0mk\u001b[0m\u001b[0;34m]\u001b[0m \u001b[0;34m=\u001b[0m \u001b[0mconversion\u001b[0m\u001b[0;34m.\u001b[0m\u001b[0mpy2rpy\u001b[0m\u001b[0;34m(\u001b[0m\u001b[0mv\u001b[0m\u001b[0;34m)\u001b[0m\u001b[0;34m\u001b[0m\u001b[0;34m\u001b[0m\u001b[0m\n\u001b[0;32m--> 121\u001b[0;31m         \u001b[0mres\u001b[0m \u001b[0;34m=\u001b[0m \u001b[0msuper\u001b[0m\u001b[0;34m(\u001b[0m\u001b[0mFunction\u001b[0m\u001b[0;34m,\u001b[0m \u001b[0mself\u001b[0m\u001b[0;34m)\u001b[0m\u001b[0;34m.\u001b[0m\u001b[0m__call__\u001b[0m\u001b[0;34m(\u001b[0m\u001b[0;34m*\u001b[0m\u001b[0mnew_args\u001b[0m\u001b[0;34m,\u001b[0m \u001b[0;34m**\u001b[0m\u001b[0mnew_kwargs\u001b[0m\u001b[0;34m)\u001b[0m\u001b[0;34m\u001b[0m\u001b[0;34m\u001b[0m\u001b[0m\n\u001b[0m\u001b[1;32m    122\u001b[0m         \u001b[0mres\u001b[0m \u001b[0;34m=\u001b[0m \u001b[0mconversion\u001b[0m\u001b[0;34m.\u001b[0m\u001b[0mrpy2py\u001b[0m\u001b[0;34m(\u001b[0m\u001b[0mres\u001b[0m\u001b[0;34m)\u001b[0m\u001b[0;34m\u001b[0m\u001b[0;34m\u001b[0m\u001b[0m\n\u001b[1;32m    123\u001b[0m         \u001b[0;32mreturn\u001b[0m \u001b[0mres\u001b[0m\u001b[0;34m\u001b[0m\u001b[0;34m\u001b[0m\u001b[0m\n",
      "\u001b[0;32m~/.local/lib/python3.7/site-packages/rpy2/rinterface_lib/conversion.py\u001b[0m in \u001b[0;36m_\u001b[0;34m(*args, **kwargs)\u001b[0m\n\u001b[1;32m     38\u001b[0m \u001b[0;32mdef\u001b[0m \u001b[0m_cdata_res_to_rinterface\u001b[0m\u001b[0;34m(\u001b[0m\u001b[0mfunction\u001b[0m\u001b[0;34m)\u001b[0m\u001b[0;34m:\u001b[0m\u001b[0;34m\u001b[0m\u001b[0;34m\u001b[0m\u001b[0m\n\u001b[1;32m     39\u001b[0m     \u001b[0;32mdef\u001b[0m \u001b[0m_\u001b[0m\u001b[0;34m(\u001b[0m\u001b[0;34m*\u001b[0m\u001b[0margs\u001b[0m\u001b[0;34m,\u001b[0m \u001b[0;34m**\u001b[0m\u001b[0mkwargs\u001b[0m\u001b[0;34m)\u001b[0m\u001b[0;34m:\u001b[0m\u001b[0;34m\u001b[0m\u001b[0;34m\u001b[0m\u001b[0m\n\u001b[0;32m---> 40\u001b[0;31m         \u001b[0mcdata\u001b[0m \u001b[0;34m=\u001b[0m \u001b[0mfunction\u001b[0m\u001b[0;34m(\u001b[0m\u001b[0;34m*\u001b[0m\u001b[0margs\u001b[0m\u001b[0;34m,\u001b[0m \u001b[0;34m**\u001b[0m\u001b[0mkwargs\u001b[0m\u001b[0;34m)\u001b[0m\u001b[0;34m\u001b[0m\u001b[0;34m\u001b[0m\u001b[0m\n\u001b[0m\u001b[1;32m     41\u001b[0m         \u001b[0;31m# TODO: test cdata is of the expected CType\u001b[0m\u001b[0;34m\u001b[0m\u001b[0;34m\u001b[0m\u001b[0;34m\u001b[0m\u001b[0m\n\u001b[1;32m     42\u001b[0m         \u001b[0;32mreturn\u001b[0m \u001b[0m_cdata_to_rinterface\u001b[0m\u001b[0;34m(\u001b[0m\u001b[0mcdata\u001b[0m\u001b[0;34m)\u001b[0m\u001b[0;34m\u001b[0m\u001b[0;34m\u001b[0m\u001b[0m\n",
      "\u001b[0;32m~/.local/lib/python3.7/site-packages/rpy2/rinterface.py\u001b[0m in \u001b[0;36m__call__\u001b[0;34m(self, *args, **kwargs)\u001b[0m\n\u001b[1;32m    787\u001b[0m                     error_occured))\n\u001b[1;32m    788\u001b[0m             \u001b[0;32mif\u001b[0m \u001b[0merror_occured\u001b[0m\u001b[0;34m[\u001b[0m\u001b[0;36m0\u001b[0m\u001b[0;34m]\u001b[0m\u001b[0;34m:\u001b[0m\u001b[0;34m\u001b[0m\u001b[0;34m\u001b[0m\u001b[0m\n\u001b[0;32m--> 789\u001b[0;31m                 \u001b[0;32mraise\u001b[0m \u001b[0membedded\u001b[0m\u001b[0;34m.\u001b[0m\u001b[0mRRuntimeError\u001b[0m\u001b[0;34m(\u001b[0m\u001b[0m_rinterface\u001b[0m\u001b[0;34m.\u001b[0m\u001b[0m_geterrmessage\u001b[0m\u001b[0;34m(\u001b[0m\u001b[0;34m)\u001b[0m\u001b[0;34m)\u001b[0m\u001b[0;34m\u001b[0m\u001b[0;34m\u001b[0m\u001b[0m\n\u001b[0m\u001b[1;32m    790\u001b[0m         \u001b[0;32mreturn\u001b[0m \u001b[0mres\u001b[0m\u001b[0;34m\u001b[0m\u001b[0;34m\u001b[0m\u001b[0m\n\u001b[1;32m    791\u001b[0m \u001b[0;34m\u001b[0m\u001b[0m\n",
      "\u001b[0;31mRRuntimeError\u001b[0m: Error in saveRDS(rankDf, outputPath) : \n  argument \"outputPath\" is missing, with no default\nCalls: <Anonymous> -> saveRDS\n"
     ]
    }
   ],
   "source": [
    "ensemble = EFS(dm, fs_methods, aggregator, aggregator)\n",
    "ensemble.select_features()"
   ]
  },
  {
   "cell_type": "code",
   "execution_count": null,
   "metadata": {},
   "outputs": [],
   "source": [
    "for col in dm.pd_df.columns:\n",
    "    print(col)"
   ]
  },
  {
   "cell_type": "code",
   "execution_count": null,
   "metadata": {},
   "outputs": [],
   "source": [
    "from Selector import PySelector, RSelector\n",
    "from Aggregator import Aggregator\n",
    "from DataManager import DataManager\n",
    "import time\n",
    "\n",
    "class EFS:\n",
    "    \n",
    "    # fs_methods: a tuple (script name, language which the script was written, .rds output name)\n",
    "    def __init__(self, data_manager:DataManager, fs_methods, first_aggregator, second_aggregator):\n",
    "\n",
    "        self.dm = data_manager\n",
    "        self.fs_methods = self.__generate_fselectors_object(fs_methods)\n",
    "        self.fst_aggregator = Aggregator(first_aggregator, self.dm)\n",
    "        self.snd_aggregator = Aggregator(second_aggregator, self.dm)\n",
    "\n",
    "\n",
    "        \n",
    "    def __generate_fselectors_object(self, methods):\n",
    "        \n",
    "        fs_methods = []\n",
    "        for script, language, rds_name in methods:\n",
    "            if language == \"python\":\n",
    "                fs_methods.append(\n",
    "                    PySelector(rds_name, script)\n",
    "                )\n",
    "            elif language == \"r\":\n",
    "                fs_methods.append(\n",
    "                    RSelector(rds_name, script)\n",
    "                )\n",
    "\n",
    "        return fs_methods\n",
    "\n",
    "\n",
    "\n",
    "\n",
    "    def end_time_and_print(self, start):\n",
    "        end = time.time()\n",
    "        hours, rem = divmod(end-start, 3600)\n",
    "        minutes, seconds = divmod(rem, 60)\n",
    "        print(\"\\nTime taken:\")\n",
    "        print(\"{:0>2}:{:0>2}:{:05.2f}\".format(int(hours),int(minutes),seconds))\n",
    "        print(\"\\n\")\n",
    "        return\n",
    "\n",
    "\n",
    "    def select_features(self):\n",
    "\n",
    "        for i in range(self.dm.num_folds):\n",
    "            print(\"\\n\\n################# Fold iteration:\", i+1, \"#################\")\n",
    "            self.dm.current_fold_iteration = i\n",
    "            self.dm.update_bootstraps()\n",
    "\n",
    "            self.snd_layer_rankings = []\n",
    "            for j, (bootstrap, _) in enumerate(self.dm.current_bootstraps):\n",
    "                print(\"\\n\\nBootstrap: \", j+1, \"\\n\")\n",
    "                start = time.time()\n",
    "                output_path = self.dm.get_output_path(i, j)\n",
    "                bootstrap_data = self.dm.pd_df.loc[bootstrap]\n",
    "\n",
    "                self.fst_layer_rankings = []\n",
    "                for fs_method in self.fs_methods:   \n",
    "                    print(\"\")\n",
    "                    bootstrap_data = bootstrap_data.rename({\"hsa-miR-375\": \"aa:.,-=)(*&%$#@!çãõáÀ><;_ []{}|\\/?\", \n",
    "                                           'hsa-miR-376c': \"bb:.,-=)(*&%$#@!çãõáÀ><;_ []{}|\\/?\"}, axis='columns')\n",
    "                    #self.fst_layer_rankings.append(\n",
    "                        #fs_method.select(bootstrap_data, output_path)\n",
    "                    #)\n",
    "                    print(\"after features selecting:\\n\", fs_method.select(bootstrap_data, output_path))\n",
    "                    input()\n",
    "                \n",
    "                self.fs_aggregation = self.fst_aggregator.aggregate(self.fst_layer_rankings)\n",
    "                self.dm.save_aggregated_ranking(self.fs_aggregation, output_path)\n",
    "                self.snd_layer_rankings.append(self.fs_aggregation)\n",
    "                self.end_time_and_print(start)\n",
    "            \n",
    "            output_path = self.dm.get_output_path(fold_iteration=i)\n",
    "            final_ranking = self.snd_aggregator.aggregate(self.snd_layer_rankings)\n",
    "            self.dm.save_aggregated_ranking(final_ranking, output_path)"
   ]
  },
  {
   "cell_type": "code",
   "execution_count": null,
   "metadata": {},
   "outputs": [],
   "source": [
    "ensemble.fst_layer_rankings"
   ]
  },
  {
   "cell_type": "code",
   "execution_count": null,
   "metadata": {},
   "outputs": [],
   "source": [
    "pdf.rename({'DarkCorner': '*'}, axis='columns')"
   ]
  },
  {
   "cell_type": "code",
   "execution_count": null,
   "metadata": {},
   "outputs": [],
   "source": [
    "import urllib.parse\n",
    "\n",
    "def alnum_encode(text):\n",
    "    return urllib.parse.quote(text, safe='')\\\n",
    "        .replace('-', '%2d').replace('.', '%2e').replace('_', '%5f')\\\n",
    "        .replace('%', '_')\n",
    "\n",
    "def alnum_decode(underscore_encoded):\n",
    "    return urllib.parse.unquote(underscore_encoded.replace('_','%'), errors='strict')"
   ]
  },
  {
   "cell_type": "code",
   "execution_count": null,
   "metadata": {},
   "outputs": [],
   "source": [
    "def encode_df(df):\n",
    "\n",
    "    for attribute in df.columns:\n",
    "        enc_attribute = alnum_encode(attribute)\n",
    "        df = df.rename(columns = {attribute: enc_attribute})\n",
    "    \n",
    "    for sample_index_name in df.index:\n",
    "        enc_index = alnum_encode(sample_index_name)\n",
    "        df = df.rename(index = {sample_index_name: enc_index})\n",
    "    \n",
    "    return df"
   ]
  },
  {
   "cell_type": "code",
   "execution_count": null,
   "metadata": {},
   "outputs": [],
   "source": [
    "def decode_df(df):\n",
    "\n",
    "    for attribute in df.columns:\n",
    "        dec_attribute = alnum_decode(attribute)\n",
    "        df = df.rename(columns = {attribute: dec_attribute})\n",
    "    \n",
    "    for sample_index_name in df.index:\n",
    "        dec_index = alnum_decode(sample_index_name)\n",
    "        df = df.rename(index = {sample_index_name: dec_index})\n",
    "        \n",
    "    return df"
   ]
  },
  {
   "cell_type": "code",
   "execution_count": null,
   "metadata": {},
   "outputs": [],
   "source": [
    "test = pdf.rename(index={'GSM1002105': '@#%@#$&*()'}, columns={'DarkCorner': '*(#$%;.,)'})"
   ]
  },
  {
   "cell_type": "code",
   "execution_count": null,
   "metadata": {},
   "outputs": [],
   "source": [
    "enc_test = encode_df(test)\n",
    "dec_test = decode_df(enc_test)"
   ]
  },
  {
   "cell_type": "code",
   "execution_count": null,
   "metadata": {},
   "outputs": [],
   "source": [
    "enc_test"
   ]
  },
  {
   "cell_type": "code",
   "execution_count": null,
   "metadata": {},
   "outputs": [],
   "source": [
    "dec_test"
   ]
  },
  {
   "cell_type": "code",
   "execution_count": null,
   "metadata": {},
   "outputs": [],
   "source": []
  }
 ],
 "metadata": {
  "kernelspec": {
   "display_name": "Python 3",
   "language": "python",
   "name": "python3"
  },
  "language_info": {
   "codemirror_mode": {
    "name": "ipython",
    "version": 3
   },
   "file_extension": ".py",
   "mimetype": "text/x-python",
   "name": "python",
   "nbconvert_exporter": "python",
   "pygments_lexer": "ipython3",
   "version": "3.7.5"
  }
 },
 "nbformat": 4,
 "nbformat_minor": 2
}
