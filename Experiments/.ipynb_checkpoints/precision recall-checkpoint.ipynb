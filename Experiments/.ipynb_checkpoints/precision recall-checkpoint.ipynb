{
 "cells": [
  {
   "cell_type": "code",
   "execution_count": 1,
   "metadata": {},
   "outputs": [],
   "source": [
    "import numpy as np\n",
    "import pandas as pd\n",
    "\n",
    "import rpy2.robjects as robjects\n",
    "from rpy2.robjects import pandas2ri\n",
    "from rpy2.robjects.conversion import localconverter\n",
    "\n",
    "import pickle\n",
    "import sys\n",
    "\n",
    "from sklearn import metrics\n",
    "from sklearn.svm import SVC\n",
    "\n",
    "def get_probs_positive_class(pred):\n",
    "        positive_probs = []\n",
    "\n",
    "        for prediction in pred:\n",
    "            positive_probs.append(prediction[1])\n",
    "        return positive_probs"
   ]
  },
  {
   "cell_type": "code",
   "execution_count": 2,
   "metadata": {},
   "outputs": [],
   "source": [
    "dataset_path = \"/home/colombelli/Documents/research_proc_ds/BRCA/processedBRCA.rds\"\n",
    "read_RDS = robjects.r['readRDS']\n",
    "df = read_RDS(dataset_path)\n",
    "\n",
    "with localconverter(robjects.default_converter + pandas2ri.converter):\n",
    "    pydf = robjects.conversion.rpy2py(df)\n",
    "\n",
    "    \n",
    "fold_path = \"/home/colombelli/Documents/brca_new_sampling/fold_sampling.pkl\"\n",
    "with open(fold_path, 'rb') as file:\n",
    "    folds_sampling = pickle.load(file)"
   ]
  },
  {
   "cell_type": "code",
   "execution_count": 3,
   "metadata": {},
   "outputs": [],
   "source": [
    "fold2 = folds_sampling[1]\n",
    "training = pydf.loc[fold2[0]]\n",
    "testing = pydf.loc[fold2[1]]"
   ]
  },
  {
   "cell_type": "code",
   "execution_count": 4,
   "metadata": {},
   "outputs": [],
   "source": [
    "ranking_output_path = \"/home/colombelli/Desktop/BRCA_no_IQR/fold_1/agg_ranking.rds\"\n",
    "\n",
    "read_RDS = robjects.r['readRDS']\n",
    "ranking = read_RDS(ranking_output_path)\n",
    "\n",
    "with localconverter(robjects.default_converter + pandas2ri.converter):\n",
    "    pyrnk = robjects.conversion.rpy2py(ranking)"
   ]
  },
  {
   "cell_type": "code",
   "execution_count": 6,
   "metadata": {},
   "outputs": [
    {
     "name": "stdout",
     "output_type": "stream",
     "text": [
      "Selected Genes: ['MIR4508', 'FIGF', 'IBSP', 'CA4', 'LRRC3B']\n",
      "Accuracy: 0.9919028340080972\n",
      "AUC score: 1.0\n"
     ]
    }
   ],
   "source": [
    "from sklearn.ensemble import RandomForestClassifier\n",
    "from sklearn.datasets import make_classification\n",
    "\n",
    "best_genes = list(pyrnk.index.values)\n",
    "best_genes = best_genes[0:5]\n",
    "print(\"Selected Genes:\", best_genes)\n",
    "\n",
    "training_x = training.loc[:, best_genes]\n",
    "testing_x = testing.loc[:, best_genes]\n",
    "\n",
    "training_y = training.loc[:, ['class']].T.values[0]\n",
    "testing_y = testing.loc[:, ['class']].T.values[0]\n",
    "\n",
    "clf = RandomForestClassifier(max_depth=2, random_state=0)\n",
    "clf.fit(training_x, training_y)\n",
    "\n",
    "print(\"Accuracy:\", clf.score(testing_x, testing_y))\n",
    "pred = clf.predict_proba(testing_x)\n",
    "pred = get_probs_positive_class(pred)\n",
    "print(\"AUC score:\", metrics.roc_auc_score(np.array(testing_y, dtype=int), pred))"
   ]
  },
  {
   "cell_type": "code",
   "execution_count": 8,
   "metadata": {},
   "outputs": [
    {
     "data": {
      "image/png": "[encoded data removed]",
      "text/plain": [
       "<Figure size 432x288 with 1 Axes>"
      ]
     },
     "metadata": {
      "needs_background": "light"
     },
     "output_type": "display_data"
    }
   ],
   "source": [
    "from sklearn.metrics import precision_recall_curve\n",
    "from sklearn.metrics import auc\n",
    "from matplotlib import pyplot\n",
    "\n",
    "precision, recall, _ = precision_recall_curve(testing_y, pred)\n",
    "pyplot.plot(recall, precision, marker='.', label='Logistic')\n",
    "pyplot.xlabel('Recall')\n",
    "pyplot.ylabel('Precision')\n",
    "pyplot.legend()\n",
    "pyplot.show()"
   ]
  },
  {
   "cell_type": "code",
   "execution_count": 11,
   "metadata": {},
   "outputs": [
    {
     "name": "stdout",
     "output_type": "stream",
     "text": [
      "1.0\n"
     ]
    }
   ],
   "source": [
    "from sklearn.metrics import auc\n",
    "auc_score = auc(recall, precision)\n",
    "print(auc_score)"
   ]
  },
  {
   "cell_type": "code",
   "execution_count": 12,
   "metadata": {},
   "outputs": [],
   "source": [
    "import random"
   ]
  },
  {
   "cell_type": "code",
   "execution_count": 14,
   "metadata": {},
   "outputs": [
    {
     "name": "stdout",
     "output_type": "stream",
     "text": [
      "Iteration: 1\n",
      "Sampled Genes: ['SLC2A5', 'RAB2B', 'KIAA0040', 'PET112', 'MTCH2']\n",
      "Accuracy:\n",
      "0.8380566801619433\n",
      "ROC curve's AUC score:\n",
      "0.9600155279503106\n",
      "PRC AUC score:\n",
      "0.9958253625354505\n"
     ]
    },
    {
     "data": {
      "image/png": "[encoded data removed]",
      "text/plain": [
       "<Figure size 432x288 with 1 Axes>"
      ]
     },
     "metadata": {
      "needs_background": "light"
     },
     "output_type": "display_data"
    },
    {
     "name": "stdout",
     "output_type": "stream",
     "text": [
      "\n",
      "\n",
      "\n",
      "Iteration: 2\n",
      "Sampled Genes: ['PTN', 'STXBP5L', 'OR10P1', 'IQCF3', 'KLRG2']\n",
      "Accuracy:\n",
      "0.8421052631578947\n",
      "ROC curve's AUC score:\n",
      "0.9501164596273292\n",
      "PRC AUC score:\n",
      "0.9936050530611282\n"
     ]
    },
    {
     "data": {
      "image/png": "[encoded data removed]",
      "text/plain": [
       "<Figure size 432x288 with 1 Axes>"
      ]
     },
     "metadata": {
      "needs_background": "light"
     },
     "output_type": "display_data"
    },
    {
     "name": "stdout",
     "output_type": "stream",
     "text": [
      "\n",
      "\n",
      "\n",
      "Iteration: 3\n",
      "Sampled Genes: ['SUSD2', 'A4GNT', 'SVOPL', 'STK35', 'MIR548Z']\n",
      "Accuracy:\n",
      "0.757085020242915\n",
      "ROC curve's AUC score:\n",
      "0.8977096273291926\n",
      "PRC AUC score:\n",
      "0.9875173595508412\n"
     ]
    },
    {
     "data": {
      "image/png": "[encoded data removed]",
      "text/plain": [
       "<Figure size 432x288 with 1 Axes>"
      ]
     },
     "metadata": {
      "needs_background": "light"
     },
     "output_type": "display_data"
    },
    {
     "name": "stdout",
     "output_type": "stream",
     "text": [
      "\n",
      "\n",
      "\n",
      "Iteration: 4\n",
      "Sampled Genes: ['NDUFAF4', 'HIST1H3A', 'MRAP2', 'EPAS1', 'DGKB']\n",
      "Accuracy:\n",
      "0.9311740890688259\n",
      "ROC curve's AUC score:\n",
      "0.9881599378881988\n",
      "PRC AUC score:\n",
      "0.9988042438783692\n"
     ]
    },
    {
     "data": {
      "image/png": "[encoded data removed]",
      "text/plain": [
       "<Figure size 432x288 with 1 Axes>"
      ]
     },
     "metadata": {
      "needs_background": "light"
     },
     "output_type": "display_data"
    },
    {
     "name": "stdout",
     "output_type": "stream",
     "text": [
      "\n",
      "\n",
      "\n",
      "Iteration: 5\n",
      "Sampled Genes: ['CCL20', 'LOC650368', 'OXTR', 'LMO7', 'PTPN11']\n",
      "Accuracy:\n",
      "0.9757085020242915\n",
      "ROC curve's AUC score:\n",
      "0.9970885093167703\n",
      "PRC AUC score:\n",
      "0.9997073393451421\n"
     ]
    },
    {
     "data": {
      "image/png": "[encoded data removed]",
      "text/plain": [
       "<Figure size 432x288 with 1 Axes>"
      ]
     },
     "metadata": {
      "needs_background": "light"
     },
     "output_type": "display_data"
    },
    {
     "name": "stdout",
     "output_type": "stream",
     "text": [
      "\n",
      "\n",
      "\n",
      "Iteration: 6\n",
      "Sampled Genes: ['ARPC1A', 'LRRFIP2', 'MIR548AA2', 'MIR1257', 'SNORA80']\n",
      "Accuracy:\n",
      "0.5344129554655871\n",
      "ROC curve's AUC score:\n",
      "0.7445652173913044\n",
      "PRC AUC score:\n",
      "0.9712437803952096\n"
     ]
    },
    {
     "data": {
      "image/png": "[encoded data removed]",
      "text/plain": [
       "<Figure size 432x288 with 1 Axes>"
      ]
     },
     "metadata": {
      "needs_background": "light"
     },
     "output_type": "display_data"
    },
    {
     "name": "stdout",
     "output_type": "stream",
     "text": [
      "\n",
      "\n",
      "\n",
      "Iteration: 7\n",
      "Sampled Genes: ['PODNL1', 'UBLCP1', 'SNORD114-11', 'LOC100507156', 'PFKM']\n",
      "Accuracy:\n",
      "0.6882591093117408\n",
      "ROC curve's AUC score:\n",
      "0.8542313664596273\n",
      "PRC AUC score:\n",
      "0.9812493378104333\n"
     ]
    },
    {
     "data": {
      "image/png": "[encoded data removed]",
      "text/plain": [
       "<Figure size 432x288 with 1 Axes>"
      ]
     },
     "metadata": {
      "needs_background": "light"
     },
     "output_type": "display_data"
    },
    {
     "name": "stdout",
     "output_type": "stream",
     "text": [
      "\n",
      "\n",
      "\n",
      "Iteration: 8\n",
      "Sampled Genes: ['PDHA1', 'HIST1H2BG', 'CEBPG', 'RTCD1', 'GMEB1']\n",
      "Accuracy:\n",
      "0.8461538461538461\n",
      "ROC curve's AUC score:\n",
      "0.8907220496894409\n",
      "PRC AUC score:\n",
      "0.9818101920682162\n"
     ]
    },
    {
     "data": {
      "image/png": "[encoded data removed]",
      "text/plain": [
       "<Figure size 432x288 with 1 Axes>"
      ]
     },
     "metadata": {
      "needs_background": "light"
     },
     "output_type": "display_data"
    },
    {
     "name": "stdout",
     "output_type": "stream",
     "text": [
      "\n",
      "\n",
      "\n",
      "Iteration: 9\n",
      "Sampled Genes: ['MIR892A', 'TDRG1', 'EDNRB', 'ANKRD20A11P', 'DIP2B']\n",
      "Accuracy:\n",
      "0.9271255060728745\n",
      "ROC curve's AUC score:\n",
      "0.9796195652173912\n",
      "PRC AUC score:\n",
      "0.9979805799659538\n"
     ]
    },
    {
     "data": {
      "image/png": "[encoded data removed]",
      "text/plain": [
       "<Figure size 432x288 with 1 Axes>"
      ]
     },
     "metadata": {
      "needs_background": "light"
     },
     "output_type": "display_data"
    },
    {
     "name": "stdout",
     "output_type": "stream",
     "text": [
      "\n",
      "\n",
      "\n"
     ]
    }
   ],
   "source": [
    "for i in range(1,10):\n",
    "    print(\"Iteration:\", i)\n",
    "    \n",
    "    genes = list(pyrnk.index.values)\n",
    "    genes = random.sample(genes, 5)\n",
    "    print(\"Sampled Genes:\", genes)\n",
    "\n",
    "    training_x = training.loc[:, genes]\n",
    "    testing_x = testing.loc[:, genes]\n",
    "\n",
    "    training_y = training.loc[:, ['class']].T.values[0]\n",
    "    testing_y = testing.loc[:, ['class']].T.values[0]\n",
    "\n",
    "    clf = SVC(gamma='auto', probability=True)\n",
    "    clf.fit(training_x, training_y)\n",
    "\n",
    "    print(\"Accuracy:\")\n",
    "    print(clf.score(testing_x, testing_y))\n",
    "    print(\"ROC curve's AUC score:\")\n",
    "    pred = clf.predict_proba(testing_x)\n",
    "    pred = get_probs_positive_class(pred)\n",
    "    print(metrics.roc_auc_score(np.array(testing_y, dtype=int), pred))\n",
    "    \n",
    "    precision, recall, _ = precision_recall_curve(testing_y, pred)\n",
    "    print(\"PRC AUC score:\")\n",
    "    print(auc(recall, precision))\n",
    "    pyplot.plot([0, 1], [0.5, 0.5], linestyle='--')\n",
    "    pyplot.plot(recall, precision, marker='.')\n",
    "    pyplot.show()\n",
    "    print(\"\\n\\n\")"
   ]
  },
  {
   "cell_type": "code",
   "execution_count": null,
   "metadata": {},
   "outputs": [],
   "source": []
  }
 ],
 "metadata": {
  "kernelspec": {
   "display_name": "Python 3",
   "language": "python",
   "name": "python3"
  },
  "language_info": {
   "codemirror_mode": {
    "name": "ipython",
    "version": 3
   },
   "file_extension": ".py",
   "mimetype": "text/x-python",
   "name": "python",
   "nbconvert_exporter": "python",
   "pygments_lexer": "ipython3",
   "version": "3.7.5"
  }
 },
 "nbformat": 4,
 "nbformat_minor": 2
}
