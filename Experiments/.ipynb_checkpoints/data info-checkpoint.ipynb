{
 "cells": [
  {
   "cell_type": "code",
   "execution_count": 1,
   "id": "3f68e0db",
   "metadata": {},
   "outputs": [],
   "source": [
    "import pandas as pd"
   ]
  },
  {
   "cell_type": "code",
   "execution_count": 2,
   "id": "100508af",
   "metadata": {},
   "outputs": [],
   "source": [
    "base = \"/home/colombelli/Documents/arrayexpress/\""
   ]
  },
  {
   "cell_type": "code",
   "execution_count": 7,
   "id": "476f05a6",
   "metadata": {},
   "outputs": [],
   "source": [
    "breast = pd.read_csv(base+\"breast.csv\", index_col=0)\n",
    "liver = pd.read_csv(base+\"liver.csv\", index_col=0)\n",
    "lung = pd.read_csv(base+\"lung.csv\", index_col=0)\n",
    "pancreas = pd.read_csv(base+\"pancreas.csv\", index_col=0)"
   ]
  },
  {
   "cell_type": "code",
   "execution_count": 8,
   "id": "bd39f3a0",
   "metadata": {},
   "outputs": [
    {
     "name": "stdout",
     "output_type": "stream",
     "text": [
      "Features of each dataset:  20546 22882 20546 22882\n"
     ]
    }
   ],
   "source": [
    "print(\"Features of each dataset: \", len(breast.columns), len(liver.columns), len(lung.columns), len(pancreas.columns))"
   ]
  },
  {
   "cell_type": "code",
   "execution_count": 12,
   "id": "d65e76e7",
   "metadata": {},
   "outputs": [
    {
     "data": {
      "text/plain": [
       "1    2088\n",
       "0     214\n",
       "Name: class, dtype: int64"
      ]
     },
     "execution_count": 12,
     "metadata": {},
     "output_type": "execute_result"
    }
   ],
   "source": [
    "breast[\"class\"].value_counts()"
   ]
  },
  {
   "cell_type": "code",
   "execution_count": 13,
   "id": "6f77b402",
   "metadata": {},
   "outputs": [
    {
     "data": {
      "text/plain": [
       "1    264\n",
       "0    137\n",
       "Name: class, dtype: int64"
      ]
     },
     "execution_count": 13,
     "metadata": {},
     "output_type": "execute_result"
    }
   ],
   "source": [
    "liver[\"class\"].value_counts()"
   ]
  },
  {
   "cell_type": "code",
   "execution_count": 14,
   "id": "d2c41b5d",
   "metadata": {},
   "outputs": [
    {
     "data": {
      "text/plain": [
       "1    1474\n",
       "0     147\n",
       "Name: class, dtype: int64"
      ]
     },
     "execution_count": 14,
     "metadata": {},
     "output_type": "execute_result"
    }
   ],
   "source": [
    "lung[\"class\"].value_counts()"
   ]
  },
  {
   "cell_type": "code",
   "execution_count": 15,
   "id": "7bdcf62d",
   "metadata": {},
   "outputs": [
    {
     "data": {
      "text/plain": [
       "1    108\n",
       "0     70\n",
       "Name: class, dtype: int64"
      ]
     },
     "execution_count": 15,
     "metadata": {},
     "output_type": "execute_result"
    }
   ],
   "source": [
    "pancreas[\"class\"].value_counts()"
   ]
  },
  {
   "cell_type": "code",
   "execution_count": 16,
   "id": "a4f1830a",
   "metadata": {},
   "outputs": [
    {
     "name": "stdout",
     "output_type": "stream",
     "text": [
      "Samples of each dataset:  2302 401 1621 178\n"
     ]
    }
   ],
   "source": [
    "print(\"Samples of each dataset: \", len(breast), len(liver), len(lung), len(pancreas))"
   ]
  },
  {
   "cell_type": "code",
   "execution_count": null,
   "id": "fdfbf8da",
   "metadata": {},
   "outputs": [],
   "source": []
  }
 ],
 "metadata": {
  "kernelspec": {
   "display_name": "Python 3",
   "language": "python",
   "name": "python3"
  },
  "language_info": {
   "codemirror_mode": {
    "name": "ipython",
    "version": 3
   },
   "file_extension": ".py",
   "mimetype": "text/x-python",
   "name": "python",
   "nbconvert_exporter": "python",
   "pygments_lexer": "ipython3",
   "version": "3.6.13"
  }
 },
 "nbformat": 4,
 "nbformat_minor": 5
}
