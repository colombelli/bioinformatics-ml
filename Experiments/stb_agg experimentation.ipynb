{
 "cells": [
  {
   "cell_type": "code",
   "execution_count": 24,
   "metadata": {},
   "outputs": [],
   "source": [
    "import sys\n",
    "sys.path.append('../engine/')\n",
    "\n",
    "from DataManager import DataManager\n",
    "from Hybrid import Hybrid\n",
    "import rpy2.robjects.packages as rpackages\n",
    "\n",
    "\n",
    "num_bootstraps = 10\n",
    "num_folds = 5\n",
    "\n",
    "fs_methods = [\n",
    "    (\"reliefF\", \"python\", \"rf\"),\n",
    "    (\"geoDE\", \"python\", \"gd\")\n",
    "]\n",
    "\n",
    "ths = [1, 5, 10, 15, 25, 50, 75, 100, 150, 200]\n",
    "seed = 42"
   ]
  },
  {
   "cell_type": "code",
   "execution_count": 25,
   "metadata": {},
   "outputs": [],
   "source": [
    "dataset_path = '/home/colombelli/Documents/datasets/thyroid_log2.rds'\n",
    "results_path = '/home/colombelli/Desktop/thyroid/'"
   ]
  },
  {
   "cell_type": "code",
   "execution_count": 42,
   "metadata": {},
   "outputs": [],
   "source": [
    "def select_features_heavy(self):\n",
    "    \n",
    "        for i in range(self.dm.num_folds):\n",
    "            \n",
    "            print(\"\\n\\n################# Fold iteration:\", i+1, \"#################\")\n",
    "            self.dm.current_fold_iteration = i\n",
    "            self.dm.update_bootstraps()\n",
    "\n",
    "            bs_rankings = {}\n",
    "            for j, (bootstrap, _) in enumerate(self.dm.current_bootstraps):\n",
    "                print(\"\\n\\nBootstrap: \", j+1, \"\\n\")\n",
    "                output_path = self.dm.get_output_path(i, j)\n",
    "                bootstrap_data = self.dm.pd_df.loc[bootstrap]\n",
    "\n",
    "        \n",
    "                fst_layer_rankings = []\n",
    "                for fs_method in self.fs_methods:   \n",
    "                    print(\"\")\n",
    "                    print(\"otp path:\", output_path)\n",
    "                    fst_layer_rankings.append(\n",
    "                        fs_method.select(bootstrap_data, output_path)\n",
    "                    )\n",
    "                \n",
    "                bs_rankings[j] = fst_layer_rankings\n",
    "                self.dm.bs_rankiings = bs_rankings\n",
    "            print(\"\\nAggregating Level 1 rankings...\")\n",
    "            return bs_rankings"
   ]
  },
  {
   "cell_type": "code",
   "execution_count": 31,
   "metadata": {},
   "outputs": [
    {
     "name": "stdout",
     "output_type": "stream",
     "text": [
      "Encoding dataframe attributes...\n",
      "Creating results directory...\n"
     ]
    }
   ],
   "source": [
    "dm = DataManager(results_path, dataset_path, num_bootstraps, num_folds, seed)\n",
    "dm.encode_main_dm_df()\n",
    "dm.create_results_dir()\n",
    "dm.init_data_folding_process()"
   ]
  },
  {
   "cell_type": "code",
   "execution_count": 43,
   "metadata": {},
   "outputs": [],
   "source": [
    "aggregator = \"mean\"\n",
    "ensemble = Hybrid(dm, fs_methods, aggregator, aggregator)"
   ]
  },
  {
   "cell_type": "code",
   "execution_count": 44,
   "metadata": {},
   "outputs": [],
   "source": [
    "ensemble.select_features = select_features_heavy"
   ]
  },
  {
   "cell_type": "code",
   "execution_count": 45,
   "metadata": {},
   "outputs": [
    {
     "name": "stdout",
     "output_type": "stream",
     "text": [
      "\n",
      "\n",
      "################# Fold iteration: 1 #################\n",
      "\n",
      "\n",
      "Bootstrap:  1 \n",
      "\n",
      "\n",
      "otp path: /home/colombelli/Desktop/thyroid/fold_1/bootstrap_1/\n",
      "Ranking features with ReliefF algorithm...\n",
      "Processing data...\n",
      "Decoding dataframe attributes...\n",
      "Saving ranking...\n",
      "\n",
      "otp path: /home/colombelli/Desktop/thyroid/fold_1/bootstrap_1/\n",
      "Ranking features with Characteristic Direction (GeoDE)...\n",
      "Processing data...\n",
      "Decoding dataframe attributes...\n",
      "Saving ranking...\n",
      "\n",
      "\n",
      "Bootstrap:  2 \n",
      "\n",
      "\n",
      "otp path: /home/colombelli/Desktop/thyroid/fold_1/bootstrap_2/\n",
      "Ranking features with ReliefF algorithm...\n",
      "Processing data...\n",
      "Decoding dataframe attributes...\n",
      "Saving ranking...\n",
      "\n",
      "otp path: /home/colombelli/Desktop/thyroid/fold_1/bootstrap_2/\n",
      "Ranking features with Characteristic Direction (GeoDE)...\n",
      "Processing data...\n",
      "Decoding dataframe attributes...\n",
      "Saving ranking...\n",
      "\n",
      "\n",
      "Bootstrap:  3 \n",
      "\n",
      "\n",
      "otp path: /home/colombelli/Desktop/thyroid/fold_1/bootstrap_3/\n",
      "Ranking features with ReliefF algorithm...\n",
      "Processing data...\n",
      "Decoding dataframe attributes...\n",
      "Saving ranking...\n",
      "\n",
      "otp path: /home/colombelli/Desktop/thyroid/fold_1/bootstrap_3/\n",
      "Ranking features with Characteristic Direction (GeoDE)...\n",
      "Processing data...\n",
      "Decoding dataframe attributes...\n",
      "Saving ranking...\n",
      "\n",
      "\n",
      "Bootstrap:  4 \n",
      "\n",
      "\n",
      "otp path: /home/colombelli/Desktop/thyroid/fold_1/bootstrap_4/\n",
      "Ranking features with ReliefF algorithm...\n",
      "Processing data...\n",
      "Decoding dataframe attributes...\n",
      "Saving ranking...\n",
      "\n",
      "otp path: /home/colombelli/Desktop/thyroid/fold_1/bootstrap_4/\n",
      "Ranking features with Characteristic Direction (GeoDE)...\n",
      "Processing data...\n",
      "Decoding dataframe attributes...\n",
      "Saving ranking...\n",
      "\n",
      "\n",
      "Bootstrap:  5 \n",
      "\n",
      "\n",
      "otp path: /home/colombelli/Desktop/thyroid/fold_1/bootstrap_5/\n",
      "Ranking features with ReliefF algorithm...\n",
      "Processing data...\n",
      "Decoding dataframe attributes...\n",
      "Saving ranking...\n",
      "\n",
      "otp path: /home/colombelli/Desktop/thyroid/fold_1/bootstrap_5/\n",
      "Ranking features with Characteristic Direction (GeoDE)...\n",
      "Processing data...\n",
      "Decoding dataframe attributes...\n",
      "Saving ranking...\n",
      "\n",
      "\n",
      "Bootstrap:  6 \n",
      "\n",
      "\n",
      "otp path: /home/colombelli/Desktop/thyroid/fold_1/bootstrap_6/\n",
      "Ranking features with ReliefF algorithm...\n",
      "Processing data...\n",
      "Decoding dataframe attributes...\n",
      "Saving ranking...\n",
      "\n",
      "otp path: /home/colombelli/Desktop/thyroid/fold_1/bootstrap_6/\n",
      "Ranking features with Characteristic Direction (GeoDE)...\n",
      "Processing data...\n",
      "Decoding dataframe attributes...\n",
      "Saving ranking...\n",
      "\n",
      "\n",
      "Bootstrap:  7 \n",
      "\n",
      "\n",
      "otp path: /home/colombelli/Desktop/thyroid/fold_1/bootstrap_7/\n",
      "Ranking features with ReliefF algorithm...\n",
      "Processing data...\n",
      "Decoding dataframe attributes...\n",
      "Saving ranking...\n",
      "\n",
      "otp path: /home/colombelli/Desktop/thyroid/fold_1/bootstrap_7/\n",
      "Ranking features with Characteristic Direction (GeoDE)...\n",
      "Processing data...\n",
      "Decoding dataframe attributes...\n",
      "Saving ranking...\n",
      "\n",
      "\n",
      "Bootstrap:  8 \n",
      "\n",
      "\n",
      "otp path: /home/colombelli/Desktop/thyroid/fold_1/bootstrap_8/\n",
      "Ranking features with ReliefF algorithm...\n",
      "Processing data...\n",
      "Decoding dataframe attributes...\n",
      "Saving ranking...\n",
      "\n",
      "otp path: /home/colombelli/Desktop/thyroid/fold_1/bootstrap_8/\n",
      "Ranking features with Characteristic Direction (GeoDE)...\n",
      "Processing data...\n",
      "Decoding dataframe attributes...\n",
      "Saving ranking...\n",
      "\n",
      "\n",
      "Bootstrap:  9 \n",
      "\n",
      "\n",
      "otp path: /home/colombelli/Desktop/thyroid/fold_1/bootstrap_9/\n",
      "Ranking features with ReliefF algorithm...\n",
      "Processing data...\n",
      "Decoding dataframe attributes...\n",
      "Saving ranking...\n",
      "\n",
      "otp path: /home/colombelli/Desktop/thyroid/fold_1/bootstrap_9/\n",
      "Ranking features with Characteristic Direction (GeoDE)...\n",
      "Processing data...\n",
      "Decoding dataframe attributes...\n",
      "Saving ranking...\n",
      "\n",
      "\n",
      "Bootstrap:  10 \n",
      "\n",
      "\n",
      "otp path: /home/colombelli/Desktop/thyroid/fold_1/bootstrap_10/\n",
      "Ranking features with ReliefF algorithm...\n",
      "Processing data...\n",
      "Decoding dataframe attributes...\n",
      "Saving ranking...\n",
      "\n",
      "otp path: /home/colombelli/Desktop/thyroid/fold_1/bootstrap_10/\n",
      "Ranking features with Characteristic Direction (GeoDE)...\n",
      "Processing data...\n",
      "Decoding dataframe attributes...\n",
      "Saving ranking...\n",
      "\n",
      "Aggregating Level 1 rankings...\n"
     ]
    }
   ],
   "source": [
    "bs_rankings = ensemble.select_features(ensemble)"
   ]
  },
  {
   "cell_type": "code",
   "execution_count": 51,
   "metadata": {},
   "outputs": [
    {
     "data": {
      "text/plain": [
       "[                     rank\n",
       " Xhsa_2dmiR_2d10b_2A     1\n",
       " Xhsa_2dmiR_2d133a       2\n",
       " Xhsa_2dmiR_2d190        3\n",
       " Xhsa_2dmiR_2d195_2A     4\n",
       " Xhsa_2dmiR_2d205        5\n",
       " ...                   ...\n",
       " Xhsa_2dmiR_2d642a     813\n",
       " Xhsa_2dmiR_2d92b      814\n",
       " Xhsa_2dmiR_2d655      815\n",
       " Xhsa_2dmiR_2d27b_2A   816\n",
       " Xhsa_2dmiR_2d411_2A   817\n",
       " \n",
       " [817 rows x 1 columns],                        rank\n",
       " Xhsa_2dmiR_2d486_2d5p     1\n",
       " Xhsa_2dmiR_2d431_2A       2\n",
       " Xhsa_2dmiR_2d126_2A       3\n",
       " Xhsa_2dmiR_2d21_2A        4\n",
       " Xhsa_2dmiR_2d770_2d5p     5\n",
       " ...                     ...\n",
       " Xhsa_2dmiR_2d665        813\n",
       " Xhsa_2dmiR_2d491_2d3p   814\n",
       " Xhsa_2dmiR_2d619        815\n",
       " Xhsa_2dmiR_2d489        816\n",
       " Xdmr_5f31a              817\n",
       " \n",
       " [817 rows x 1 columns]]"
      ]
     },
     "execution_count": 51,
     "metadata": {},
     "output_type": "execute_result"
    }
   ],
   "source": [
    "bs_rankings[0]"
   ]
  },
  {
   "cell_type": "code",
   "execution_count": 50,
   "metadata": {},
   "outputs": [
    {
     "ename": "TypeError",
     "evalue": "cannot unpack non-iterable int object",
     "output_type": "error",
     "traceback": [
      "\u001b[0;31m---------------------------------------------------------------------------\u001b[0m",
      "\u001b[0;31mTypeError\u001b[0m                                 Traceback (most recent call last)",
      "\u001b[0;32m<ipython-input-50-6c68cd7d1841>\u001b[0m in \u001b[0;36m<module>\u001b[0;34m\u001b[0m\n\u001b[0;32m----> 1\u001b[0;31m \u001b[0;32mfor\u001b[0m \u001b[0mkey\u001b[0m\u001b[0;34m,\u001b[0m \u001b[0ma\u001b[0m \u001b[0;32min\u001b[0m \u001b[0mbs_rankings\u001b[0m\u001b[0;34m:\u001b[0m\u001b[0;34m\u001b[0m\u001b[0;34m\u001b[0m\u001b[0m\n\u001b[0m\u001b[1;32m      2\u001b[0m     \u001b[0mprint\u001b[0m\u001b[0;34m(\u001b[0m\u001b[0ma\u001b[0m\u001b[0;34m)\u001b[0m\u001b[0;34m\u001b[0m\u001b[0;34m\u001b[0m\u001b[0m\n",
      "\u001b[0;31mTypeError\u001b[0m: cannot unpack non-iterable int object"
     ]
    }
   ],
   "source": [
    "# get genes\n",
    "\n",
    "\n",
    "get_selectors_stability()\n",
    "    \n",
    "    for gene in rankings[0].index:\n",
    "            aggregated_ranking[gene] = 0\n",
    "\n",
    "        for ranking in rankings:\n",
    "            for gene in ranking.index: \n",
    "                aggregated_ranking[gene] += ranking.loc[gene, 'rank']"
   ]
  },
  {
   "cell_type": "code",
   "execution_count": 52,
   "metadata": {},
   "outputs": [],
   "source": [
    "import kuncheva_index as ki\n",
    "\n",
    "def get_selectors_stability(threshold):\n",
    "    \n",
    "    \n",
    "    "
   ]
  },
  {
   "cell_type": "code",
   "execution_count": 55,
   "metadata": {},
   "outputs": [
    {
     "data": {
      "text/plain": [
       "63"
      ]
     },
     "execution_count": 55,
     "metadata": {},
     "output_type": "execute_result"
    }
   ],
   "source": [
    "ths = [1, 5, 10, 15, 25, 50, 75, 100, 150, 200]\n",
    "sum(ths) // len(ths)"
   ]
  },
  {
   "cell_type": "code",
   "execution_count": null,
   "metadata": {},
   "outputs": [],
   "source": []
  }
 ],
 "metadata": {
  "kernelspec": {
   "display_name": "Python 3",
   "language": "python",
   "name": "python3"
  },
  "language_info": {
   "codemirror_mode": {
    "name": "ipython",
    "version": 3
   },
   "file_extension": ".py",
   "mimetype": "text/x-python",
   "name": "python",
   "nbconvert_exporter": "python",
   "pygments_lexer": "ipython3",
   "version": "3.7.5"
  }
 },
 "nbformat": 4,
 "nbformat_minor": 2
}
