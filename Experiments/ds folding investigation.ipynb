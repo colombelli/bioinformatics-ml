{
 "cells": [
  {
   "cell_type": "code",
   "execution_count": 1,
   "metadata": {},
   "outputs": [],
   "source": [
    "import numpy as np\n",
    "import pandas as pd\n",
    "import pickle\n",
    "\n",
    "import rpy2.robjects as robjects\n",
    "from rpy2.robjects import pandas2ri\n",
    "from rpy2.robjects.conversion import localconverter\n",
    "\n",
    "\n",
    "\n",
    "\n",
    "def load_RDS(file_path):\n",
    "    read_RDS = robjects.r['readRDS']\n",
    "    return read_RDS(file_path)\n",
    "\n",
    "\n",
    "\n",
    "def pandas_to_r(df):        \n",
    "    with localconverter(robjects.default_converter + pandas2ri.converter):\n",
    "        r_from_pandas_df = robjects.conversion.py2rpy(df)\n",
    "    return r_from_pandas_df\n",
    "\n",
    "\n",
    "\n",
    "def r_to_pandas(df):\n",
    "    with localconverter(robjects.default_converter + pandas2ri.converter):\n",
    "        pandas_from_r_df = robjects.conversion.rpy2py(df)\n",
    "    return pandas_from_r_df"
   ]
  },
  {
   "cell_type": "code",
   "execution_count": 27,
   "metadata": {},
   "outputs": [],
   "source": [
    "path = \"/home/colombelli/Documents/reserach_proc_ds/UCEC/iqrSelectedGenes.rds\"\n",
    "rdf = load_RDS(path)\n",
    "pdf = r_to_pandas(rdf)"
   ]
  },
  {
   "cell_type": "code",
   "execution_count": 28,
   "metadata": {},
   "outputs": [],
   "source": [
    "fold_path = \"/home/colombelli/Documents/Experiments2/UCEC/Het_mean/fold_sampling.pkl\"\n",
    "with open(fold_path, 'rb') as f:\n",
    "    folds = pickle.load(f)"
   ]
  },
  {
   "cell_type": "code",
   "execution_count": 29,
   "metadata": {},
   "outputs": [
    {
     "name": "stdout",
     "output_type": "stream",
     "text": [
      "fold: 0\n",
      "56\n",
      "14\n",
      "\n",
      "\n",
      "fold: 1\n",
      "56\n",
      "14\n",
      "\n",
      "\n",
      "fold: 2\n",
      "56\n",
      "14\n",
      "\n",
      "\n",
      "fold: 3\n",
      "56\n",
      "14\n",
      "\n",
      "\n",
      "fold: 4\n",
      "56\n",
      "14\n",
      "\n",
      "\n"
     ]
    }
   ],
   "source": [
    "for i, fold in enumerate(folds):\n",
    "    print(\"fold:\", i)\n",
    "    print(len(fold[0]))\n",
    "    print(len(fold[1]))\n",
    "    print(\"\\n\")"
   ]
  },
  {
   "cell_type": "code",
   "execution_count": 18,
   "metadata": {},
   "outputs": [
    {
     "data": {
      "text/html": [
       "<div>\n",
       "<style scoped>\n",
       "    .dataframe tbody tr th:only-of-type {\n",
       "        vertical-align: middle;\n",
       "    }\n",
       "\n",
       "    .dataframe tbody tr th {\n",
       "        vertical-align: top;\n",
       "    }\n",
       "\n",
       "    .dataframe thead th {\n",
       "        text-align: right;\n",
       "    }\n",
       "</style>\n",
       "<table border=\"1\" class=\"dataframe\">\n",
       "  <thead>\n",
       "    <tr style=\"text-align: right;\">\n",
       "      <th></th>\n",
       "      <th>class</th>\n",
       "    </tr>\n",
       "  </thead>\n",
       "  <tbody>\n",
       "    <tr>\n",
       "      <th>TCGA.E2.A1LS.11A.32R.A157.07</th>\n",
       "      <td>0.0</td>\n",
       "    </tr>\n",
       "    <tr>\n",
       "      <th>TCGA.E9.A1RC.11A.33R.A157.07</th>\n",
       "      <td>0.0</td>\n",
       "    </tr>\n",
       "    <tr>\n",
       "      <th>TCGA.E9.A1NG.11A.52R.A14M.07</th>\n",
       "      <td>0.0</td>\n",
       "    </tr>\n",
       "    <tr>\n",
       "      <th>TCGA.BH.A1FU.11A.23R.A14D.07</th>\n",
       "      <td>0.0</td>\n",
       "    </tr>\n",
       "    <tr>\n",
       "      <th>TCGA.BH.A18S.11A.43R.A12D.07</th>\n",
       "      <td>0.0</td>\n",
       "    </tr>\n",
       "    <tr>\n",
       "      <th>...</th>\n",
       "      <td>...</td>\n",
       "    </tr>\n",
       "    <tr>\n",
       "      <th>TCGA.BH.A0BJ.11A.23R.A089.07</th>\n",
       "      <td>0.0</td>\n",
       "    </tr>\n",
       "    <tr>\n",
       "      <th>TCGA.BH.A0DZ.11A.22R.A089.07</th>\n",
       "      <td>0.0</td>\n",
       "    </tr>\n",
       "    <tr>\n",
       "      <th>TCGA.AC.A23H.11A.12R.A157.07</th>\n",
       "      <td>0.0</td>\n",
       "    </tr>\n",
       "    <tr>\n",
       "      <th>TCGA.AC.A2FB.11A.13R.A17B.07</th>\n",
       "      <td>0.0</td>\n",
       "    </tr>\n",
       "    <tr>\n",
       "      <th>TCGA.BH.A0H9.11A.22R.A466.07</th>\n",
       "      <td>0.0</td>\n",
       "    </tr>\n",
       "  </tbody>\n",
       "</table>\n",
       "<p>90 rows × 1 columns</p>\n",
       "</div>"
      ],
      "text/plain": [
       "                              class\n",
       "TCGA.E2.A1LS.11A.32R.A157.07    0.0\n",
       "TCGA.E9.A1RC.11A.33R.A157.07    0.0\n",
       "TCGA.E9.A1NG.11A.52R.A14M.07    0.0\n",
       "TCGA.BH.A1FU.11A.23R.A14D.07    0.0\n",
       "TCGA.BH.A18S.11A.43R.A12D.07    0.0\n",
       "...                             ...\n",
       "TCGA.BH.A0BJ.11A.23R.A089.07    0.0\n",
       "TCGA.BH.A0DZ.11A.22R.A089.07    0.0\n",
       "TCGA.AC.A23H.11A.12R.A157.07    0.0\n",
       "TCGA.AC.A2FB.11A.13R.A17B.07    0.0\n",
       "TCGA.BH.A0H9.11A.22R.A466.07    0.0\n",
       "\n",
       "[90 rows x 1 columns]"
      ]
     },
     "execution_count": 18,
     "metadata": {},
     "output_type": "execute_result"
    }
   ],
   "source": [
    "pdf.loc[folds[0][0], ['class']].loc[pdf['class'] == 0]"
   ]
  },
  {
   "cell_type": "code",
   "execution_count": null,
   "metadata": {},
   "outputs": [],
   "source": []
  }
 ],
 "metadata": {
  "kernelspec": {
   "display_name": "Python 3",
   "language": "python",
   "name": "python3"
  },
  "language_info": {
   "codemirror_mode": {
    "name": "ipython",
    "version": 3
   },
   "file_extension": ".py",
   "mimetype": "text/x-python",
   "name": "python",
   "nbconvert_exporter": "python",
   "pygments_lexer": "ipython3",
   "version": "3.7.5"
  }
 },
 "nbformat": 4,
 "nbformat_minor": 2
}
