{
 "cells": [
  {
   "cell_type": "markdown",
   "metadata": {},
   "source": [
    "### Imports and definition of a function used to calculate AUC score"
   ]
  },
  {
   "cell_type": "code",
   "execution_count": 1,
   "metadata": {},
   "outputs": [],
   "source": [
    "import numpy as np\n",
    "import pandas as pd\n",
    "\n",
    "import rpy2.robjects as robjects\n",
    "from rpy2.robjects import pandas2ri\n",
    "from rpy2.robjects.conversion import localconverter\n",
    "\n",
    "import pickle\n",
    "import sys\n",
    "\n",
    "from sklearn import metrics\n",
    "from sklearn.svm import SVC\n",
    "\n",
    "def get_probs_positive_class(pred):\n",
    "        positive_probs = []\n",
    "\n",
    "        for prediction in pred:\n",
    "            positive_probs.append(prediction[1])\n",
    "        return positive_probs"
   ]
  },
  {
   "cell_type": "markdown",
   "metadata": {},
   "source": [
    "### Loading full dataset without the IQR pre-processing step and the fold sampling binary"
   ]
  },
  {
   "cell_type": "code",
   "execution_count": 2,
   "metadata": {},
   "outputs": [],
   "source": [
    "dataset_path = \"/home/colombelli/Documents/research_proc_ds/BRCA/processedBRCA.rds\"\n",
    "read_RDS = robjects.r['readRDS']\n",
    "df = read_RDS(dataset_path)\n",
    "\n",
    "with localconverter(robjects.default_converter + pandas2ri.converter):\n",
    "    pydf = robjects.conversion.rpy2py(df)\n",
    "\n",
    "    \n",
    "fold_path = \"/home/colombelli/Documents/brca_new_sampling/fold_sampling.pkl\"\n",
    "with open(fold_path, 'rb') as file:\n",
    "    folds_sampling = pickle.load(file)"
   ]
  },
  {
   "cell_type": "markdown",
   "metadata": {},
   "source": [
    "### Selecting fold2 (arbitrary) for evaluate its predictive performance"
   ]
  },
  {
   "cell_type": "code",
   "execution_count": 3,
   "metadata": {},
   "outputs": [],
   "source": [
    "fold2 = folds_sampling[1]"
   ]
  },
  {
   "cell_type": "code",
   "execution_count": 4,
   "metadata": {},
   "outputs": [],
   "source": [
    "training = pydf.loc[fold2[0]]\n",
    "testing = pydf.loc[fold2[1]]"
   ]
  },
  {
   "cell_type": "markdown",
   "metadata": {},
   "source": [
    "### Loading the ranking obtained without the IQR pre-processing step (also no OneR in the Hyb Ens)"
   ]
  },
  {
   "cell_type": "code",
   "execution_count": 58,
   "metadata": {},
   "outputs": [],
   "source": [
    "ranking_output_path = \"/home/colombelli/Desktop/BRCA_no_IQR/fold_1/agg_ranking.rds\"\n",
    "\n",
    "read_RDS = robjects.r['readRDS']\n",
    "ranking = read_RDS(ranking_output_path)\n",
    "\n",
    "with localconverter(robjects.default_converter + pandas2ri.converter):\n",
    "    pyrnk = robjects.conversion.rpy2py(ranking)"
   ]
  },
  {
   "cell_type": "markdown",
   "metadata": {},
   "source": [
    "## ----------------------------------------------------------------------------------------"
   ]
  },
  {
   "cell_type": "markdown",
   "metadata": {},
   "source": [
    "# First Experiment (10 runs): 5 random genes"
   ]
  },
  {
   "cell_type": "code",
   "execution_count": 59,
   "metadata": {},
   "outputs": [],
   "source": [
    "import random"
   ]
  },
  {
   "cell_type": "code",
   "execution_count": 73,
   "metadata": {},
   "outputs": [
    {
     "name": "stdout",
     "output_type": "stream",
     "text": [
      "Iteration: 1\n",
      "Sampled Genes: ['SOX13', 'OR2T27', 'OR5AR1', 'NKIRAS1', 'KIAA0664L3']\n",
      "Accuracy:\n",
      "0.7004048582995951\n",
      "ROC curve's AUC score:\n",
      "0.8732531055900621\n",
      "\n",
      "\n",
      "\n",
      "Iteration: 2\n",
      "Sampled Genes: ['BEX5', 'LOC728190', 'TTTY18', 'FAM183A', 'OR4F5']\n",
      "Accuracy:\n",
      "0.7530364372469636\n",
      "ROC curve's AUC score:\n",
      "0.8992624223602484\n",
      "\n",
      "\n",
      "\n",
      "Iteration: 3\n",
      "Sampled Genes: ['ROBO1', 'FAM82A1', 'UBR7', 'SCRIB', 'OR5T2']\n",
      "Accuracy:\n",
      "0.8785425101214575\n",
      "ROC curve's AUC score:\n",
      "0.9431288819875777\n",
      "\n",
      "\n",
      "\n",
      "Iteration: 4\n",
      "Sampled Genes: ['CXorf40B', 'RPL35A', 'TRPV4', 'MBL1P', 'MIR1276']\n",
      "Accuracy:\n",
      "0.7894736842105263\n",
      "ROC curve's AUC score:\n",
      "0.9138198757763976\n",
      "\n",
      "\n",
      "\n",
      "Iteration: 5\n",
      "Sampled Genes: ['PLGLB1', 'STAU2', 'TBCB', 'PRAMEF21', 'PHPT1']\n",
      "Accuracy:\n",
      "0.8582995951417004\n",
      "ROC curve's AUC score:\n",
      "0.9196428571428572\n",
      "\n",
      "\n",
      "\n",
      "Iteration: 6\n",
      "Sampled Genes: ['MCF2', 'RTN2', 'WSB2', 'COG5', 'HSD11B1']\n",
      "Accuracy:\n",
      "0.7651821862348178\n",
      "ROC curve's AUC score:\n",
      "0.9281832298136645\n",
      "\n",
      "\n",
      "\n",
      "Iteration: 7\n",
      "Sampled Genes: ['SERPINA1', 'ANKFY1', 'MRPL49', 'QKI', 'PSMB6']\n",
      "Accuracy:\n",
      "0.8785425101214575\n",
      "ROC curve's AUC score:\n",
      "0.8796583850931677\n",
      "\n",
      "\n",
      "\n",
      "Iteration: 8\n",
      "Sampled Genes: ['MIR3138', 'ARPC4-TTLL3', 'VCX3A', 'ROBO1', 'VASN']\n",
      "Accuracy:\n",
      "0.6437246963562753\n",
      "ROC curve's AUC score:\n",
      "0.7960986024844721\n",
      "\n",
      "\n",
      "\n",
      "Iteration: 9\n",
      "Sampled Genes: ['SC5DL', 'COMMD6', 'FAM155A', 'STX8', 'INSM2']\n",
      "Accuracy:\n",
      "0.8340080971659919\n",
      "ROC curve's AUC score:\n",
      "0.954192546583851\n",
      "\n",
      "\n",
      "\n"
     ]
    }
   ],
   "source": [
    "for i in range(1,10):\n",
    "    print(\"Iteration:\", i)\n",
    "    \n",
    "    genes = list(pyrnk.index.values)\n",
    "    genes = random.sample(genes, 5)\n",
    "    print(\"Sampled Genes:\", genes)\n",
    "\n",
    "    training_x = training.loc[:, genes]\n",
    "    testing_x = testing.loc[:, genes]\n",
    "\n",
    "    training_y = training.loc[:, ['class']].T.values[0]\n",
    "    testing_y = testing.loc[:, ['class']].T.values[0]\n",
    "\n",
    "    clf = SVC(gamma='auto', probability=True)\n",
    "    clf.fit(training_x, training_y)\n",
    "\n",
    "    print(\"Accuracy:\")\n",
    "    print(clf.score(testing_x, testing_y))\n",
    "    print(\"ROC curve's AUC score:\")\n",
    "    pred = clf.predict_proba(testing_x)\n",
    "    pred = get_probs_positive_class(pred)\n",
    "    print(metrics.roc_auc_score(np.array(testing_y, dtype=int), pred))\n",
    "    print(\"\\n\\n\")"
   ]
  },
  {
   "cell_type": "markdown",
   "metadata": {},
   "source": [
    "# Second Experiment: Select another seed"
   ]
  },
  {
   "cell_type": "markdown",
   "metadata": {},
   "source": [
    "This was already done, the above loaded fold sampling binary was generated with another seed."
   ]
  },
  {
   "cell_type": "markdown",
   "metadata": {},
   "source": [
    "# Third Experiment: classification with Random Forest algorithm"
   ]
  },
  {
   "cell_type": "code",
   "execution_count": 70,
   "metadata": {},
   "outputs": [
    {
     "name": "stdout",
     "output_type": "stream",
     "text": [
      "Selected Genes: ['MIR4508', 'FIGF', 'IBSP', 'CA4', 'LRRC3B']\n",
      "Accuracy: 0.9919028340080972\n",
      "AUC score: 1.0\n"
     ]
    }
   ],
   "source": [
    "from sklearn.ensemble import RandomForestClassifier\n",
    "from sklearn.datasets import make_classification\n",
    "\n",
    "best_genes = list(pyrnk.index.values)\n",
    "best_genes = best_genes[0:5]\n",
    "print(\"Selected Genes:\", best_genes)\n",
    "\n",
    "training_x = training.loc[:, best_genes]\n",
    "testing_x = testing.loc[:, best_genes]\n",
    "\n",
    "clf = RandomForestClassifier(max_depth=2, random_state=0)\n",
    "clf.fit(training_x, training_y)\n",
    "\n",
    "print(\"Accuracy:\", clf.score(testing_x, testing_y))\n",
    "pred = clf.predict_proba(testing_x)\n",
    "pred = get_probs_positive_class(pred)\n",
    "print(\"AUC score:\", metrics.roc_auc_score(np.array(testing_y, dtype=int), pred))"
   ]
  },
  {
   "cell_type": "markdown",
   "metadata": {},
   "source": [
    "### 3.1 Random Forest + Random Genes (10 runs)"
   ]
  },
  {
   "cell_type": "code",
   "execution_count": 81,
   "metadata": {},
   "outputs": [
    {
     "name": "stdout",
     "output_type": "stream",
     "text": [
      "Iteration: 1\n",
      "Sampled Genes: ['CTSA', 'IGFN1', 'ENKUR', 'MIR591', 'FAM136A']\n",
      "Accuracy:\n",
      "0.7408906882591093\n",
      "ROC curve's AUC score:\n",
      "0.9104231366459627\n",
      "\n",
      "\n",
      "\n",
      "Iteration: 2\n",
      "Sampled Genes: ['WDR5', 'LOC283104', 'ZNF44', 'LOC647859', 'FOXI3']\n",
      "Accuracy:\n",
      "0.8016194331983806\n",
      "ROC curve's AUC score:\n",
      "0.9153726708074534\n",
      "\n",
      "\n",
      "\n",
      "Iteration: 3\n",
      "Sampled Genes: ['LOC400238', 'SAMD11', 'IGFBPL1', 'FMO3', 'ZGLP1']\n",
      "Accuracy:\n",
      "0.728744939271255\n",
      "ROC curve's AUC score:\n",
      "0.923233695652174\n",
      "\n",
      "\n",
      "\n",
      "Iteration: 4\n",
      "Sampled Genes: ['YME1L1', 'ZNF815', 'TIMM8A', 'TM7SF3', 'RBM15']\n",
      "Accuracy:\n",
      "0.6072874493927125\n",
      "ROC curve's AUC score:\n",
      "0.7943517080745341\n",
      "\n",
      "\n",
      "\n",
      "Iteration: 5\n",
      "Sampled Genes: ['CHD7', 'C17orf78', 'USP33', 'NEGR1-IT1', 'FMO4']\n",
      "Accuracy:\n",
      "0.8421052631578947\n",
      "ROC curve's AUC score:\n",
      "0.8693711180124224\n",
      "\n",
      "\n",
      "\n",
      "Iteration: 6\n",
      "Sampled Genes: ['ZCCHC16', 'TPT1-AS1', 'SNORA79', 'GUSBP11', 'TTTY17B']\n",
      "Accuracy:\n",
      "0.8137651821862348\n",
      "ROC curve's AUC score:\n",
      "0.8402562111801243\n",
      "\n",
      "\n",
      "\n",
      "Iteration: 7\n",
      "Sampled Genes: ['LOC440434', 'CTU2', 'HR', 'LACC1', 'PGC']\n",
      "Accuracy:\n",
      "0.6639676113360324\n",
      "ROC curve's AUC score:\n",
      "0.8319099378881988\n",
      "\n",
      "\n",
      "\n",
      "Iteration: 8\n",
      "Sampled Genes: ['LOC100288123', 'HNRNPA3P1', 'HCCS', 'CRYGB', 'MIR29B2']\n",
      "Accuracy:\n",
      "0.708502024291498\n",
      "ROC curve's AUC score:\n",
      "0.8900427018633541\n",
      "\n",
      "\n",
      "\n",
      "Iteration: 9\n",
      "Sampled Genes: ['OR4F6', 'SPATC1', 'LOC653566', 'SH3KBP1', 'CEACAM3']\n",
      "Accuracy:\n",
      "0.6518218623481782\n",
      "ROC curve's AUC score:\n",
      "0.8379270186335405\n",
      "\n",
      "\n",
      "\n"
     ]
    }
   ],
   "source": [
    "for i in range(1,10):\n",
    "    print(\"Iteration:\", i)\n",
    "    \n",
    "    genes = list(pyrnk.index.values)\n",
    "    genes = random.sample(genes, 5)\n",
    "    print(\"Sampled Genes:\", genes)\n",
    "\n",
    "    training_x = training.loc[:, genes]\n",
    "    testing_x = testing.loc[:, genes]\n",
    "\n",
    "    training_y = training.loc[:, ['class']].T.values[0]\n",
    "    testing_y = testing.loc[:, ['class']].T.values[0]\n",
    "\n",
    "    clf = RandomForestClassifier(max_depth=2)\n",
    "    clf.fit(training_x, training_y)\n",
    "\n",
    "    print(\"Accuracy:\")\n",
    "    print(clf.score(testing_x, testing_y))\n",
    "    print(\"ROC curve's AUC score:\")\n",
    "    pred = clf.predict_proba(testing_x)\n",
    "    pred = get_probs_positive_class(pred)\n",
    "    print(metrics.roc_auc_score(np.array(testing_y, dtype=int), pred))\n",
    "    print(\"\\n\\n\")"
   ]
  },
  {
   "cell_type": "markdown",
   "metadata": {},
   "source": [
    "# Fourth Experiment: classification with Naive Bayes algorithm"
   ]
  },
  {
   "cell_type": "code",
   "execution_count": 79,
   "metadata": {},
   "outputs": [
    {
     "name": "stdout",
     "output_type": "stream",
     "text": [
      "Selected Genes: ['MIR4508', 'FIGF', 'IBSP', 'CA4', 'LRRC3B']\n",
      "Accuracy: 0.9838056680161943\n",
      "AUC score: 0.9965062111801243\n"
     ]
    }
   ],
   "source": [
    "from sklearn.naive_bayes import GaussianNB\n",
    "\n",
    "best_genes = list(pyrnk.index.values)\n",
    "best_genes = best_genes[0:5]\n",
    "print(\"Selected Genes:\", best_genes)\n",
    "\n",
    "training_x = training.loc[:, best_genes]\n",
    "testing_x = testing.loc[:, best_genes]\n",
    "\n",
    "gnb = GaussianNB()\n",
    "gnb.fit(training_x, training_y)\n",
    "\n",
    "print(\"Accuracy:\", gnb.score(testing_x, testing_y))\n",
    "pred = gnb.predict_proba(testing_x)\n",
    "pred = get_probs_positive_class(pred)\n",
    "print(\"AUC score:\", metrics.roc_auc_score(np.array(testing_y, dtype=int), pred))"
   ]
  },
  {
   "cell_type": "markdown",
   "metadata": {},
   "source": [
    "### 4.1 Naive Bayes + Random Genes (10 runs)"
   ]
  },
  {
   "cell_type": "code",
   "execution_count": 83,
   "metadata": {},
   "outputs": [
    {
     "name": "stdout",
     "output_type": "stream",
     "text": [
      "Iteration: 1\n",
      "Sampled Genes: ['NUP85', 'LOC284648', 'THBD', 'OR10R2', 'MIR190B']\n",
      "Accuracy: 0.8866396761133604\n",
      "AUC score: 0.7979425465838508\n",
      "\n",
      "\n",
      "\n",
      "Iteration: 2\n",
      "Sampled Genes: ['TSSK2', 'LOC100506650', 'HDHD1', 'LOC645752', 'HIST1H3E']\n",
      "Accuracy: 0.7692307692307693\n",
      "AUC score: 0.7688276397515528\n",
      "\n",
      "\n",
      "\n",
      "Iteration: 3\n",
      "Sampled Genes: ['MIR548AN', 'SCG3', 'ALX4', 'ZNF395', 'TGFBR1']\n",
      "Accuracy: 0.8259109311740891\n",
      "AUC score: 0.8934394409937888\n",
      "\n",
      "\n",
      "\n",
      "Iteration: 4\n",
      "Sampled Genes: ['DKK1', 'MDM1', 'SNAR-A7', 'SNHG6', 'PCDH15']\n",
      "Accuracy: 0.6153846153846154\n",
      "AUC score: 0.8049301242236025\n",
      "\n",
      "\n",
      "\n",
      "Iteration: 5\n",
      "Sampled Genes: ['MRPL53', 'ASB14', 'PCDHA10', 'COLEC11', 'GPR78']\n",
      "Accuracy: 0.7449392712550608\n",
      "AUC score: 0.8786878881987576\n",
      "\n",
      "\n",
      "\n",
      "Iteration: 6\n",
      "Sampled Genes: ['IER5L', 'RAB26', 'TNNI1', 'POGLUT1', 'PHC1']\n",
      "Accuracy: 0.8663967611336032\n",
      "AUC score: 0.9144021739130435\n",
      "\n",
      "\n",
      "\n",
      "Iteration: 7\n",
      "Sampled Genes: ['C3orf62', 'SLCO1B1', 'CLEC18A', 'PDGFD', 'TXNDC2']\n",
      "Accuracy: 0.9271255060728745\n",
      "AUC score: 0.9180900621118012\n",
      "\n",
      "\n",
      "\n",
      "Iteration: 8\n",
      "Sampled Genes: ['SP2', 'CAMK2N1', 'SSB', 'RABGGTB', 'MT1F']\n",
      "Accuracy: 0.6923076923076923\n",
      "AUC score: 0.8511257763975155\n",
      "\n",
      "\n",
      "\n",
      "Iteration: 9\n",
      "Sampled Genes: ['SYTL1', 'PPPDE2', 'TNP1', 'HIST2H2AC', 'FAM41AY1']\n",
      "Accuracy: 0.7449392712550608\n",
      "AUC score: 0.8359860248447204\n",
      "\n",
      "\n",
      "\n"
     ]
    }
   ],
   "source": [
    "for i in range(1,10):\n",
    "    print(\"Iteration:\", i)\n",
    "    \n",
    "    genes = list(pyrnk.index.values)\n",
    "    genes = random.sample(genes, 5)\n",
    "    print(\"Sampled Genes:\", genes)\n",
    "\n",
    "    training_x = training.loc[:, genes]\n",
    "    testing_x = testing.loc[:, genes]\n",
    "\n",
    "    training_y = training.loc[:, ['class']].T.values[0]\n",
    "    testing_y = testing.loc[:, ['class']].T.values[0]\n",
    "\n",
    "    gnb = GaussianNB()\n",
    "    gnb.fit(training_x, training_y)\n",
    "\n",
    "    print(\"Accuracy:\", gnb.score(testing_x, testing_y))\n",
    "    pred = gnb.predict_proba(testing_x)\n",
    "    pred = get_probs_positive_class(pred)\n",
    "    print(\"AUC score:\", metrics.roc_auc_score(np.array(testing_y, dtype=int), pred))\n",
    "    print(\"\\n\\n\")"
   ]
  },
  {
   "cell_type": "markdown",
   "metadata": {},
   "source": [
    "### And just to remember and compare, the performance with SVM over the 5 best genes"
   ]
  },
  {
   "cell_type": "code",
   "execution_count": 80,
   "metadata": {},
   "outputs": [
    {
     "name": "stdout",
     "output_type": "stream",
     "text": [
      "Selected Genes: ['MIR4508', 'FIGF', 'IBSP', 'CA4', 'LRRC3B']\n",
      "Accuracy 1.0\n",
      "AUC score: 1.0\n"
     ]
    }
   ],
   "source": [
    "best_genes = list(pyrnk.index.values)\n",
    "best_genes = best_genes[0:5]\n",
    "print(\"Selected Genes:\", best_genes)\n",
    "\n",
    "training_x = training.loc[:, best_genes]\n",
    "testing_x = testing.loc[:, best_genes]\n",
    "\n",
    "clf = SVC(gamma='auto', probability=True)\n",
    "clf.fit(training_x, training_y)\n",
    "\n",
    "print(\"Accuracy\", clf.score(testing_x, testing_y))\n",
    "pred = clf.predict_proba(testing_x)\n",
    "pred = get_probs_positive_class(pred)\n",
    "print(\"AUC score:\", metrics.roc_auc_score(np.array(testing_y, dtype=int), pred))"
   ]
  }
 ],
 "metadata": {
  "kernelspec": {
   "display_name": "Python 3",
   "language": "python",
   "name": "python3"
  },
  "language_info": {
   "codemirror_mode": {
    "name": "ipython",
    "version": 3
   },
   "file_extension": ".py",
   "mimetype": "text/x-python",
   "name": "python",
   "nbconvert_exporter": "python",
   "pygments_lexer": "ipython3",
   "version": "3.7.5"
  }
 },
 "nbformat": 4,
 "nbformat_minor": 2
}
