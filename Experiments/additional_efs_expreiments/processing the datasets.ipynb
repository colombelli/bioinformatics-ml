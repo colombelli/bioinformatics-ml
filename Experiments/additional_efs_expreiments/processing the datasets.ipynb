{
 "cells": [
  {
   "cell_type": "code",
   "execution_count": 18,
   "id": "305d6a7f",
   "metadata": {},
   "outputs": [],
   "source": [
    "from pmlb import fetch_data\n",
    "import pandas as pd"
   ]
  },
  {
   "cell_type": "code",
   "execution_count": 21,
   "id": "ce6a92eb",
   "metadata": {},
   "outputs": [],
   "source": [
    "datasets=[\n",
    "    'Hill_Valley_without_noise',\n",
    "    'clean2',\n",
    "    'sonar',\n",
    "    'spambase',\n",
    "    'spectf'\n",
    "    ]"
   ]
  },
  {
   "cell_type": "code",
   "execution_count": 25,
   "id": "6881e372",
   "metadata": {},
   "outputs": [],
   "source": [
    "def has_any_nan(df):\n",
    "    return df.isnull().values.any()\n",
    "\n",
    "\n",
    "def are_all_columns_numeric(df):\n",
    "    for col in df.columns:\n",
    "        if not pd.to_numeric(df[col], errors='coerce').notnull().all():\n",
    "            return False\n",
    "    return True\n",
    "\n",
    "\n",
    "def download_datasets(datasets, base_path):\n",
    "    for dataset in datasets:\n",
    "        print(\"Downloading and analyzing: \", dataset)\n",
    "        df = fetch_data(dataset)\n",
    "        df.rename(columns={'target': 'class'}, inplace=True)\n",
    "        print(\"Samples: \", len(df))\n",
    "        print(\"Features: \", len(df.columns)-1)  # -1 because of the class column\n",
    "        print(\"Classes counts:\")\n",
    "        print(df['class'].value_counts())\n",
    "        \n",
    "        print(\"Any nan value? \", has_any_nan(df))\n",
    "        print(\"Are all columns numeric? \", are_all_columns_numeric(df))\n",
    "        \n",
    "        print(\"Saving dataframe...\")\n",
    "        df.to_csv(base_path+dataset+\".csv\")\n",
    "        print(\"\\n\\n\")"
   ]
  },
  {
   "cell_type": "code",
   "execution_count": 26,
   "id": "f9987456",
   "metadata": {},
   "outputs": [
    {
     "name": "stdout",
     "output_type": "stream",
     "text": [
      "Downloading and analyzing:  Hill_Valley_without_noise\n",
      "Samples:  1212\n",
      "Features:  100\n",
      "Classes counts:\n",
      "1    612\n",
      "0    600\n",
      "Name: class, dtype: int64\n",
      "Any nan value?  False\n",
      "Are all columns numeric?  True\n",
      "Saving dataframe...\n",
      "\n",
      "\n",
      "\n",
      "Downloading and analyzing:  clean2\n",
      "Samples:  6598\n",
      "Features:  168\n",
      "Classes counts:\n",
      "0    5581\n",
      "1    1017\n",
      "Name: class, dtype: int64\n",
      "Any nan value?  False\n",
      "Are all columns numeric?  True\n",
      "Saving dataframe...\n",
      "\n",
      "\n",
      "\n",
      "Downloading and analyzing:  sonar\n",
      "Samples:  208\n",
      "Features:  60\n",
      "Classes counts:\n",
      "0    111\n",
      "1     97\n",
      "Name: class, dtype: int64\n",
      "Any nan value?  False\n",
      "Are all columns numeric?  True\n",
      "Saving dataframe...\n",
      "\n",
      "\n",
      "\n",
      "Downloading and analyzing:  spambase\n",
      "Samples:  4601\n",
      "Features:  57\n",
      "Classes counts:\n",
      "0    2788\n",
      "1    1813\n",
      "Name: class, dtype: int64\n",
      "Any nan value?  False\n",
      "Are all columns numeric?  True\n",
      "Saving dataframe...\n",
      "\n",
      "\n",
      "\n",
      "Downloading and analyzing:  spectf\n",
      "Samples:  349\n",
      "Features:  44\n",
      "Classes counts:\n",
      "1    254\n",
      "0     95\n",
      "Name: class, dtype: int64\n",
      "Any nan value?  False\n",
      "Are all columns numeric?  True\n",
      "Saving dataframe...\n",
      "\n",
      "\n",
      "\n"
     ]
    }
   ],
   "source": [
    "download_datasets(datasets, \"/home/colombelli/Documents/datasets/misc_ensemble/\")"
   ]
  },
  {
   "cell_type": "code",
   "execution_count": null,
   "id": "b355cac1",
   "metadata": {},
   "outputs": [],
   "source": []
  }
 ],
 "metadata": {
  "kernelspec": {
   "display_name": "Python 3",
   "language": "python",
   "name": "python3"
  },
  "language_info": {
   "codemirror_mode": {
    "name": "ipython",
    "version": 3
   },
   "file_extension": ".py",
   "mimetype": "text/x-python",
   "name": "python",
   "nbconvert_exporter": "python",
   "pygments_lexer": "ipython3",
   "version": "3.6.13"
  }
 },
 "nbformat": 4,
 "nbformat_minor": 5
}
