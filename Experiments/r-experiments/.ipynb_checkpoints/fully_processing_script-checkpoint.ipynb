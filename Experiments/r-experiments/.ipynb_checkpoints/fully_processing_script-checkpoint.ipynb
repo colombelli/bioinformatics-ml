{
 "cells": [
  {
   "cell_type": "code",
   "execution_count": 8,
   "metadata": {},
   "outputs": [
    {
     "name": "stdout",
     "output_type": "stream",
     "text": [
      "Enter interested cancer type (e.g. BRCA): BRCA\n",
      "Enter path for GSE and GSM files (file names must be the original ones): /home/colombelli/Documents/datasets/\n",
      "Enter path to save processed datasets and boxplots: /home/colombelli/Documents/test/\n"
     ]
    }
   ],
   "source": [
    "# Inputs\n",
    "\n",
    "interestedCancerType <- readline(prompt=\"Enter interested cancer type (e.g. BRCA): \")\n",
    "datasetsPath <- readline(prompt=\"Enter path for GSE and GSM files (file names must be the original ones): \")\n",
    "processedDataPath <- readline(prompt=\"Enter path to save processed datasets and boxplots: \")"
   ]
  },
  {
   "cell_type": "code",
   "execution_count": 16,
   "metadata": {},
   "outputs": [],
   "source": [
    "normalSamplesFile <- paste(datasetsPath, 'GSM1697009_06_01_15_TCGA_24.normal_Rsubread_TPM.txt', sep=\"\")\n",
    "tumorSamplesFile <- paste(datasetsPath, 'GSM1536837_06_01_15_TCGA_24.tumor_Rsubread_TPM.txt', sep=\"\")\n",
    "listOfNormalSamples <- paste(datasetsPath, 'GSE62944_06_01_15_TCGA_24_Normal_CancerType_Samples.txt', sep=\"\")\n",
    "listOfTumorSamples <- paste(datasetsPath, 'GSE62944_06_01_15_TCGA_24_CancerType_Samples.txt', sep=\"\")"
   ]
  },
  {
   "cell_type": "code",
   "execution_count": 17,
   "metadata": {},
   "outputs": [
    {
     "name": "stdout",
     "output_type": "stream",
     "text": [
      "[1] \"Reading patients IDs...\"\n"
     ]
    }
   ],
   "source": [
    "print(\"Reading patients IDs...\")\n",
    "normalIDs <- read.delim(listOfNormalSamples, header=FALSE)\n",
    "tumorIDs <- read.delim(listOfTumorSamples, header=FALSE)"
   ]
  },
  {
   "cell_type": "code",
   "execution_count": 24,
   "metadata": {},
   "outputs": [],
   "source": [
    "collectPatientIDs <- function(df) {\n",
    "    \n",
    "    patientList <- c()\n",
    "    for(i in 1:nrow(df)) {\n",
    "\n",
    "        ithPatient <- as.character(df[[\"V1\"]][i])\n",
    "        ithCancerType <- as.character(df[[\"V2\"]][i])\n",
    "\n",
    "        if (ithCancerType == interestedCancerType){\n",
    "            patientList <- append(patientList, ithPatient)\n",
    "        }\n",
    "    }\n",
    "    \n",
    "    # Exchanges \"-\" characters to \".\" characters\n",
    "    patientList <- gsub(\"-\", \"\\\\.\", patientList)    \n",
    "    patientList <- append(c(\"X\"), patientList)\n",
    "    return(patientList)\n",
    "}"
   ]
  },
  {
   "cell_type": "code",
   "execution_count": 25,
   "metadata": {},
   "outputs": [
    {
     "name": "stdout",
     "output_type": "stream",
     "text": [
      "[1] \"Colecting selected patients IDs...\"\n"
     ]
    }
   ],
   "source": [
    "print(\"Colecting selected patients IDs...\")\n",
    "normalPatientsList <- collectPatientIDs(normalIDs)\n",
    "tumorPatientsList <- collectPatientIDs(tumorIDs)"
   ]
  },
  {
   "cell_type": "code",
   "execution_count": 28,
   "metadata": {},
   "outputs": [],
   "source": [
    "# Build the vector responsible to read only the selected patients\n",
    "# The first column must be character (the name of the gene)\n",
    "# The remaining columns must be double (the gene expression TPM value)\n",
    "\n",
    "buildColumnsToLoadVector <- function(samplesPath, patientList) {\n",
    "    \n",
    "    df <- read.delim(samplesPath, header=TRUE, nrow=1)\n",
    "\n",
    "    colsToLoad <- c(\"character\")\n",
    "    for (columnName in colnames(df)[2:length(colnames(df))]){\n",
    "\n",
    "        if (columnName %in% patientList){\n",
    "            colsToLoad <- append(colsToLoad, \"double\")\n",
    "        }\n",
    "        else{\n",
    "            colsToLoad <- append(colsToLoad, \"NULL\")\n",
    "        }\n",
    "    }\n",
    "    return(colsToLoad) \n",
    "}"
   ]
  },
  {
   "cell_type": "code",
   "execution_count": 29,
   "metadata": {},
   "outputs": [
    {
     "name": "stdout",
     "output_type": "stream",
     "text": [
      "[1] \"Building vector to select only the patients for given cancer type...\"\n"
     ]
    }
   ],
   "source": [
    "print(\"Building vector to select only the patients for given cancer type...\")\n",
    "colsNormal <- buildColumnsToLoadVector(normalSamplesFile, normalPatientsList)\n",
    "colsTumor <- buildColumnsToLoadVector(tumorSamplesFile, tumorPatientsList)"
   ]
  },
  {
   "cell_type": "code",
   "execution_count": 63,
   "metadata": {},
   "outputs": [
    {
     "name": "stdout",
     "output_type": "stream",
     "text": [
      "[1] \"Reading gene expression datasets...\"\n"
     ]
    }
   ],
   "source": [
    "print(\"Reading gene expression datasets...\")\n",
    "normalDF <- read.delim(normalSamplesFile, header=TRUE, colClasses=colsNormal)\n",
    "tumorDF <- read.delim(tumorSamplesFile, header=TRUE, colClasses=colsTumor)"
   ]
  },
  {
   "cell_type": "code",
   "execution_count": 64,
   "metadata": {},
   "outputs": [
    {
     "name": "stdout",
     "output_type": "stream",
     "text": [
      "[1] \"Transposing datasets...\"\n"
     ]
    }
   ],
   "source": [
    "# Transpose df maintaining header\n",
    "print(\"Transposing datasets...\")\n",
    "normalDF <- setNames(as.data.frame(t(normalDF[,-1])), normalDF[,1])\n",
    "tumorDF <- setNames(as.data.frame(t(tumorDF[,-1])), tumorDF[,1])"
   ]
  },
  {
   "cell_type": "code",
   "execution_count": 125,
   "metadata": {},
   "outputs": [],
   "source": [
    "saveBoxplot <- function(normal, tumor, cancerType, outputPath, imageName) {\n",
    "    \n",
    "    randomSamples <- cbind(t(tumor[sample(1:nrow(tumor),size = 15),]),\n",
    "                           t(normal[sample(1:nrow(normal),size = 15),]))\n",
    "    \n",
    "    png(filename=paste(outputPath, imageName, \".png\", sep=\"\"))\n",
    "    \n",
    "    boxplot(randomSamples, main = paste(\"Cancer type:\", cancerType, \n",
    "                                        \"(tumoral and non-tumoral samples)\"),\n",
    "            xlab = \"Patients (random sampled)\", ylab = \"Gene expression value\", xaxt=\"n\")\n",
    "    \n",
    "    sink(\"NUL\")\n",
    "    dev.off()\n",
    "    sink()\n",
    "}"
   ]
  },
  {
   "cell_type": "code",
   "execution_count": 126,
   "metadata": {},
   "outputs": [
    {
     "name": "stdout",
     "output_type": "stream",
     "text": [
      "[1] \"Saving boxplot for non-normalized data...\"\n"
     ]
    }
   ],
   "source": [
    "print(\"Saving boxplot for non-normalized data...\")\n",
    "saveBoxplot(normalDF, tumorDF, interestedCancerType, processedDataPath, \"non_normalized_boxplot\")"
   ]
  },
  {
   "cell_type": "code",
   "execution_count": 81,
   "metadata": {},
   "outputs": [
    {
     "name": "stdout",
     "output_type": "stream",
     "text": [
      "[1] \"Normalizing data...\"\n"
     ]
    }
   ],
   "source": [
    "print(\"Normalizing data...\")\n",
    "normalDF <- log2(normalDF + 1)\n",
    "tumorDF <- log2(tumorDF + 1)"
   ]
  },
  {
   "cell_type": "code",
   "execution_count": 82,
   "metadata": {},
   "outputs": [
    {
     "name": "stdout",
     "output_type": "stream",
     "text": [
      "[1] \"Saving boxplot for normalized data...\"\n"
     ]
    },
    {
     "data": {
      "text/html": [
       "<strong>png:</strong> 2"
      ],
      "text/latex": [
       "\\textbf{png:} 2"
      ],
      "text/markdown": [
       "**png:** 2"
      ],
      "text/plain": [
       "png \n",
       "  2 "
      ]
     },
     "metadata": {},
     "output_type": "display_data"
    }
   ],
   "source": [
    "print(\"Saving boxplot for normalized data...\")\n",
    "saveBoxplot(normalDF, tumorDF, interestedCancerType, processedDataPath, \"normalized_boxplot\")"
   ]
  },
  {
   "cell_type": "code",
   "execution_count": 83,
   "metadata": {},
   "outputs": [
    {
     "name": "stdout",
     "output_type": "stream",
     "text": [
      "[1] \"Adding class column...\"\n"
     ]
    }
   ],
   "source": [
    "print(\"Adding class column...\")\n",
    "normalDF$class <- 0\n",
    "tumorDF$class <- 1"
   ]
  },
  {
   "cell_type": "code",
   "execution_count": 87,
   "metadata": {},
   "outputs": [
    {
     "name": "stdout",
     "output_type": "stream",
     "text": [
      "[1] \"Binding normal and tumor processed datasets...\"\n"
     ]
    }
   ],
   "source": [
    "print(\"Binding normal and tumor processed datasets...\")\n",
    "processedDF <- rbind(normalDF, tumorDF)"
   ]
  },
  {
   "cell_type": "code",
   "execution_count": 89,
   "metadata": {},
   "outputs": [
    {
     "name": "stdout",
     "output_type": "stream",
     "text": [
      "[1] \"Processed dataset will be saved in:\"\n",
      "[1] \"/home/colombelli/Documents/test/\"\n",
      "[1] \"Saving processed dataset...\"\n"
     ]
    }
   ],
   "source": [
    "print(\"Processed dataset will be saved in:\")\n",
    "print(processedDataPath)\n",
    "print(paste(\"Saving processed dataset as processed\", interestedCancerType, \".rds...\", sep=\"\"))\n",
    "saveRDS(processedDF, paste(processedDataPath, \"processed\", interestedCancerType, \".rds\", sep=\"\"))"
   ]
  },
  {
   "cell_type": "code",
   "execution_count": 135,
   "metadata": {},
   "outputs": [
    {
     "name": "stdout",
     "output_type": "stream",
     "text": [
      "Do you wish to pre-select genes based on IQR? y/n y\n",
      "Enter fraction of genes to keep (e.g. 0.6 for 60%): s\n"
     ]
    },
    {
     "name": "stderr",
     "output_type": "stream",
     "text": [
      "Warning message in eval(expr, envir, enclos):\n",
      "“NAs introduced by coercion”\n"
     ]
    }
   ],
   "source": [
    "preselWithIQR <- readline(prompt=\"Do you wish to pre-select genes based on IQR? y/n \")\n",
    "while (!(preselWithIQR %in% c(\"y\", \"n\"))) {\n",
    "    preselWithIQR <- readline(prompt=\"Please input 'y' if you want to do the IQR pre-selection or 'n' otherwise. \")\n",
    "}\n",
    "if(preselWithIQR == 'y') {\n",
    "    fractionToKeep <- as.numeric(readline(prompt=\"Enter fraction of genes to keep (e.g. 0.6 for 60%): \"))\n",
    "    while (fractionToKeep %in% c(0, NA)) {\n",
    "        sink(\"NUL\")\n",
    "        fractionToKeep <- as.numeric(readline(prompt=\"Please, enter a convertable number also different from 0: \"))\n",
    "        sink()\n",
    "    }\n",
    "}"
   ]
  },
  {
   "cell_type": "code",
   "execution_count": 122,
   "metadata": {},
   "outputs": [
    {
     "name": "stdout",
     "output_type": "stream",
     "text": [
      "[1] \"Calculating genes IQR...\"\n",
      "[1] \"Sorting genes by IQR value...\"\n",
      "[1] \"Selecting genes...\"\n",
      "[1] \"Saving new dataset as iqrSelectedGenes.rds...\"\n"
     ]
    }
   ],
   "source": [
    "if(preselWithIQR == 'y') {\n",
    "    print(\"Calculating genes IQR...\")\n",
    "    # applies IQR function column-wise for given dataset\n",
    "    genesIQR <- apply(processedDF[1:length(processedDF)-1], MARGIN=2, IQR)\n",
    "    \n",
    "    print(\"Sorting genes by IQR value...\")\n",
    "    # sort genes by IQR values\n",
    "    sortedGenesIQR <- sort(genesIQR, decreasing=TRUE)\n",
    "    \n",
    "    amountToKeep <- round(fractionToKeep * length(sortedGenesIQR))\n",
    "    \n",
    "    # get the name of the genes to keep\n",
    "    genesToKeep <- names(sortedGenesIQR)[1:amountToKeep]\n",
    "    \n",
    "    print(\"Selecting genes...\")\n",
    "    iqrSelectedGenes <- processedDF[append(genesToKeep, \"class\")]\n",
    "    \n",
    "    print(\"Saving new dataset as iqrSelectedGenes.rds...\")\n",
    "    saveRDS(iqrSelectedGenes, file=paste(processedDataPath, \"iqrSelectedGenes.rds\", sep=\"\"))\n",
    "}"
   ]
  },
  {
   "cell_type": "code",
   "execution_count": 123,
   "metadata": {},
   "outputs": [
    {
     "name": "stdout",
     "output_type": "stream",
     "text": [
      "[1] \"All done! :)\"\n"
     ]
    }
   ],
   "source": [
    "print(\"All done! :)\")"
   ]
  },
  {
   "cell_type": "code",
   "execution_count": 127,
   "metadata": {},
   "outputs": [
    {
     "name": "stdout",
     "output_type": "stream",
     "text": [
      "Enter fraction of genes to keep (e.g. 0.6 for 60%): a\n"
     ]
    },
    {
     "name": "stderr",
     "output_type": "stream",
     "text": [
      "Warning message in eval(expr, envir, enclos):\n",
      "“NAs introduced by coercion”\n"
     ]
    }
   ],
   "source": [
    "fractionToKeep <- as.numeric(readline(prompt=\"Enter fraction of genes to keep (e.g. 0.6 for 60%): \"))"
   ]
  },
  {
   "cell_type": "code",
   "execution_count": 128,
   "metadata": {},
   "outputs": [
    {
     "data": {
      "text/html": [
       "&lt;NA&gt;"
      ],
      "text/latex": [
       "<NA>"
      ],
      "text/markdown": [
       "&lt;NA&gt;"
      ],
      "text/plain": [
       "[1] NA"
      ]
     },
     "metadata": {},
     "output_type": "display_data"
    }
   ],
   "source": [
    "fractionToKeep"
   ]
  },
  {
   "cell_type": "code",
   "execution_count": null,
   "metadata": {},
   "outputs": [],
   "source": []
  }
 ],
 "metadata": {
  "kernelspec": {
   "display_name": "R",
   "language": "R",
   "name": "ir"
  },
  "language_info": {
   "codemirror_mode": "r",
   "file_extension": ".r",
   "mimetype": "text/x-r-source",
   "name": "R",
   "pygments_lexer": "r",
   "version": "3.6.1"
  }
 },
 "nbformat": 4,
 "nbformat_minor": 2
}
